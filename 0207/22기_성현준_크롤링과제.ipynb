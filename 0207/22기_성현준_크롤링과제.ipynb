{
 "cells": [
  {
   "cell_type": "markdown",
   "metadata": {
    "id": "xFZz2meUFRSG"
   },
   "source": [
    "## Requests, BeautifulSoup, Selenium 다운로드"
   ]
  },
  {
   "cell_type": "code",
   "execution_count": null,
   "metadata": {
    "colab": {
     "base_uri": "https://localhost:8080/"
    },
    "executionInfo": {
     "elapsed": 19632,
     "status": "ok",
     "timestamp": 1675766572323,
     "user": {
      "displayName": "성현준(인공지능융합대학 컴퓨터과학과)",
      "userId": "03710601677353276129"
     },
     "user_tz": -540
    },
    "id": "1nw791l8V8GX",
    "outputId": "1a339c4b-1968-4709-8e12-58ddc97f271a",
    "scrolled": true
   },
   "outputs": [],
   "source": [
    "!pip3 install requests\n",
    "!pip3 install bs4\n",
    "!pip3 install selenium"
   ]
  },
  {
   "attachments": {},
   "cell_type": "markdown",
   "metadata": {
    "id": "F5X_2leVV8Gg"
   },
   "source": [
    "### 과제 제출 형식"
   ]
  },
  {
   "attachments": {},
   "cell_type": "markdown",
   "metadata": {},
   "source": [
    "1번 과제 : 가져온 데이터를 이용하여 column이 월(Month),\n",
    "일(Day), 학사 일정(event)인 데이터프레임 만들기\n",
    "\n",
    "2번 과제 : 고려대학교 썸네일 이미지 출력하기. 어려우시면\n",
    "썸네일 이미지 URL만 적어두셔도 됩니다.\n",
    "(*힌트 : from PIL import Image와 import urllib.request)\n",
    "\n",
    "*파일 형식 : 22기_OOO_크롤링과제.ipynb"
   ]
  },
  {
   "attachments": {},
   "cell_type": "markdown",
   "metadata": {
    "id": "e6XhIHujd7C4"
   },
   "source": [
    "## 1. 연세대학교 홈페이지"
   ]
  },
  {
   "attachments": {},
   "cell_type": "markdown",
   "metadata": {},
   "source": [
    "* 연세대학교 홈페이지에서 2, 3월 학사정보 가져오기\n",
    "* 연세대학교 홈페이지 (https://www.yonsei.ac.kr/sc/)\n",
    "* 학사지원 - 학사일정\n",
    "* 가져온 데이터를 이용하여 column이 월(Month), 일(Day), 학사 일정(event)인 데이터프레임 만들기"
   ]
  },
  {
   "cell_type": "code",
   "execution_count": null,
   "metadata": {},
   "outputs": [],
   "source": [
    "import requests\n",
    "from bs4 import BeautifulSoup"
   ]
  },
  {
   "cell_type": "code",
   "execution_count": null,
   "metadata": {
    "executionInfo": {
     "elapsed": 294,
     "status": "ok",
     "timestamp": 1675766938429,
     "user": {
      "displayName": "성현준(인공지능융합대학 컴퓨터과학과)",
      "userId": "03710601677353276129"
     },
     "user_tz": -540
    },
    "id": "nPMYsL5QnYs7"
   },
   "outputs": [],
   "source": [
    "# 학사지원 - 학사일정 URL 갖고오기\n",
    "url = 'https://www.yonsei.ac.kr/sc/support/calendar.jsp'\n",
    "res = requests.get(url)\n",
    "\n",
    "# 첫번째 인자를 텍스트로 넣어줘야 함\n",
    "soup = BeautifulSoup(res.text, 'html.parser')"
   ]
  },
  {
   "cell_type": "code",
   "execution_count": null,
   "metadata": {},
   "outputs": [],
   "source": [
    "# 학사일정 표에서의 첫번째 행을 불러오기\n",
    "soup.find_all('tr')[0].get_text().replace('\\n', '').replace('\\t', '').replace('\\xa0', '')"
   ]
  },
  {
   "cell_type": "code",
   "execution_count": null,
   "metadata": {},
   "outputs": [],
   "source": []
  },
  {
   "cell_type": "markdown",
   "metadata": {
    "id": "SmxacOgJV8Gj"
   },
   "source": [
    "### BeautifulSoup"
   ]
  },
  {
   "cell_type": "code",
   "execution_count": null,
   "metadata": {
    "executionInfo": {
     "elapsed": 550,
     "status": "ok",
     "timestamp": 1675766830561,
     "user": {
      "displayName": "성현준(인공지능융합대학 컴퓨터과학과)",
      "userId": "03710601677353276129"
     },
     "user_tz": -540
    },
    "id": "DT4nc__HV8Gk"
   },
   "outputs": [],
   "source": [
    "# 임시 html 텍스트\n",
    "html = '''\n",
    "<html>\n",
    "  <head>\n",
    "    <title>Example HTML</title>\n",
    "  </head>\n",
    "  <body>\n",
    "    <div id='first' class='Example'>\n",
    "      <h3 title='Good Content Title'>Contents Title</h3>\n",
    "      <p>Test contents</p>\n",
    "    </div>\n",
    "    <div id='second' class='Example'>\n",
    "      <p>Text1</p>\n",
    "      <p>Text2</p>\n",
    "      <p>Text3</p>\n",
    "    </div>\n",
    "  </body>\n",
    "</html>\n",
    "'''"
   ]
  },
  {
   "cell_type": "code",
   "execution_count": 19,
   "metadata": {
    "executionInfo": {
     "elapsed": 9,
     "status": "ok",
     "timestamp": 1675766830563,
     "user": {
      "displayName": "성현준(인공지능융합대학 컴퓨터과학과)",
      "userId": "03710601677353276129"
     },
     "user_tz": -540
    },
    "id": "EYGf2mDuV8Gl"
   },
   "outputs": [],
   "source": [
    "from bs4 import BeautifulSoup\n",
    "\n",
    "# 첫 번째 인자: 파싱할 객체\n",
    "# 두 번째 인자: 사용할 parser(구문 분석기)\n",
    "soup = BeautifulSoup(html, 'html.parser') "
   ]
  },
  {
   "cell_type": "markdown",
   "metadata": {
    "id": "z1xI1ED-V8Gm"
   },
   "source": [
    "find(), find_all()\n",
    "\n",
    "태그 검색   \n",
    "- find(tag, attributes, recursive, text, keywords)   \n",
    "- find_all(tag, attributes, recursive, text, limit, keywords)   \n",
    "\n",
    "get_text()\n",
    "\n",
    "태그 내 텍스트 반환(부모 태그의 경우 자식 태그의 텍스트를 모두 반환)"
   ]
  },
  {
   "cell_type": "code",
   "execution_count": 20,
   "metadata": {
    "colab": {
     "base_uri": "https://localhost:8080/",
     "height": 53
    },
    "executionInfo": {
     "elapsed": 21,
     "status": "ok",
     "timestamp": 1675766833514,
     "user": {
      "displayName": "성현준(인공지능융합대학 컴퓨터과학과)",
      "userId": "03710601677353276129"
     },
     "user_tz": -540
    },
    "id": "7RZgpvX3V8Gn",
    "outputId": "e56b55e9-d2a4-45f2-eee4-ae802107d8eb"
   },
   "outputs": [
    {
     "name": "stdout",
     "output_type": "stream",
     "text": [
      "<h3 title=\"Good Content Title\">Contents Title</h3>\n"
     ]
    },
    {
     "data": {
      "text/plain": [
       "'Contents Title'"
      ]
     },
     "execution_count": 20,
     "metadata": {},
     "output_type": "execute_result"
    }
   ],
   "source": [
    "tag = soup.find('h3')\n",
    "print(tag)\n",
    "tag.get_text()"
   ]
  },
  {
   "cell_type": "code",
   "execution_count": 21,
   "metadata": {
    "colab": {
     "base_uri": "https://localhost:8080/",
     "height": 53
    },
    "executionInfo": {
     "elapsed": 316,
     "status": "ok",
     "timestamp": 1675766841941,
     "user": {
      "displayName": "성현준(인공지능융합대학 컴퓨터과학과)",
      "userId": "03710601677353276129"
     },
     "user_tz": -540
    },
    "id": "Q8OJqoaZV8Gp",
    "outputId": "cd597772-ef29-443d-e7e0-fb92bd9df4a3"
   },
   "outputs": [
    {
     "name": "stdout",
     "output_type": "stream",
     "text": [
      "<p>Test contents</p>\n"
     ]
    },
    {
     "data": {
      "text/plain": [
       "'Test contents'"
      ]
     },
     "execution_count": 21,
     "metadata": {},
     "output_type": "execute_result"
    }
   ],
   "source": [
    "tag = soup.find('p')\n",
    "print(tag)\n",
    "tag.get_text()"
   ]
  },
  {
   "cell_type": "code",
   "execution_count": 22,
   "metadata": {
    "colab": {
     "base_uri": "https://localhost:8080/"
    },
    "executionInfo": {
     "elapsed": 283,
     "status": "ok",
     "timestamp": 1675766857930,
     "user": {
      "displayName": "성현준(인공지능융합대학 컴퓨터과학과)",
      "userId": "03710601677353276129"
     },
     "user_tz": -540
    },
    "id": "wRBikSJlV8Gr",
    "outputId": "945bd4e3-dcc5-4d80-fc3d-f95ab7c93c90"
   },
   "outputs": [
    {
     "data": {
      "text/plain": [
       "[<p>Test contents</p>, <p>Text1</p>, <p>Text2</p>, <p>Text3</p>]"
      ]
     },
     "execution_count": 22,
     "metadata": {},
     "output_type": "execute_result"
    }
   ],
   "source": [
    "# find_all은 list 형태로 값 반환\n",
    "soup.find_all('p')"
   ]
  },
  {
   "cell_type": "code",
   "execution_count": 23,
   "metadata": {
    "colab": {
     "base_uri": "https://localhost:8080/",
     "height": 36
    },
    "executionInfo": {
     "elapsed": 303,
     "status": "ok",
     "timestamp": 1675766863823,
     "user": {
      "displayName": "성현준(인공지능융합대학 컴퓨터과학과)",
      "userId": "03710601677353276129"
     },
     "user_tz": -540
    },
    "id": "3J8_7Y30V8Gs",
    "outputId": "bc83127e-8608-4b0e-dfd7-78f6486d23bb"
   },
   "outputs": [
    {
     "data": {
      "text/plain": [
       "'Text2'"
      ]
     },
     "execution_count": 23,
     "metadata": {},
     "output_type": "execute_result"
    }
   ],
   "source": [
    "soup.find_all('p')[2].get_text()"
   ]
  },
  {
   "cell_type": "code",
   "execution_count": 24,
   "metadata": {
    "colab": {
     "base_uri": "https://localhost:8080/"
    },
    "executionInfo": {
     "elapsed": 294,
     "status": "ok",
     "timestamp": 1675766875279,
     "user": {
      "displayName": "성현준(인공지능융합대학 컴퓨터과학과)",
      "userId": "03710601677353276129"
     },
     "user_tz": -540
    },
    "id": "xoc6Y0Z_V8Gt",
    "outputId": "2663a701-c822-46f9-ec1a-8e0d1931fe8b"
   },
   "outputs": [
    {
     "data": {
      "text/plain": [
       "[<p>Test contents</p>, <p>Text1</p>]"
      ]
     },
     "execution_count": 24,
     "metadata": {},
     "output_type": "execute_result"
    }
   ],
   "source": [
    "# 개수 제한\n",
    "soup.find_all('p', limit=2)"
   ]
  },
  {
   "cell_type": "code",
   "execution_count": 25,
   "metadata": {
    "colab": {
     "base_uri": "https://localhost:8080/"
    },
    "executionInfo": {
     "elapsed": 9,
     "status": "ok",
     "timestamp": 1675766878386,
     "user": {
      "displayName": "성현준(인공지능융합대학 컴퓨터과학과)",
      "userId": "03710601677353276129"
     },
     "user_tz": -540
    },
    "id": "qdwuVk86vaeF",
    "outputId": "d22e9ddc-2b4e-433d-fc7d-4690c97440d5",
    "scrolled": true
   },
   "outputs": [
    {
     "data": {
      "text/plain": [
       "[<h3 title=\"Good Content Title\">Contents Title</h3>,\n",
       " <p>Test contents</p>,\n",
       " <p>Text1</p>,\n",
       " <p>Text2</p>,\n",
       " <p>Text3</p>]"
      ]
     },
     "execution_count": 25,
     "metadata": {},
     "output_type": "execute_result"
    }
   ],
   "source": [
    "# 여러 태그\n",
    "soup.find_all({'p', 'h3'})"
   ]
  },
  {
   "cell_type": "code",
   "execution_count": 26,
   "metadata": {
    "colab": {
     "base_uri": "https://localhost:8080/"
    },
    "executionInfo": {
     "elapsed": 331,
     "status": "ok",
     "timestamp": 1675766890958,
     "user": {
      "displayName": "성현준(인공지능융합대학 컴퓨터과학과)",
      "userId": "03710601677353276129"
     },
     "user_tz": -540
    },
    "id": "Oi8nufICUzpS",
    "outputId": "b867585b-220a-457a-caba-4b6bfb8b1952"
   },
   "outputs": [
    {
     "data": {
      "text/plain": [
       "<div class=\"Example\" id=\"first\">\n",
       "<h3 title=\"Good Content Title\">Contents Title</h3>\n",
       "<p>Test contents</p>\n",
       "</div>"
      ]
     },
     "execution_count": 26,
     "metadata": {},
     "output_type": "execute_result"
    }
   ],
   "source": [
    "soup.find('div')"
   ]
  },
  {
   "cell_type": "code",
   "execution_count": 27,
   "metadata": {
    "colab": {
     "base_uri": "https://localhost:8080/",
     "height": 36
    },
    "executionInfo": {
     "elapsed": 337,
     "status": "ok",
     "timestamp": 1675766896229,
     "user": {
      "displayName": "성현준(인공지능융합대학 컴퓨터과학과)",
      "userId": "03710601677353276129"
     },
     "user_tz": -540
    },
    "id": "fSBe48gQU2ut",
    "outputId": "7b9752d9-b5fb-414e-9b80-a5ae216a3cfc"
   },
   "outputs": [
    {
     "data": {
      "text/plain": [
       "'Contents TitleTest contents'"
      ]
     },
     "execution_count": 27,
     "metadata": {},
     "output_type": "execute_result"
    }
   ],
   "source": [
    "soup.find('div').get_text().replace('\\n', '')"
   ]
  },
  {
   "cell_type": "code",
   "execution_count": 28,
   "metadata": {
    "colab": {
     "base_uri": "https://localhost:8080/"
    },
    "executionInfo": {
     "elapsed": 310,
     "status": "ok",
     "timestamp": 1675766921376,
     "user": {
      "displayName": "성현준(인공지능융합대학 컴퓨터과학과)",
      "userId": "03710601677353276129"
     },
     "user_tz": -540
    },
    "id": "gS-7sAXUvaeG",
    "outputId": "b3046b2e-c5ad-4b01-b588-489293d5a799"
   },
   "outputs": [
    {
     "data": {
      "text/plain": [
       "<div class=\"Example\" id=\"second\">\n",
       "<p>Text1</p>\n",
       "<p>Text2</p>\n",
       "<p>Text3</p>\n",
       "</div>"
      ]
     },
     "execution_count": 28,
     "metadata": {},
     "output_type": "execute_result"
    }
   ],
   "source": [
    "# 특정 속성을 가진 태그 검색\n",
    "soup.find('div', {'id': 'second'})"
   ]
  },
  {
   "cell_type": "code",
   "execution_count": 29,
   "metadata": {
    "colab": {
     "base_uri": "https://localhost:8080/"
    },
    "executionInfo": {
     "elapsed": 505,
     "status": "ok",
     "timestamp": 1675766926298,
     "user": {
      "displayName": "성현준(인공지능융합대학 컴퓨터과학과)",
      "userId": "03710601677353276129"
     },
     "user_tz": -540
    },
    "id": "zfp6mLy2V8Gv",
    "outputId": "4a490755-680c-4263-c891-77fa15754da6",
    "scrolled": true
   },
   "outputs": [
    {
     "data": {
      "text/plain": [
       "<div class=\"Example\" id=\"second\">\n",
       "<p>Text1</p>\n",
       "<p>Text2</p>\n",
       "<p>Text3</p>\n",
       "</div>"
      ]
     },
     "execution_count": 29,
     "metadata": {},
     "output_type": "execute_result"
    }
   ],
   "source": [
    "# keyword 매개변수 이용\n",
    "soup.find('div', id='second')"
   ]
  },
  {
   "cell_type": "code",
   "execution_count": 30,
   "metadata": {
    "colab": {
     "base_uri": "https://localhost:8080/"
    },
    "executionInfo": {
     "elapsed": 281,
     "status": "ok",
     "timestamp": 1675766929951,
     "user": {
      "displayName": "성현준(인공지능융합대학 컴퓨터과학과)",
      "userId": "03710601677353276129"
     },
     "user_tz": -540
    },
    "id": "OWcXf_d2QhIm",
    "outputId": "a057c649-f228-451c-f9bf-8c266f4df7e0"
   },
   "outputs": [
    {
     "data": {
      "text/plain": [
       "<div class=\"Example\" id=\"second\">\n",
       "<p>Text1</p>\n",
       "<p>Text2</p>\n",
       "<p>Text3</p>\n",
       "</div>"
      ]
     },
     "execution_count": 30,
     "metadata": {},
     "output_type": "execute_result"
    }
   ],
   "source": [
    "soup.find('div', id='second', class_='Example')"
   ]
  },
  {
   "cell_type": "code",
   "execution_count": 31,
   "metadata": {
    "colab": {
     "base_uri": "https://localhost:8080/"
    },
    "executionInfo": {
     "elapsed": 316,
     "status": "ok",
     "timestamp": 1675766934594,
     "user": {
      "displayName": "성현준(인공지능융합대학 컴퓨터과학과)",
      "userId": "03710601677353276129"
     },
     "user_tz": -540
    },
    "id": "UD1mO67BV8Gx",
    "outputId": "06b528a0-6d13-4a3f-f307-8a69631c771d"
   },
   "outputs": [
    {
     "data": {
      "text/plain": [
       "<div class=\"Example\" id=\"second\">\n",
       "<p>Text1</p>\n",
       "<p>Text2</p>\n",
       "<p>Text3</p>\n",
       "</div>"
      ]
     },
     "execution_count": 31,
     "metadata": {},
     "output_type": "execute_result"
    }
   ],
   "source": [
    "# 속성이 여러 개일 경우\n",
    "attrs = {\n",
    "    'id': 'second',\n",
    "    'class': 'Example'\n",
    "}\n",
    "soup.find('div', attrs)"
   ]
  },
  {
   "cell_type": "markdown",
   "metadata": {
    "id": "HoTB2JT2V8Gy"
   },
   "source": [
    "CNN 뉴스 다시 가져와서 확인해보기"
   ]
  },
  {
   "cell_type": "markdown",
   "metadata": {
    "id": "BYFWFXHlV8G5"
   },
   "source": [
    "## 2. 동적 페이지 -  Selenium"
   ]
  },
  {
   "attachments": {},
   "cell_type": "markdown",
   "metadata": {},
   "source": [
    "* 고려대학교 네이버 썸네일 이미지 가져오기\n",
    "* 고려대학교 썸네일 이미지 출력하기\n",
    "\n",
    "(*힌트: from PIL import Image와 import urllib.request)"
   ]
  },
  {
   "cell_type": "code",
   "execution_count": 35,
   "metadata": {
    "colab": {
     "base_uri": "https://localhost:8080/",
     "height": 623
    },
    "executionInfo": {
     "elapsed": 1724,
     "status": "error",
     "timestamp": 1675767298914,
     "user": {
      "displayName": "성현준(인공지능융합대학 컴퓨터과학과)",
      "userId": "03710601677353276129"
     },
     "user_tz": -540
    },
    "id": "OSV3vRrgd7DA",
    "outputId": "1147b067-3c0a-46aa-f929-314d7478c99d"
   },
   "outputs": [],
   "source": [
    "import selenium\n",
    "from selenium import webdriver\n",
    "\n",
    "driver = webdriver.Chrome()"
   ]
  },
  {
   "cell_type": "code",
   "execution_count": 36,
   "metadata": {
    "id": "VA70xIVMV8G6"
   },
   "outputs": [],
   "source": [
    "from selenium.webdriver.common.by import By\n",
    "from selenium.webdriver.common.keys import Keys\n",
    "\n",
    "# 네이버로 URL 이동\n",
    "driver.get('https://www.naver.com/') \n",
    "\n",
    "# 웹 페이지 요소 로드를 기다림\n",
    "driver.implicitly_wait(5)"
   ]
  },
  {
   "cell_type": "markdown",
   "metadata": {
    "id": "FopGC3sfd7DC"
   },
   "source": [
    "### XPATH를 이용하여 웹 페이지 요소 가져오기"
   ]
  },
  {
   "cell_type": "code",
   "execution_count": 37,
   "metadata": {
    "id": "Z1m49DnHd7DC"
   },
   "outputs": [],
   "source": [
    "# XPATH를 이용하여 검색창에 해당하는 요소 찾기\n",
    "search = driver.find_element(By.XPATH, '//*[@id=\"query\"]')"
   ]
  },
  {
   "cell_type": "code",
   "execution_count": 38,
   "metadata": {
    "id": "JHdnPeFid7DC"
   },
   "outputs": [],
   "source": [
    "# '고려대학교' 검색어 입력\n",
    "search.send_keys('고려대학교')"
   ]
  },
  {
   "cell_type": "code",
   "execution_count": 39,
   "metadata": {
    "id": "JSVtQNTNd7DD"
   },
   "outputs": [],
   "source": [
    "# Keys.RETURN = Enter 입력\n",
    "search.send_keys(Keys.RETURN)"
   ]
  },
  {
   "cell_type": "code",
   "execution_count": 40,
   "metadata": {
    "id": "rq48mk83d7DD"
   },
   "outputs": [],
   "source": [
    "# '고려대학교' query를 검색했을때 나오는 썸네일 element의 XPATH 저장\n",
    "img = driver.find_element(By.XPATH, '//*[@id=\"main_pack\"]/div[2]/div[2]/div[1]/div/div[2]/a/img')\n",
    "img_url = img.get_attribute('src')"
   ]
  },
  {
   "cell_type": "code",
   "execution_count": 42,
   "metadata": {
    "id": "faO7xj2Rd7DD"
   },
   "outputs": [
    {
     "name": "stdout",
     "output_type": "stream",
     "text": [
      "https://search.pstatic.net/common?type=f&size=174x174&quality=100&direct=true&src=https%3A%2F%2Fldb-phinf.pstatic.net%2F20150831_220%2F1441001225877J3yXl_JPEG%2F11591604_0.jpg\n"
     ]
    }
   ],
   "source": [
    "# 고려대학교 썸네일 URL 출력\n",
    "print(img_url)"
   ]
  },
  {
   "cell_type": "code",
   "execution_count": null,
   "metadata": {},
   "outputs": [],
   "source": [
    "# 사진 출력을 위한 PILLOW 다운로드\n",
    "!pip3 install pillow"
   ]
  },
  {
   "cell_type": "code",
   "execution_count": null,
   "metadata": {},
   "outputs": [],
   "source": [
    "# 필요한 라이브러리를 불러오기\n",
    "import urllib.request \n",
    "from PIL import Image"
   ]
  },
  {
   "cell_type": "code",
   "execution_count": null,
   "metadata": {},
   "outputs": [],
   "source": [
    "# 사진을 URL request로 받고 출력\n",
    "urllib.request.urlretrieve(img_url, \"thumbnail\")\n",
    "img = Image.open(\"thumbnail\")\n",
    "img.show()"
   ]
  },
  {
   "cell_type": "code",
   "execution_count": 43,
   "metadata": {
    "id": "knePBUvjV8G7"
   },
   "outputs": [],
   "source": [
    "# 브라우저 닫기\n",
    "driver.close()"
   ]
  }
 ],
 "metadata": {
  "colab": {
   "provenance": []
  },
  "kernelspec": {
   "display_name": "Python 3",
   "language": "python",
   "name": "python3"
  },
  "language_info": {
   "codemirror_mode": {
    "name": "ipython",
    "version": 3
   },
   "file_extension": ".py",
   "mimetype": "text/x-python",
   "name": "python",
   "nbconvert_exporter": "python",
   "pygments_lexer": "ipython3",
   "version": "3.11.0"
  },
  "vscode": {
   "interpreter": {
    "hash": "c261aea317cc0286b3b3261fbba9abdec21eaa57589985bb7a274bf54d6cc0a7"
   }
  }
 },
 "nbformat": 4,
 "nbformat_minor": 1
}

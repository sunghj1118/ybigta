{
 "cells": [
  {
   "cell_type": "markdown",
   "metadata": {
    "id": "xFZz2meUFRSG"
   },
   "source": [
    "## Requests, BeautifulSoup, Selenium 다운로드"
   ]
  },
  {
   "cell_type": "code",
   "execution_count": null,
   "metadata": {
    "colab": {
     "base_uri": "https://localhost:8080/"
    },
    "executionInfo": {
     "elapsed": 19632,
     "status": "ok",
     "timestamp": 1675766572323,
     "user": {
      "displayName": "성현준(인공지능융합대학 컴퓨터과학과)",
      "userId": "03710601677353276129"
     },
     "user_tz": -540
    },
    "id": "1nw791l8V8GX",
    "outputId": "1a339c4b-1968-4709-8e12-58ddc97f271a",
    "scrolled": true
   },
   "outputs": [],
   "source": [
    "!pip3 install requests\n",
    "!pip3 install bs4\n",
    "!pip3 install selenium"
   ]
  },
  {
   "attachments": {},
   "cell_type": "markdown",
   "metadata": {
    "id": "F5X_2leVV8Gg"
   },
   "source": [
    "### 과제 제출 형식"
   ]
  },
  {
   "attachments": {},
   "cell_type": "markdown",
   "metadata": {},
   "source": [
    "1번 과제 : 가져온 데이터를 이용하여 column이 월(Month),\n",
    "일(Day), 학사 일정(event)인 데이터프레임 만들기\n",
    "\n",
    "2번 과제 : 고려대학교 썸네일 이미지 출력하기. 어려우시면\n",
    "썸네일 이미지 URL만 적어두셔도 됩니다.\n",
    "(*힌트 : from PIL import Image와 import urllib.request)\n",
    "\n",
    "*파일 형식 : 22기_OOO_크롤링과제.ipynb"
   ]
  },
  {
   "attachments": {},
   "cell_type": "markdown",
   "metadata": {
    "id": "e6XhIHujd7C4"
   },
   "source": [
    "## 1. 연세대학교 홈페이지"
   ]
  },
  {
   "attachments": {},
   "cell_type": "markdown",
   "metadata": {},
   "source": [
    "* 연세대학교 홈페이지에서 2, 3월 학사정보 가져오기\n",
    "* 연세대학교 홈페이지 (https://www.yonsei.ac.kr/sc/)\n",
    "* 학사지원 - 학사일정\n",
    "* 가져온 데이터를 이용하여 column이 월(Month), 일(Day), 학사 일정(event)인 데이터프레임 만들기"
   ]
  },
  {
   "cell_type": "code",
   "execution_count": null,
   "metadata": {
    "colab": {
     "base_uri": "https://localhost:8080/",
     "height": 157
    },
    "executionInfo": {
     "elapsed": 2001,
     "status": "ok",
     "timestamp": 1675766728717,
     "user": {
      "displayName": "성현준(인공지능융합대학 컴퓨터과학과)",
      "userId": "03710601677353276129"
     },
     "user_tz": -540
    },
    "id": "E2qtdbU8V8Gh",
    "outputId": "adf51845-aa29-4648-9f75-68172ee987d4"
   },
   "outputs": [],
   "source": [
    "import requests\n",
    "\n",
    "url = 'https://edition.cnn.com/2023/02/03/europe/bobi-worlds-oldest-ever-dog-intl-scli'\n",
    "res = requests.get(url)\n",
    "\n",
    "print(res) # 응답 객체\n",
    "res.text # HTML 텍스트"
   ]
  },
  {
   "cell_type": "markdown",
   "metadata": {
    "id": "SmxacOgJV8Gj"
   },
   "source": [
    "### BeautifulSoup"
   ]
  },
  {
   "cell_type": "code",
   "execution_count": null,
   "metadata": {
    "executionInfo": {
     "elapsed": 550,
     "status": "ok",
     "timestamp": 1675766830561,
     "user": {
      "displayName": "성현준(인공지능융합대학 컴퓨터과학과)",
      "userId": "03710601677353276129"
     },
     "user_tz": -540
    },
    "id": "DT4nc__HV8Gk"
   },
   "outputs": [],
   "source": [
    "# 임시 html 텍스트\n",
    "html = '''\n",
    "<html>\n",
    "  <head>\n",
    "    <title>Example HTML</title>\n",
    "  </head>\n",
    "  <body>\n",
    "    <div id='first' class='Example'>\n",
    "      <h3 title='Good Content Title'>Contents Title</h3>\n",
    "      <p>Test contents</p>\n",
    "    </div>\n",
    "    <div id='second' class='Example'>\n",
    "      <p>Text1</p>\n",
    "      <p>Text2</p>\n",
    "      <p>Text3</p>\n",
    "    </div>\n",
    "  </body>\n",
    "</html>\n",
    "'''"
   ]
  },
  {
   "cell_type": "code",
   "execution_count": 19,
   "metadata": {
    "executionInfo": {
     "elapsed": 9,
     "status": "ok",
     "timestamp": 1675766830563,
     "user": {
      "displayName": "성현준(인공지능융합대학 컴퓨터과학과)",
      "userId": "03710601677353276129"
     },
     "user_tz": -540
    },
    "id": "EYGf2mDuV8Gl"
   },
   "outputs": [],
   "source": [
    "from bs4 import BeautifulSoup\n",
    "\n",
    "# 첫 번째 인자: 파싱할 객체\n",
    "# 두 번째 인자: 사용할 parser(구문 분석기)\n",
    "soup = BeautifulSoup(html, 'html.parser') "
   ]
  },
  {
   "cell_type": "markdown",
   "metadata": {
    "id": "z1xI1ED-V8Gm"
   },
   "source": [
    "find(), find_all()\n",
    "\n",
    "태그 검색   \n",
    "- find(tag, attributes, recursive, text, keywords)   \n",
    "- find_all(tag, attributes, recursive, text, limit, keywords)   \n",
    "\n",
    "get_text()\n",
    "\n",
    "태그 내 텍스트 반환(부모 태그의 경우 자식 태그의 텍스트를 모두 반환)"
   ]
  },
  {
   "cell_type": "code",
   "execution_count": 20,
   "metadata": {
    "colab": {
     "base_uri": "https://localhost:8080/",
     "height": 53
    },
    "executionInfo": {
     "elapsed": 21,
     "status": "ok",
     "timestamp": 1675766833514,
     "user": {
      "displayName": "성현준(인공지능융합대학 컴퓨터과학과)",
      "userId": "03710601677353276129"
     },
     "user_tz": -540
    },
    "id": "7RZgpvX3V8Gn",
    "outputId": "e56b55e9-d2a4-45f2-eee4-ae802107d8eb"
   },
   "outputs": [
    {
     "name": "stdout",
     "output_type": "stream",
     "text": [
      "<h3 title=\"Good Content Title\">Contents Title</h3>\n"
     ]
    },
    {
     "data": {
      "text/plain": [
       "'Contents Title'"
      ]
     },
     "execution_count": 20,
     "metadata": {},
     "output_type": "execute_result"
    }
   ],
   "source": [
    "tag = soup.find('h3')\n",
    "print(tag)\n",
    "tag.get_text()"
   ]
  },
  {
   "cell_type": "code",
   "execution_count": 21,
   "metadata": {
    "colab": {
     "base_uri": "https://localhost:8080/",
     "height": 53
    },
    "executionInfo": {
     "elapsed": 316,
     "status": "ok",
     "timestamp": 1675766841941,
     "user": {
      "displayName": "성현준(인공지능융합대학 컴퓨터과학과)",
      "userId": "03710601677353276129"
     },
     "user_tz": -540
    },
    "id": "Q8OJqoaZV8Gp",
    "outputId": "cd597772-ef29-443d-e7e0-fb92bd9df4a3"
   },
   "outputs": [
    {
     "name": "stdout",
     "output_type": "stream",
     "text": [
      "<p>Test contents</p>\n"
     ]
    },
    {
     "data": {
      "text/plain": [
       "'Test contents'"
      ]
     },
     "execution_count": 21,
     "metadata": {},
     "output_type": "execute_result"
    }
   ],
   "source": [
    "tag = soup.find('p')\n",
    "print(tag)\n",
    "tag.get_text()"
   ]
  },
  {
   "cell_type": "code",
   "execution_count": 22,
   "metadata": {
    "colab": {
     "base_uri": "https://localhost:8080/"
    },
    "executionInfo": {
     "elapsed": 283,
     "status": "ok",
     "timestamp": 1675766857930,
     "user": {
      "displayName": "성현준(인공지능융합대학 컴퓨터과학과)",
      "userId": "03710601677353276129"
     },
     "user_tz": -540
    },
    "id": "wRBikSJlV8Gr",
    "outputId": "945bd4e3-dcc5-4d80-fc3d-f95ab7c93c90"
   },
   "outputs": [
    {
     "data": {
      "text/plain": [
       "[<p>Test contents</p>, <p>Text1</p>, <p>Text2</p>, <p>Text3</p>]"
      ]
     },
     "execution_count": 22,
     "metadata": {},
     "output_type": "execute_result"
    }
   ],
   "source": [
    "# find_all은 list 형태로 값 반환\n",
    "soup.find_all('p')"
   ]
  },
  {
   "cell_type": "code",
   "execution_count": 23,
   "metadata": {
    "colab": {
     "base_uri": "https://localhost:8080/",
     "height": 36
    },
    "executionInfo": {
     "elapsed": 303,
     "status": "ok",
     "timestamp": 1675766863823,
     "user": {
      "displayName": "성현준(인공지능융합대학 컴퓨터과학과)",
      "userId": "03710601677353276129"
     },
     "user_tz": -540
    },
    "id": "3J8_7Y30V8Gs",
    "outputId": "bc83127e-8608-4b0e-dfd7-78f6486d23bb"
   },
   "outputs": [
    {
     "data": {
      "text/plain": [
       "'Text2'"
      ]
     },
     "execution_count": 23,
     "metadata": {},
     "output_type": "execute_result"
    }
   ],
   "source": [
    "soup.find_all('p')[2].get_text()"
   ]
  },
  {
   "cell_type": "code",
   "execution_count": 24,
   "metadata": {
    "colab": {
     "base_uri": "https://localhost:8080/"
    },
    "executionInfo": {
     "elapsed": 294,
     "status": "ok",
     "timestamp": 1675766875279,
     "user": {
      "displayName": "성현준(인공지능융합대학 컴퓨터과학과)",
      "userId": "03710601677353276129"
     },
     "user_tz": -540
    },
    "id": "xoc6Y0Z_V8Gt",
    "outputId": "2663a701-c822-46f9-ec1a-8e0d1931fe8b"
   },
   "outputs": [
    {
     "data": {
      "text/plain": [
       "[<p>Test contents</p>, <p>Text1</p>]"
      ]
     },
     "execution_count": 24,
     "metadata": {},
     "output_type": "execute_result"
    }
   ],
   "source": [
    "# 개수 제한\n",
    "soup.find_all('p', limit=2)"
   ]
  },
  {
   "cell_type": "code",
   "execution_count": 25,
   "metadata": {
    "colab": {
     "base_uri": "https://localhost:8080/"
    },
    "executionInfo": {
     "elapsed": 9,
     "status": "ok",
     "timestamp": 1675766878386,
     "user": {
      "displayName": "성현준(인공지능융합대학 컴퓨터과학과)",
      "userId": "03710601677353276129"
     },
     "user_tz": -540
    },
    "id": "qdwuVk86vaeF",
    "outputId": "d22e9ddc-2b4e-433d-fc7d-4690c97440d5",
    "scrolled": true
   },
   "outputs": [
    {
     "data": {
      "text/plain": [
       "[<h3 title=\"Good Content Title\">Contents Title</h3>,\n",
       " <p>Test contents</p>,\n",
       " <p>Text1</p>,\n",
       " <p>Text2</p>,\n",
       " <p>Text3</p>]"
      ]
     },
     "execution_count": 25,
     "metadata": {},
     "output_type": "execute_result"
    }
   ],
   "source": [
    "# 여러 태그\n",
    "soup.find_all({'p', 'h3'})"
   ]
  },
  {
   "cell_type": "code",
   "execution_count": 26,
   "metadata": {
    "colab": {
     "base_uri": "https://localhost:8080/"
    },
    "executionInfo": {
     "elapsed": 331,
     "status": "ok",
     "timestamp": 1675766890958,
     "user": {
      "displayName": "성현준(인공지능융합대학 컴퓨터과학과)",
      "userId": "03710601677353276129"
     },
     "user_tz": -540
    },
    "id": "Oi8nufICUzpS",
    "outputId": "b867585b-220a-457a-caba-4b6bfb8b1952"
   },
   "outputs": [
    {
     "data": {
      "text/plain": [
       "<div class=\"Example\" id=\"first\">\n",
       "<h3 title=\"Good Content Title\">Contents Title</h3>\n",
       "<p>Test contents</p>\n",
       "</div>"
      ]
     },
     "execution_count": 26,
     "metadata": {},
     "output_type": "execute_result"
    }
   ],
   "source": [
    "soup.find('div')"
   ]
  },
  {
   "cell_type": "code",
   "execution_count": 27,
   "metadata": {
    "colab": {
     "base_uri": "https://localhost:8080/",
     "height": 36
    },
    "executionInfo": {
     "elapsed": 337,
     "status": "ok",
     "timestamp": 1675766896229,
     "user": {
      "displayName": "성현준(인공지능융합대학 컴퓨터과학과)",
      "userId": "03710601677353276129"
     },
     "user_tz": -540
    },
    "id": "fSBe48gQU2ut",
    "outputId": "7b9752d9-b5fb-414e-9b80-a5ae216a3cfc"
   },
   "outputs": [
    {
     "data": {
      "text/plain": [
       "'Contents TitleTest contents'"
      ]
     },
     "execution_count": 27,
     "metadata": {},
     "output_type": "execute_result"
    }
   ],
   "source": [
    "soup.find('div').get_text().replace('\\n', '')"
   ]
  },
  {
   "cell_type": "code",
   "execution_count": 28,
   "metadata": {
    "colab": {
     "base_uri": "https://localhost:8080/"
    },
    "executionInfo": {
     "elapsed": 310,
     "status": "ok",
     "timestamp": 1675766921376,
     "user": {
      "displayName": "성현준(인공지능융합대학 컴퓨터과학과)",
      "userId": "03710601677353276129"
     },
     "user_tz": -540
    },
    "id": "gS-7sAXUvaeG",
    "outputId": "b3046b2e-c5ad-4b01-b588-489293d5a799"
   },
   "outputs": [
    {
     "data": {
      "text/plain": [
       "<div class=\"Example\" id=\"second\">\n",
       "<p>Text1</p>\n",
       "<p>Text2</p>\n",
       "<p>Text3</p>\n",
       "</div>"
      ]
     },
     "execution_count": 28,
     "metadata": {},
     "output_type": "execute_result"
    }
   ],
   "source": [
    "# 특정 속성을 가진 태그 검색\n",
    "soup.find('div', {'id': 'second'})"
   ]
  },
  {
   "cell_type": "code",
   "execution_count": 29,
   "metadata": {
    "colab": {
     "base_uri": "https://localhost:8080/"
    },
    "executionInfo": {
     "elapsed": 505,
     "status": "ok",
     "timestamp": 1675766926298,
     "user": {
      "displayName": "성현준(인공지능융합대학 컴퓨터과학과)",
      "userId": "03710601677353276129"
     },
     "user_tz": -540
    },
    "id": "zfp6mLy2V8Gv",
    "outputId": "4a490755-680c-4263-c891-77fa15754da6",
    "scrolled": true
   },
   "outputs": [
    {
     "data": {
      "text/plain": [
       "<div class=\"Example\" id=\"second\">\n",
       "<p>Text1</p>\n",
       "<p>Text2</p>\n",
       "<p>Text3</p>\n",
       "</div>"
      ]
     },
     "execution_count": 29,
     "metadata": {},
     "output_type": "execute_result"
    }
   ],
   "source": [
    "# keyword 매개변수 이용\n",
    "soup.find('div', id='second')"
   ]
  },
  {
   "cell_type": "code",
   "execution_count": 30,
   "metadata": {
    "colab": {
     "base_uri": "https://localhost:8080/"
    },
    "executionInfo": {
     "elapsed": 281,
     "status": "ok",
     "timestamp": 1675766929951,
     "user": {
      "displayName": "성현준(인공지능융합대학 컴퓨터과학과)",
      "userId": "03710601677353276129"
     },
     "user_tz": -540
    },
    "id": "OWcXf_d2QhIm",
    "outputId": "a057c649-f228-451c-f9bf-8c266f4df7e0"
   },
   "outputs": [
    {
     "data": {
      "text/plain": [
       "<div class=\"Example\" id=\"second\">\n",
       "<p>Text1</p>\n",
       "<p>Text2</p>\n",
       "<p>Text3</p>\n",
       "</div>"
      ]
     },
     "execution_count": 30,
     "metadata": {},
     "output_type": "execute_result"
    }
   ],
   "source": [
    "soup.find('div', id='second', class_='Example')"
   ]
  },
  {
   "cell_type": "code",
   "execution_count": 31,
   "metadata": {
    "colab": {
     "base_uri": "https://localhost:8080/"
    },
    "executionInfo": {
     "elapsed": 316,
     "status": "ok",
     "timestamp": 1675766934594,
     "user": {
      "displayName": "성현준(인공지능융합대학 컴퓨터과학과)",
      "userId": "03710601677353276129"
     },
     "user_tz": -540
    },
    "id": "UD1mO67BV8Gx",
    "outputId": "06b528a0-6d13-4a3f-f307-8a69631c771d"
   },
   "outputs": [
    {
     "data": {
      "text/plain": [
       "<div class=\"Example\" id=\"second\">\n",
       "<p>Text1</p>\n",
       "<p>Text2</p>\n",
       "<p>Text3</p>\n",
       "</div>"
      ]
     },
     "execution_count": 31,
     "metadata": {},
     "output_type": "execute_result"
    }
   ],
   "source": [
    "# 속성이 여러 개일 경우\n",
    "attrs = {\n",
    "    'id': 'second',\n",
    "    'class': 'Example'\n",
    "}\n",
    "soup.find('div', attrs)"
   ]
  },
  {
   "cell_type": "markdown",
   "metadata": {
    "id": "HoTB2JT2V8Gy"
   },
   "source": [
    "CNN 뉴스 다시 가져와서 확인해보기"
   ]
  },
  {
   "cell_type": "code",
   "execution_count": 32,
   "metadata": {
    "executionInfo": {
     "elapsed": 294,
     "status": "ok",
     "timestamp": 1675766938429,
     "user": {
      "displayName": "성현준(인공지능융합대학 컴퓨터과학과)",
      "userId": "03710601677353276129"
     },
     "user_tz": -540
    },
    "id": "nPMYsL5QnYs7"
   },
   "outputs": [],
   "source": [
    "url = 'https://www.yonsei.ac.kr/sc/'\n",
    "res = requests.get(url)\n",
    "\n",
    "# 첫번째 인자를 텍스트로 넣어줘야 함\n",
    "soup = BeautifulSoup(res.text, 'html.parser')"
   ]
  },
  {
   "cell_type": "code",
   "execution_count": 33,
   "metadata": {
    "colab": {
     "base_uri": "https://localhost:8080/",
     "height": 36
    },
    "executionInfo": {
     "elapsed": 338,
     "status": "ok",
     "timestamp": 1675766941026,
     "user": {
      "displayName": "성현준(인공지능융합대학 컴퓨터과학과)",
      "userId": "03710601677353276129"
     },
     "user_tz": -540
    },
    "id": "ZZV8gL7Pd7C_",
    "outputId": "5bc9b0c2-56bd-45ed-9267-3dec781910c7"
   },
   "outputs": [
    {
     "data": {
      "text/plain": [
       "'\\n      Sorry, Spike. There’s a new world’s oldest living dog – and he’s the oldest ever recorded\\n    '"
      ]
     },
     "execution_count": 33,
     "metadata": {},
     "output_type": "execute_result"
    }
   ],
   "source": [
    "soup.find('h1').get_text()"
   ]
  },
  {
   "cell_type": "code",
   "execution_count": 34,
   "metadata": {
    "colab": {
     "base_uri": "https://localhost:8080/"
    },
    "executionInfo": {
     "elapsed": 417,
     "status": "ok",
     "timestamp": 1675766957533,
     "user": {
      "displayName": "성현준(인공지능융합대학 컴퓨터과학과)",
      "userId": "03710601677353276129"
     },
     "user_tz": -540
    },
    "id": "tNmHBzRbd7C_",
    "outputId": "80c1215a-2d77-4c18-a2fc-d8e619aa676d"
   },
   "outputs": [
    {
     "data": {
      "text/plain": [
       "<div class=\"header__wrapper-inner\">\n",
       "<div class=\"ad-feedback__modal modal__overlay\" id=\"ad-feedback__modal-overlay\" style=\"display:none\">\n",
       "<div class=\"ad-feedback__container\">\n",
       "<form class=\"ad-feedback__form\">\n",
       "<div class=\"ad-feedback__heading\">\n",
       "<h3 class=\"ad-feedback__heading__text\">CNN values your feedback</h3>\n",
       "<div class=\"ad-feedback__heading__close\" id=\"ad-feedback__close-icon\"></div>\n",
       "</div>\n",
       "<div class=\"ad-feedback__content-container\" data-sentiment=\"ad\">\n",
       "<div class=\"ad-feedback__question-container\">\n",
       "                                                        1. How relevant is this ad to you?\n",
       "                                                </div>\n",
       "<div class=\"ad-feedback__answers-container\">\n",
       "<div class=\"ad-feedback__emoji-container\">\n",
       "<input aria-label=\"Bad\" class=\"ad-feedback__emoji-radio-input\" id=\"ad-feedback__0-bad\" name=\"ad\" type=\"radio\" value=\"1\"/>\n",
       "<label class=\"ad-feedback__emoji-base ad-feedback__emoji-bad\" for=\"ad-feedback__0-bad\">\n",
       "</label>\n",
       "</div>\n",
       "<div class=\"ad-feedback__emoji-container\">\n",
       "<input aria-label=\"Not Good\" class=\"ad-feedback__emoji-radio-input\" id=\"ad-feedback__0-not-good\" name=\"ad\" type=\"radio\" value=\"2\"/>\n",
       "<label class=\"ad-feedback__emoji-base ad-feedback__emoji-not-good\" for=\"ad-feedback__0-not-good\">\n",
       "</label>\n",
       "</div>\n",
       "<div class=\"ad-feedback__emoji-container\">\n",
       "<input aria-label=\"Okay\" class=\"ad-feedback__emoji-radio-input\" id=\"ad-feedback__0-okay\" name=\"ad\" type=\"radio\" value=\"3\"/>\n",
       "<label class=\"ad-feedback__emoji-base ad-feedback__emoji-okay\" for=\"ad-feedback__0-okay\">\n",
       "</label>\n",
       "</div>\n",
       "<div class=\"ad-feedback__emoji-container\">\n",
       "<input aria-label=\"Good\" class=\"ad-feedback__emoji-radio-input\" id=\"ad-feedback__0-good\" name=\"ad\" type=\"radio\" value=\"4\"/>\n",
       "<label class=\"ad-feedback__emoji-base ad-feedback__emoji-good\" for=\"ad-feedback__0-good\">\n",
       "</label>\n",
       "</div>\n",
       "<div class=\"ad-feedback__emoji-container\">\n",
       "<input aria-label=\"Great\" class=\"ad-feedback__emoji-radio-input\" id=\"ad-feedback__0-great\" name=\"ad\" type=\"radio\" value=\"5\"/>\n",
       "<label class=\"ad-feedback__emoji-base ad-feedback__emoji-great\" for=\"ad-feedback__0-great\">\n",
       "</label>\n",
       "</div>\n",
       "</div>\n",
       "</div>\n",
       "<div class=\"ad-feedback__content-container\">\n",
       "<div class=\"ad-feedback__question-container\">\n",
       "                                                2. Did you encounter any technical issues?\n",
       "                                        </div>\n",
       "<div class=\"ad-feedback__technical-issues-checkbox-container\">\n",
       "<label class=\"switch\">\n",
       "<input aria-label=\"Toggle Button\" class=\"ad-feedback__technical-issues-slider\" id=\"ad-feedback__technical-issues-checkbox\" name=\"didEncounterIssues\" type=\"checkbox\"/>\n",
       "<span class=\"slider round\"></span>\n",
       "</label>\n",
       "<span class=\"ad-feedback__technical-issues-checkbox-label\"></span>\n",
       "</div>\n",
       "</div>\n",
       "<div class=\"ad-feedback__technical-issues-container\" style=\"display:none\">\n",
       "<div class=\"ad-feedback__content-container video_issues issues-checkboxes-container\" style=\"display: none\">\n",
       "<label class=\"ad-feedback__checkbox-container\">\n",
       "                                                                        Video player was slow to load content\n",
       "                                                                        <input class=\"ad-feedback__checkbox__input video_issue\" name=\"issues\" type=\"checkbox\" value=\"Video player was slow to load content\"/>\n",
       "<span class=\"ad-feedback__checkmark\"></span>\n",
       "</label>\n",
       "<label class=\"ad-feedback__checkbox-container\">\n",
       "                                                                        Video content never loaded\n",
       "                                                                        <input class=\"ad-feedback__checkbox__input video_issue\" name=\"issues\" type=\"checkbox\" value=\"Video content never loaded\"/>\n",
       "<span class=\"ad-feedback__checkmark\"></span>\n",
       "</label>\n",
       "<label class=\"ad-feedback__checkbox-container\">\n",
       "                                                                        Ad froze or did not finish loading\n",
       "                                                                        <input class=\"ad-feedback__checkbox__input video_issue\" name=\"issues\" type=\"checkbox\" value=\"Ad froze or did not finish loading\"/>\n",
       "<span class=\"ad-feedback__checkmark\"></span>\n",
       "</label>\n",
       "<label class=\"ad-feedback__checkbox-container\">\n",
       "                                                                        Video content did not start after ad\n",
       "                                                                        <input class=\"ad-feedback__checkbox__input video_issue\" name=\"issues\" type=\"checkbox\" value=\"Video content did not start after ad\"/>\n",
       "<span class=\"ad-feedback__checkmark\"></span>\n",
       "</label>\n",
       "<label class=\"ad-feedback__checkbox-container\">\n",
       "                                                                        Audio on ad was too loud\n",
       "                                                                        <input class=\"ad-feedback__checkbox__input video_issue\" name=\"issues\" type=\"checkbox\" value=\"Audio on ad was too loud\"/>\n",
       "<span class=\"ad-feedback__checkmark\"></span>\n",
       "</label>\n",
       "<label class=\"ad-feedback__checkbox-container\">\n",
       "                                                                        Other issues\n",
       "                                                                        <input class=\"ad-feedback__checkbox__input video_issue\" name=\"issues\" type=\"checkbox\" value=\"Other issues\"/>\n",
       "<span class=\"ad-feedback__checkmark\"></span>\n",
       "</label>\n",
       "</div>\n",
       "<div class=\"ad-feedback__content-container display_ad_issues issues-checkboxes-container\" style=\"display: none\">\n",
       "<label class=\"ad-feedback__checkbox-container\">\n",
       "                                                                        Ad never loaded\n",
       "                                                                        <input class=\"ad-feedback__checkbox__input display_ad_issue\" name=\"issues\" type=\"checkbox\" value=\"Ad never loaded\"/>\n",
       "<span class=\"ad-feedback__checkmark\"></span>\n",
       "</label>\n",
       "<label class=\"ad-feedback__checkbox-container\">\n",
       "                                                                        Ad prevented/slowed the page from loading\n",
       "                                                                        <input class=\"ad-feedback__checkbox__input display_ad_issue\" name=\"issues\" type=\"checkbox\" value=\"Ad prevented/slowed the page from loading\"/>\n",
       "<span class=\"ad-feedback__checkmark\"></span>\n",
       "</label>\n",
       "<label class=\"ad-feedback__checkbox-container\">\n",
       "                                                                        Content moved around while ad loaded\n",
       "                                                                        <input class=\"ad-feedback__checkbox__input display_ad_issue\" name=\"issues\" type=\"checkbox\" value=\"Content moved around while ad loaded\"/>\n",
       "<span class=\"ad-feedback__checkmark\"></span>\n",
       "</label>\n",
       "<label class=\"ad-feedback__checkbox-container\">\n",
       "                                                                        Ad was repetitive to ads I've seen previously\n",
       "                                                                        <input class=\"ad-feedback__checkbox__input display_ad_issue\" name=\"issues\" type=\"checkbox\" value=\"Ad was repetitive to ads I've seen previously\"/>\n",
       "<span class=\"ad-feedback__checkmark\"></span>\n",
       "</label>\n",
       "<label class=\"ad-feedback__checkbox-container\">\n",
       "                                                                        Other issues\n",
       "                                                                        <input class=\"ad-feedback__checkbox__input display_ad_issue\" name=\"issues\" type=\"checkbox\" value=\"Other issues\"/>\n",
       "<span class=\"ad-feedback__checkmark\"></span>\n",
       "</label>\n",
       "</div>\n",
       "<div class=\"ad-feedback__content-container\">\n",
       "<textarea class=\"ad-feedback__comment\" maxlength=\"1000\" name=\"comment\" rows=\"5\"></textarea>\n",
       "<div class=\"ad-feedback__comment-error-msg\"></div>\n",
       "</div>\n",
       "</div>\n",
       "<div class=\"ad-feedback__content-container\">\n",
       "<div class=\"ad-feedback__actions\">\n",
       "<button class=\"ad-feedback__cancel button\" id=\"ad-feedback__cancel\" type=\"button\">\n",
       "                                                        Cancel\n",
       "                                                </button>\n",
       "<button class=\"ad-feedback__submit button\" disabled=\"\" id=\"ad-feedback__submit\" type=\"submit\">\n",
       "                                                        Submit\n",
       "                                                </button>\n",
       "</div>\n",
       "</div>\n",
       "</form>\n",
       "<div class=\"ad-feedback__submitted\">\n",
       "<div class=\"ad-feedback__submitted__checkmark\"></div>\n",
       "<div class=\"ad-feedback__submitted__title\">Thank You!</div>\n",
       "<div class=\"ad-feedback__submitted__message\">\n",
       "                                        Your effort and contribution in providing this feedback is much\n",
       "                                        appreciated.\n",
       "                                </div>\n",
       "<div class=\"ad-feedback__submitted__close\" id=\"ad-feedback__submitted__close\">\n",
       "                                        Close\n",
       "                                </div>\n",
       "<div class=\"ad-feedback__submitted__close-icon\" id=\"ad-feedback__submitted__close-icon\"></div>\n",
       "</div>\n",
       "</div>\n",
       "</div>\n",
       "<div class=\"ad-slot-header\" data-uri=\"archive.cms.cnn.com/_components/ad-slot-header/instances/cnn-v1@published\">\n",
       "<div class=\"ad-slot-header__container adSlotHeaderContainer\">\n",
       "<div class=\"ad-slot\" data-desktop-slot-id=\"ad_bnr_atf_01\" data-mobile-slot-id=\"ad_bnr_atf_01\" data-path=\"header/ad-slot-header[0]/items\" data-uri=\"archive.cms.cnn.com/_components/ad-slot/instances/cnn-v1@published\">\n",
       "<div class=\"ad-slot__feedback ad-feedback-link-container\">\n",
       "<div class=\"ad-slot__ad-label\"></div>\n",
       "<div class=\"ad-feedback-link\" data-ad-identifier=\"ad_bnr_atf_01\" data-ad-type=\"DISPLAY\" data-uri=\"archive.cms.cnn.com/_components/ad-feedback-link/instances/display-ad-feedback-link@published\" style=\"display:none\">\n",
       "<svg class=\"icon-ui-speech-bubble\" viewbox=\"0 0 20 20\" xmlns=\"http://www.w3.org/2000/svg\"><path d=\"M20 0v15.3093268h-4.2732862L10.6628001 20v-4.6906732H0V0h20zm-2 2H2v11.309l10.6628001.0003268L12.662 15.421l2.2807461-2.1116732L18 13.309V2z\"></path></svg>\n",
       "<div class=\"ad-feedback-link__label\">Ad Feedback</div>\n",
       "</div>\n",
       "</div>\n",
       "</div>\n",
       "<div class=\"ad-slot-header__placeholder\"></div>\n",
       "</div>\n",
       "</div>\n",
       "<div class=\"dynamic\" data-editable=\"settings\" data-uri=\"archive.cms.cnn.com/_components/dynamic/instances/world-header-nav-v1@published\">\n",
       "<div data-uri=\"archive.cms.cnn.com/_components/dynamic-logic/instances/world-header-nav-edition-v1@published\">\n",
       "<div data-editable=\"mainComponent\">\n",
       "<nav class=\"header cnn-app-display-none\" data-analytics-aggregate-events=\"true\" data-editable=\"settings\" data-uri=\"archive.cms.cnn.com/_components/header/instances/world-v2@published\" id=\"pageHeader\">\n",
       "<div class=\"header__inner\">\n",
       "<div class=\"header__subnav-mount\">\n",
       "<div class=\"header__container\">\n",
       "<div class=\"header__left\">\n",
       "<button aria-label=\"Open Menu Icon\" class=\"header__menu-icon\" data-zjs=\"click\" data-zjs-component_id=\"header__menu-icon\" data-zjs-component_text=\"Open Menu Icon\" data-zjs-component_type=\"icon\" data-zjs-container_id=\"archive.cms.cnn.com/_components/header/instances/world-v2@published\" data-zjs-container_type=\"navigation\" data-zjs-destination_url=\"\" data-zjs-navigation-location=\"header\" data-zjs-navigation-type=\"main\" data-zjs-page_type=\"article\" data-zjs-page_variant=\"article_leaf\" id=\"headerMenuIcon\">\n",
       "<svg aria-expanded=\"false\" aria-haspopup=\"true\" aria-hidden=\"true\" class=\"header__menu-icon-svg\" role=\"img\" viewbox=\"0 0 64 63\" xmlns=\"https://www.w3.org/2000/svg\"><path d=\"M52.75,47.84H11.25a2.08,2.08,0,1,0,0,4.16h41.5a2.08,2.08,0,1,0,0-4.16Z\"></path><path d=\"M52.75,28.92H11.25a2.08,2.08,0,1,0,0,4.16h41.5a2.08,2.08,0,1,0,0-4.16Z\"></path><path d=\"M11.25,14.16h41.5a2.08,2.08,0,1,0,0-4.16H11.25a2.08,2.08,0,1,0,0,4.16Z\"></path></svg>\n",
       "</button>\n",
       "<button aria-label=\"Close Menu Icon\" class=\"header__close-icon\" data-zjs=\"click\" data-zjs-component_id=\"header__close-icon\" data-zjs-component_text=\"Close Menu Icon\" data-zjs-component_type=\"icon\" data-zjs-container_id=\"archive.cms.cnn.com/_components/header/instances/world-v2@published\" data-zjs-container_type=\"navigation\" data-zjs-destination_url=\"\" data-zjs-navigation-location=\"header\" data-zjs-navigation-type=\"main\" data-zjs-page_type=\"article\" data-zjs-page_variant=\"article_leaf\" id=\"headerCloseIcon\">\n",
       "<svg aria-expanded=\"false\" aria-haspopup=\"true\" aria-labelledby=\"closeIconTitle\" class=\"header__close-icon-svg\" fill=\"\" height=\"64\" role=\"img\" viewbox=\"0 0 64 64\" width=\"64\" xmlns=\"https://www.w3.org/2000/svg\"><title id=\"closeIconTitle\">Close icon</title><path d=\"M29.1,32L10.6,50.6c-0.8,0.8-0.8,2.1,0,2.9c0.8,0.8,2.1,0.8,2.9,0L32,34.9l18.5,18.5 c0.8,0.8,2.1,0.8,2.9,0c0.8-0.8,0.8-2.1,0-2.9L34.9,32l18.5-18.5c0.8-0.8,0.8-2.1,0-2.9s-2.1-0.8-2.9,0L32,29.1L13.5,10.6 c-0.8-0.8-2.1-0.8-2.9,0c-0.8,0.8-0.8,2.1,0,2.9L29.1,32z\"></path></svg>\n",
       "</button>\n",
       "<div class=\"brand-logo\" data-editable=\"settings\" data-uri=\"archive.cms.cnn.com/_components/brand-logo/instances/new-world-header-v1@published\">\n",
       "<a class=\"brand-logo__logo-link\" data-zjs=\"click\" data-zjs-component_id=\"https://cnn.com\" data-zjs-component_text=\"Main Logo\" data-zjs-component_type=\"icon\" data-zjs-container_id=\"\" data-zjs-container_type=\"navigation\" data-zjs-destination_url=\"https://cnn.com\" data-zjs-page_type=\"article\" data-zjs-page_variant=\"article_leaf\" href=\"https://cnn.com\" title=\"CNN logo\">\n",
       "<span class=\"brand-logo__logo\">\n",
       "<svg aria-hidden=\"true\" class=\"cnn-badge-icon\" fill=\"\" height=\"40\" viewbox=\"0 0 240 240\" width=\"40\" xmlns=\"https://www.w3.org/2000/svg\"><rect fill=\"#fff\" height=\"100%\" width=\"100%\" x=\"0\" y=\"0\"></rect><path d=\"M.31-.07v240h240V-.07ZM86.54,135.29V92.51c0-16.1,20.81-23.83,31.82-5.12.8,1.35,18.14,31.22,18.14,31.22V92.51c0-16.1,20.8-23.83,31.81-5.12.8,1.35,18.14,31.22,18.14,31.22V76.79h10.38V147a2.11,2.11,0,0,1-1.51,2.14c-1.1.3-2.26-.38-3.11-1.82-.17-.28-9-15.46-17.48-30.13L159.17,90.4c-2.18-3.7-5.43-4.35-7.74-3.72a6.23,6.23,0,0,0-4.55,6.13V147a2.12,2.12,0,0,1-1.51,2.14c-1.11.3-2.27-.38-3.11-1.82-.15-.25-8.34-14.36-16.25-28-10.08-17.38-16.7-28.78-16.8-28.95-2.18-3.71-5.44-4.35-7.77-3.72a6.24,6.24,0,0,0-4.56,6.13v53.05a2.9,2.9,0,0,1-2.72,2.71H67.23a28.64,28.64,0,0,1,0-57.28h14v10.36H67.35a18.28,18.28,0,1,0,0,36.56H83.68A2.84,2.84,0,0,0,86.54,135.29Zm124.77,12.05c0,16.1-20.81,23.83-31.82,5.13-.79-1.35-18.14-31.23-18.14-31.23v26.1c0,16.1-20.8,23.83-31.81,5.13-.8-1.35-18.14-31.23-18.14-31.23v24.61c0,11.17-6.63,17.22-17,17.22H67.25a43.14,43.14,0,0,1,0-86.28h14V87.15h-14a32.78,32.78,0,1,0,0,65.56H94.16a7,7,0,0,0,6.86-6.85V92.81a2.1,2.1,0,0,1,1.51-2.13c1.1-.3,2.26.38,3.11,1.82l16.79,28.93c9.76,16.83,16.17,27.88,16.25,28,2.19,3.7,5.45,4.35,7.78,3.71A6.22,6.22,0,0,0,151,147V92.82a2.11,2.11,0,0,1,1.49-2.14c1.09-.3,2.24.38,3.08,1.82l15.56,26.81,17.49,30.15c1.71,2.9,4.09,3.93,6.16,3.93a6,6,0,0,0,1.61-.22A6.23,6.23,0,0,0,201,147V76.79h10.34Z\" transform=\"translate(-0.31 0.07)\"></path></svg>\n",
       "</span>\n",
       "</a>\n",
       "<a class=\"brand-logo__theme-link\" data-zjs=\"click\" data-zjs-component_id=\"https://cnn.com/world\" data-zjs-component_text=\"World\" data-zjs-component_type=\"icon\" data-zjs-container_id=\"\" data-zjs-container_type=\"navigation\" data-zjs-destination_url=\"https://cnn.com/world\" data-zjs-page_type=\"article\" data-zjs-page_variant=\"article_leaf\" href=\"https://cnn.com/world\">\n",
       "<span class=\"brand-logo__theme brand-logo__section-text\">World</span>\n",
       "</a>\n",
       "</div>\n",
       "<nav class=\"header__nav\">\n",
       "<div class=\"header__nav-container\">\n",
       "<div class=\"header__nav-item\">\n",
       "<a class=\"header__nav-item-link\" data-zjs=\"click\" data-zjs-component_id=\"https://www.cnn.com/world/africa\" data-zjs-component_text=\"Africa\" data-zjs-component_type=\"link\" data-zjs-container_id=\"archive.cms.cnn.com/_components/header/instances/world-v2@published\" data-zjs-container_type=\"navigation\" data-zjs-destination_url=\"https://www.cnn.com/world/africa\" data-zjs-navigation-location=\"header\" data-zjs-navigation-type=\"main\" data-zjs-page_type=\"article\" data-zjs-page_variant=\"article_leaf\" href=\"https://www.cnn.com/world/africa\">\n",
       "                  \n",
       "                  Africa\n",
       "                </a>\n",
       "</div>\n",
       "<div class=\"header__nav-item\">\n",
       "<a class=\"header__nav-item-link\" data-zjs=\"click\" data-zjs-component_id=\"https://www.cnn.com/world/americas\" data-zjs-component_text=\"Americas\" data-zjs-component_type=\"link\" data-zjs-container_id=\"archive.cms.cnn.com/_components/header/instances/world-v2@published\" data-zjs-container_type=\"navigation\" data-zjs-destination_url=\"https://www.cnn.com/world/americas\" data-zjs-navigation-location=\"header\" data-zjs-navigation-type=\"main\" data-zjs-page_type=\"article\" data-zjs-page_variant=\"article_leaf\" href=\"https://www.cnn.com/world/americas\">\n",
       "                  \n",
       "                  Americas\n",
       "                </a>\n",
       "</div>\n",
       "<div class=\"header__nav-item\">\n",
       "<a class=\"header__nav-item-link\" data-zjs=\"click\" data-zjs-component_id=\"https://www.cnn.com/world/asia\" data-zjs-component_text=\"Asia\" data-zjs-component_type=\"link\" data-zjs-container_id=\"archive.cms.cnn.com/_components/header/instances/world-v2@published\" data-zjs-container_type=\"navigation\" data-zjs-destination_url=\"https://www.cnn.com/world/asia\" data-zjs-navigation-location=\"header\" data-zjs-navigation-type=\"main\" data-zjs-page_type=\"article\" data-zjs-page_variant=\"article_leaf\" href=\"https://www.cnn.com/world/asia\">\n",
       "                  \n",
       "                  Asia\n",
       "                </a>\n",
       "</div>\n",
       "<div class=\"header__nav-item\">\n",
       "<a class=\"header__nav-item-link\" data-zjs=\"click\" data-zjs-component_id=\"https://www.cnn.com/world/australia\" data-zjs-component_text=\"Australia\" data-zjs-component_type=\"link\" data-zjs-container_id=\"archive.cms.cnn.com/_components/header/instances/world-v2@published\" data-zjs-container_type=\"navigation\" data-zjs-destination_url=\"https://www.cnn.com/world/australia\" data-zjs-navigation-location=\"header\" data-zjs-navigation-type=\"main\" data-zjs-page_type=\"article\" data-zjs-page_variant=\"article_leaf\" href=\"https://www.cnn.com/world/australia\">\n",
       "                  \n",
       "                  Australia\n",
       "                </a>\n",
       "</div>\n",
       "<div class=\"header__nav-item\">\n",
       "<a class=\"header__nav-item-link\" data-zjs=\"click\" data-zjs-component_id=\"https://www.cnn.com/world/china\" data-zjs-component_text=\"China\" data-zjs-component_type=\"link\" data-zjs-container_id=\"archive.cms.cnn.com/_components/header/instances/world-v2@published\" data-zjs-container_type=\"navigation\" data-zjs-destination_url=\"https://www.cnn.com/world/china\" data-zjs-navigation-location=\"header\" data-zjs-navigation-type=\"main\" data-zjs-page_type=\"article\" data-zjs-page_variant=\"article_leaf\" href=\"https://www.cnn.com/world/china\">\n",
       "                  \n",
       "                  China\n",
       "                </a>\n",
       "</div>\n",
       "<div class=\"header__nav-item\">\n",
       "<a class=\"header__nav-item-link\" data-zjs=\"click\" data-zjs-component_id=\"https://www.cnn.com/world/europe\" data-zjs-component_text=\"Europe\" data-zjs-component_type=\"link\" data-zjs-container_id=\"archive.cms.cnn.com/_components/header/instances/world-v2@published\" data-zjs-container_type=\"navigation\" data-zjs-destination_url=\"https://www.cnn.com/world/europe\" data-zjs-navigation-location=\"header\" data-zjs-navigation-type=\"main\" data-zjs-page_type=\"article\" data-zjs-page_variant=\"article_leaf\" href=\"https://www.cnn.com/world/europe\">\n",
       "                  \n",
       "                  Europe\n",
       "                </a>\n",
       "</div>\n",
       "<div class=\"header__nav-item\">\n",
       "<a class=\"header__nav-item-link\" data-zjs=\"click\" data-zjs-component_id=\"https://www.cnn.com/world/india\" data-zjs-component_text=\"India\" data-zjs-component_type=\"link\" data-zjs-container_id=\"archive.cms.cnn.com/_components/header/instances/world-v2@published\" data-zjs-container_type=\"navigation\" data-zjs-destination_url=\"https://www.cnn.com/world/india\" data-zjs-navigation-location=\"header\" data-zjs-navigation-type=\"main\" data-zjs-page_type=\"article\" data-zjs-page_variant=\"article_leaf\" href=\"https://www.cnn.com/world/india\">\n",
       "                  \n",
       "                  India\n",
       "                </a>\n",
       "</div>\n",
       "<div class=\"header__nav-item\">\n",
       "<a class=\"header__nav-item-link\" data-zjs=\"click\" data-zjs-component_id=\"https://www.cnn.com/world/middle-east\" data-zjs-component_text=\"Middle East\" data-zjs-component_type=\"link\" data-zjs-container_id=\"archive.cms.cnn.com/_components/header/instances/world-v2@published\" data-zjs-container_type=\"navigation\" data-zjs-destination_url=\"https://www.cnn.com/world/middle-east\" data-zjs-navigation-location=\"header\" data-zjs-navigation-type=\"main\" data-zjs-page_type=\"article\" data-zjs-page_variant=\"article_leaf\" href=\"https://www.cnn.com/world/middle-east\">\n",
       "                  \n",
       "                  Middle East\n",
       "                </a>\n",
       "</div>\n",
       "<div class=\"header__nav-item\">\n",
       "<a class=\"header__nav-item-link\" data-zjs=\"click\" data-zjs-component_id=\"https://www.cnn.com/world/united-kingdom\" data-zjs-component_text=\"United Kingdom\" data-zjs-component_type=\"link\" data-zjs-container_id=\"archive.cms.cnn.com/_components/header/instances/world-v2@published\" data-zjs-container_type=\"navigation\" data-zjs-destination_url=\"https://www.cnn.com/world/united-kingdom\" data-zjs-navigation-location=\"header\" data-zjs-navigation-type=\"main\" data-zjs-page_type=\"article\" data-zjs-page_variant=\"article_leaf\" href=\"https://www.cnn.com/world/united-kingdom\">\n",
       "                  \n",
       "                  United Kingdom\n",
       "                </a>\n",
       "</div>\n",
       "<div class=\"header__nav-more\">\n",
       "<a class=\"header__nav-item-link header__nav-more-link header__nav-button\" data-zjs=\"click\" data-zjs-component_id=\"more_dropdown\" data-zjs-component_text=\"More\" data-zjs-component_type=\"link\" data-zjs-container_id=\"archive.cms.cnn.com/_components/header/instances/world-v2@published\" data-zjs-container_type=\"navigation\" data-zjs-destination_url=\"\" data-zjs-navigation-location=\"header\" data-zjs-navigation-type=\"main\" data-zjs-page_type=\"article\" data-zjs-page_variant=\"article_leaf\" id=\"moreDropdown\">\n",
       "                  More\n",
       "                </a>\n",
       "<div class=\"header__nav-item-dropdown\">\n",
       "<a class=\"header__nav-item-dropdown-item\" data-zjs=\"click\" data-zjs-component_id=\"https://www.cnn.com/world/africa\" data-zjs-component_text=\"Africa\" data-zjs-component_type=\"link\" data-zjs-container_id=\"\" data-zjs-container_type=\"navigation\" data-zjs-destination_url=\"https://www.cnn.com/world/africa\" data-zjs-navigation-location=\"header\" data-zjs-navigation-type=\"main\" data-zjs-page_type=\"article\" data-zjs-page_variant=\"article_leaf\" href=\"https://www.cnn.com/world/africa\">\n",
       "                    Africa\n",
       "                  </a>\n",
       "<a class=\"header__nav-item-dropdown-item\" data-zjs=\"click\" data-zjs-component_id=\"https://www.cnn.com/world/americas\" data-zjs-component_text=\"Americas\" data-zjs-component_type=\"link\" data-zjs-container_id=\"\" data-zjs-container_type=\"navigation\" data-zjs-destination_url=\"https://www.cnn.com/world/americas\" data-zjs-navigation-location=\"header\" data-zjs-navigation-type=\"main\" data-zjs-page_type=\"article\" data-zjs-page_variant=\"article_leaf\" href=\"https://www.cnn.com/world/americas\">\n",
       "                    Americas\n",
       "                  </a>\n",
       "<a class=\"header__nav-item-dropdown-item\" data-zjs=\"click\" data-zjs-component_id=\"https://www.cnn.com/world/asia\" data-zjs-component_text=\"Asia\" data-zjs-component_type=\"link\" data-zjs-container_id=\"\" data-zjs-container_type=\"navigation\" data-zjs-destination_url=\"https://www.cnn.com/world/asia\" data-zjs-navigation-location=\"header\" data-zjs-navigation-type=\"main\" data-zjs-page_type=\"article\" data-zjs-page_variant=\"article_leaf\" href=\"https://www.cnn.com/world/asia\">\n",
       "                    Asia\n",
       "                  </a>\n",
       "<a class=\"header__nav-item-dropdown-item\" data-zjs=\"click\" data-zjs-component_id=\"https://www.cnn.com/world/australia\" data-zjs-component_text=\"Australia\" data-zjs-component_type=\"link\" data-zjs-container_id=\"\" data-zjs-container_type=\"navigation\" data-zjs-destination_url=\"https://www.cnn.com/world/australia\" data-zjs-navigation-location=\"header\" data-zjs-navigation-type=\"main\" data-zjs-page_type=\"article\" data-zjs-page_variant=\"article_leaf\" href=\"https://www.cnn.com/world/australia\">\n",
       "                    Australia\n",
       "                  </a>\n",
       "<a class=\"header__nav-item-dropdown-item\" data-zjs=\"click\" data-zjs-component_id=\"https://www.cnn.com/world/china\" data-zjs-component_text=\"China\" data-zjs-component_type=\"link\" data-zjs-container_id=\"\" data-zjs-container_type=\"navigation\" data-zjs-destination_url=\"https://www.cnn.com/world/china\" data-zjs-navigation-location=\"header\" data-zjs-navigation-type=\"main\" data-zjs-page_type=\"article\" data-zjs-page_variant=\"article_leaf\" href=\"https://www.cnn.com/world/china\">\n",
       "                    China\n",
       "                  </a>\n",
       "<a class=\"header__nav-item-dropdown-item\" data-zjs=\"click\" data-zjs-component_id=\"https://www.cnn.com/world/europe\" data-zjs-component_text=\"Europe\" data-zjs-component_type=\"link\" data-zjs-container_id=\"\" data-zjs-container_type=\"navigation\" data-zjs-destination_url=\"https://www.cnn.com/world/europe\" data-zjs-navigation-location=\"header\" data-zjs-navigation-type=\"main\" data-zjs-page_type=\"article\" data-zjs-page_variant=\"article_leaf\" href=\"https://www.cnn.com/world/europe\">\n",
       "                    Europe\n",
       "                  </a>\n",
       "<a class=\"header__nav-item-dropdown-item\" data-zjs=\"click\" data-zjs-component_id=\"https://www.cnn.com/world/india\" data-zjs-component_text=\"India\" data-zjs-component_type=\"link\" data-zjs-container_id=\"\" data-zjs-container_type=\"navigation\" data-zjs-destination_url=\"https://www.cnn.com/world/india\" data-zjs-navigation-location=\"header\" data-zjs-navigation-type=\"main\" data-zjs-page_type=\"article\" data-zjs-page_variant=\"article_leaf\" href=\"https://www.cnn.com/world/india\">\n",
       "                    India\n",
       "                  </a>\n",
       "<a class=\"header__nav-item-dropdown-item\" data-zjs=\"click\" data-zjs-component_id=\"https://www.cnn.com/world/middle-east\" data-zjs-component_text=\"Middle East\" data-zjs-component_type=\"link\" data-zjs-container_id=\"\" data-zjs-container_type=\"navigation\" data-zjs-destination_url=\"https://www.cnn.com/world/middle-east\" data-zjs-navigation-location=\"header\" data-zjs-navigation-type=\"main\" data-zjs-page_type=\"article\" data-zjs-page_variant=\"article_leaf\" href=\"https://www.cnn.com/world/middle-east\">\n",
       "                    Middle East\n",
       "                  </a>\n",
       "<a class=\"header__nav-item-dropdown-item\" data-zjs=\"click\" data-zjs-component_id=\"https://www.cnn.com/world/united-kingdom\" data-zjs-component_text=\"United Kingdom\" data-zjs-component_type=\"link\" data-zjs-container_id=\"\" data-zjs-container_type=\"navigation\" data-zjs-destination_url=\"https://www.cnn.com/world/united-kingdom\" data-zjs-navigation-location=\"header\" data-zjs-navigation-type=\"main\" data-zjs-page_type=\"article\" data-zjs-page_variant=\"article_leaf\" href=\"https://www.cnn.com/world/united-kingdom\">\n",
       "                    United Kingdom\n",
       "                  </a>\n",
       "</div>\n",
       "</div>\n",
       "</div>\n",
       "</nav>\n",
       "</div>\n",
       "<div class=\"header__right\">\n",
       "<a class=\"header__audio-link header__audio-link-desktop\" data-zjs=\"click\" data-zjs-component_id=\"/audio\" data-zjs-component_text=\"Audio\" data-zjs-component_type=\"link\" data-zjs-container_id=\"archive.cms.cnn.com/_components/header/instances/world-v2@published\" data-zjs-container_type=\"navigation\" data-zjs-destination_url=\"/audio\" data-zjs-navigation-location=\"header\" data-zjs-navigation-type=\"main\" data-zjs-page_type=\"article\" data-zjs-page_variant=\"article_leaf\" href=\"/audio\">\n",
       "            Audio\n",
       "          </a>\n",
       "<a class=\"header__live-tv-link header__live-tv-link-desktop\" data-zjs=\"click\" data-zjs-component_id=\"/live-tv\" data-zjs-component_text=\"Live TV\" data-zjs-component_type=\"link\" data-zjs-container_id=\"archive.cms.cnn.com/_components/header/instances/world-v2@published\" data-zjs-container_type=\"navigation\" data-zjs-destination_url=\"/live-tv\" data-zjs-navigation-location=\"footer\" data-zjs-navigation-type=\"main\" data-zjs-page_type=\"article\" data-zjs-page_variant=\"article_leaf\" href=\"/live-tv\">\n",
       "            Live TV\n",
       "          </a>\n",
       "<button aria-label=\"Search Icon\" class=\"header__search-icon\" id=\"headerSearchIcon\">\n",
       "<svg aria-hidden=\"true\" class=\"header__search-icon-svg\" role=\"img\" viewbox=\"0 0 64 64\" xmlns=\"https://www.w3.org/2000/svg\"><path d=\"M55.3,51.89,42.46,39a19.22,19.22,0,1,0-3.38,3.43L51.9,55.29a2.38,2.38,0,0,0,3.4,0A2.42,2.42,0,0,0,55.3,51.89ZM11.2,27.28a16,16,0,1,1,16,16.07A16.07,16.07,0,0,1,11.2,27.28Z\"></path></svg>\n",
       "</button>\n",
       "<div class=\"header__user-account-nav-icon header__user-account-nav-desktop\" id=\"headerAccountNavIcon\">\n",
       "<nav aria-label=\"User Account Nav\" class=\"user-account-nav\" data-avatar-enabled=\"false\" data-editable=\"settings\" data-uri=\"archive.cms.cnn.com/_components/user-account-nav/instances/user-account-nav@published\" tabindex=\"0\">\n",
       "<div class=\"user-account-nav__icons\">\n",
       "<button aria-expanded=\"false\" aria-haspopup=\"true\" aria-label=\"User Account Nav Button\" class=\"user-account-nav__icon-button user-account-nav__icon-button--auth userAccountButton\" data-zjs=\"click\" data-zjs-component_id=\"user-account-nav__icon-button user-account-nav__icon-button--auth userAccountButton\" data-zjs-component_text=\"User Account Nav Button\" data-zjs-component_type=\"button\" data-zjs-container_id=\"\" data-zjs-container_type=\"navigation\" data-zjs-destination_url=\"\" data-zjs-navigation-location=\"\" data-zjs-navigation-type=\"\" data-zjs-page_type=\"article\" data-zjs-page_variant=\"article_leaf\">\n",
       "<svg aria-label=\"User Avatar\" class=\"icon-ui-avatar-fill\" height=\"24\" role=\"img\" viewbox=\"0 0 24 24\" width=\"24\" xmlns=\"http://www.w3.org/2000/svg\"><path d=\"M18.975 17.15c-.088-.38-.227-.563-.231-.572-.537-1.055-2.583-2.014-5.736-2.194 2.284-.622 3.806-3.113 2.79-5.727a3.94 3.94 0 00-2.233-2.233c-3.013-1.171-5.879 1.034-5.879 3.896a4.22 4.22 0 003.126 4.068c-3.118.189-5.142 1.143-5.674 2.191-.014.023-.114.173-.193.458-1.453-2.03-2.058-4.706-1.274-7.51.762-2.723 2.854-4.92 5.551-5.767C15.18 1.892 20.674 6.316 20.674 12a8.628 8.628 0 01-1.7 5.15M9.135 2.4a9.753 9.753 0 00-6.74 6.759c-1.09 3.92.169 7.628 2.68 10.043v.002l.03.027c2.433 2.321 6.026 3.435 9.813 2.353a9.752 9.752 0 006.686-6.734A10.038 10.038 0 009.134 2.4\"></path></svg>\n",
       "</button>\n",
       "<button aria-expanded=\"false\" aria-haspopup=\"true\" aria-label=\"User Account Log In Button\" class=\"user-account-nav__icon-button user-account-nav__icon-button--unauth userAccountButton\" data-login-href=\"/account/log-in\" data-zjs=\"click\" data-zjs-component_id=\"/account/log-in\" data-zjs-component_text=\"User Account Log In Button\" data-zjs-component_type=\"button\" data-zjs-container_id=\"\" data-zjs-container_type=\"navigation\" data-zjs-destination_url=\"/account/log-in\" data-zjs-navigation-location=\"\" data-zjs-navigation-type=\"\" data-zjs-page_type=\"article\" data-zjs-page_variant=\"article_leaf\" role=\"link\">\n",
       "<svg aria-label=\"User Avatar\" class=\"icon-ui-avatar-default\" height=\"24\" role=\"img\" viewbox=\"0 0 24 24\" width=\"24\" xmlns=\"http://www.w3.org/2000/svg\"><path d=\"M12 20.674a8.654 8.654 0 01-6.483-2.92c.168-.397.523-.758 1.067-1.076 1.334-.782 3.268-1.23 5.305-1.23 2.027 0 3.955.445 5.288 1.22.628.365.998.787 1.125 1.283A8.649 8.649 0 0112 20.674m1.521-7.203c-3.033 1.496-6.04-1.51-4.544-4.543a2.831 2.831 0 011.282-1.282c3.032-1.491 6.035 1.512 4.543 4.543a2.833 2.833 0 01-1.28 1.282m1.69-9.564c2.334.85 4.161 2.752 4.958 5.106.974 2.873.47 5.65-.941 7.773-.307-.486-.765-.912-1.382-1.27-.912-.53-2.054-.922-3.303-1.155a4.642 4.642 0 001.89-4.755 4.567 4.567 0 00-3.745-3.62 4.648 4.648 0 00-5.442 4.574c0 1.571.787 2.96 1.986 3.8-1.258.235-2.407.63-3.323 1.167-.536.314-.953.674-1.256 1.076A8.617 8.617 0 013.326 12c0-5.821 5.765-10.322 11.885-8.093m.112-1.368A10.052 10.052 0 002.539 15.321a9.611 9.611 0 006.138 6.14A10.052 10.052 0 0021.461 8.679a9.611 9.611 0 00-6.138-6.14\"></path></svg>\n",
       "</button>\n",
       "<button aria-expanded=\"false\" aria-haspopup=\"true\" aria-label=\"User Account Log In Button\" class=\"user-account-nav__text-button user-account-nav__text-button--unauth userAccountButton\" data-login-href=\"/account/log-in\" data-zjs=\"click\" data-zjs-component_id=\"/account/log-in\" data-zjs-component_text=\"User Account Log In Button\" data-zjs-component_type=\"button\" data-zjs-container_id=\"\" data-zjs-container_type=\"navigation\" data-zjs-destination_url=\"/account/log-in\" data-zjs-navigation-location=\"\" data-zjs-navigation-type=\"\" data-zjs-page_type=\"article\" data-zjs-page_variant=\"article_leaf\" role=\"link\">\n",
       "        Log In\n",
       "      </button>\n",
       "</div>\n",
       "<div aria-label=\"User Account Nav Menu\" class=\"user-account-nav__menu userAccountNavMenu\">\n",
       "<div aria-expanded=\"false\" aria-haspopup=\"true\" class=\"user-account-nav__menu-button userAccountNavMenuButton\" data-zjs=\"click\" data-zjs-component_id=\"user-account-nav__menu-button userAccountNavMenuButton\" data-zjs-component_text=\"My Account\" data-zjs-component_type=\"button\" data-zjs-container_id=\"\" data-zjs-container_type=\"navigation\" data-zjs-destination_url=\"\" data-zjs-navigation-location=\"\" data-zjs-navigation-type=\"\" data-zjs-page_type=\"article\" data-zjs-page_variant=\"article_leaf\">\n",
       "      My Account<span aria-hidden=\"true\"><svg class=\"icon-ui-caret-down\" height=\"24\" viewbox=\"0 0 24 24\" width=\"24\" xmlns=\"http://www.w3.org/2000/svg\"><path d=\"M12.478 17.218a.637.637 0 01-.946 0L2.206 7.2c-.225-.242-.28-.632-.093-.91a.613.613 0 01.975-.088l8.917 9.579 8.878-9.538c.225-.242.589-.3.847-.1.33.255.357.752.082 1.048l-9.334 10.027z\"></path></svg>\n",
       "</span>\n",
       "</div>\n",
       "<ul class=\"user-account-nav__menu-options userAccountNavOptions\" role=\"menu\" tabindex=\"0\">\n",
       "<li class=\"user-account-nav__menu-item\">\n",
       "<a class=\"user-account-nav__menu-link\" data-name=\"settings\" data-zjs=\"click\" data-zjs-component_id=\"/account/settings\" data-zjs-component_text=\"Settings\" data-zjs-component_type=\"link\" data-zjs-container_id=\"\" data-zjs-container_type=\"navigation\" data-zjs-destination_url=\"/account/settings\" data-zjs-navigation-location=\"\" data-zjs-navigation-type=\"\" data-zjs-page_type=\"article\" data-zjs-page_variant=\"article_leaf\" href=\"/account/settings\">\n",
       "          Settings\n",
       "        </a>\n",
       "</li>\n",
       "<li class=\"user-account-nav__menu-item\">\n",
       "<a class=\"user-account-nav__menu-link\" data-name=\"logout\" data-zjs=\"click\" data-zjs-component_id=\"#\" data-zjs-component_text=\"Log Out\" data-zjs-component_type=\"link\" data-zjs-container_id=\"\" data-zjs-container_type=\"navigation\" data-zjs-destination_url=\"#\" data-zjs-navigation-location=\"\" data-zjs-navigation-type=\"\" data-zjs-page_type=\"article\" data-zjs-page_variant=\"article_leaf\" href=\"#\">\n",
       "          Log Out\n",
       "        </a>\n",
       "</li>\n",
       "</ul>\n",
       "</div>\n",
       "<div class=\"user-account-nav__user\">\n",
       "<span class=\"user-account-nav__user__text user-account-nav__user__text--auth\">Your CNN account</span>\n",
       "<span class=\"user-account-nav__user__text user-account-nav__user__text--unauth\">Log in to your CNN account</span>\n",
       "</div>\n",
       "<a class=\"user-account-nav__override-link\" data-zjs=\"click\" data-zjs-component_id=\"user-account-nav__override-link\" data-zjs-component_text=\"\" data-zjs-component_type=\"link\" data-zjs-container_id=\"\" data-zjs-container_type=\"navigation\" data-zjs-destination_url=\"#\" data-zjs-navigation-location=\"\" data-zjs-navigation-type=\"\" data-zjs-page_type=\"article\" data-zjs-page_variant=\"article_leaf\" href=\"#\"></a>\n",
       "</nav>\n",
       "</div>\n",
       "</div>\n",
       "</div>\n",
       "<div class=\"header__subnav\">\n",
       "<div class=\"header__container\">\n",
       "<div class=\"search-bar\" data-editable=\"settings\" data-uri=\"archive.cms.cnn.com/_components/search-bar/instances/new-cnn-header-v1@published\">\n",
       "<form action=\"https://www.cnn.com/search\" class=\"search-bar__form\" name=\"q\" role=\"search\">\n",
       "<input aria-label=\"Search\" autocomplete=\"off\" class=\"search-bar__input\" data-analytics-prop-click-action=\"search-query-edit\" name=\"q\" placeholder=\"Search CNN...\" type=\"text\"/>\n",
       "<button class=\"search-bar__submit\" data-analytics-prop-click-action=\"search-query-submit\" title=\"Submit\" type=\"submit\">\n",
       "<span class=\"search-bar__button-text\">Search</span>\n",
       "<span class=\"search-bar__arrow\"><svg class=\"icon-ui-arrow-right-thick\" height=\"24\" viewbox=\"0 0 24 24\" width=\"24\" xmlns=\"http://www.w3.org/2000/svg\"><path d=\"M14.003 3.471l7.464 7.303a1.73 1.73 0 010 2.498l-7.631 7.259c-.713.688-1.921.623-2.54-.194-.496-.654-.34-1.6.25-2.17l4.918-4.666H3.5c-.776 0-1.42-.598-1.493-1.356L2 12.001l.007-.144A1.505 1.505 0 013.5 10.501h12.972l-4.751-4.66c-.594-.573-.755-1.528-.252-2.183.62-.81 1.824-.872 2.534-.187z\"></path></svg>\n",
       "</span>\n",
       "<span class=\"search-bar__search-icon\"><svg class=\"icon-ui-search\" height=\"24\" viewbox=\"0 0 24 24\" width=\"24\" xmlns=\"http://www.w3.org/2000/svg\"><path d=\"M5.068 10.427c0-2.953 2.394-5.356 5.338-5.356 2.943 0 5.338 2.403 5.338 5.356 0 2.952-2.395 5.355-5.338 5.355-2.944 0-5.338-2.403-5.338-5.355m14.697 8.201l-4.277-4.29a6.41 6.41 0 001.324-3.911c0-3.55-2.868-6.427-6.406-6.427S4 6.877 4 10.427c0 3.549 2.868 6.426 6.406 6.426a6.363 6.363 0 003.956-1.374l4.271 4.286a.799.799 0 001.132 0 .806.806 0 000-1.137\"></path></svg>\n",
       "</span>\n",
       "</button>\n",
       "</form>\n",
       "</div>\n",
       "<div class=\"header__user-account-nav-icon header__user-account-nav-mobile\" id=\"headerAccountNavIcon\">\n",
       "<nav aria-label=\"User Account Nav\" class=\"user-account-nav\" data-avatar-enabled=\"false\" data-editable=\"settings\" data-uri=\"archive.cms.cnn.com/_components/user-account-nav/instances/user-account-nav@published\" tabindex=\"0\">\n",
       "<div class=\"user-account-nav__icons\">\n",
       "<button aria-expanded=\"false\" aria-haspopup=\"true\" aria-label=\"User Account Nav Button\" class=\"user-account-nav__icon-button user-account-nav__icon-button--auth userAccountButton\" data-zjs=\"click\" data-zjs-component_id=\"user-account-nav__icon-button user-account-nav__icon-button--auth userAccountButton\" data-zjs-component_text=\"User Account Nav Button\" data-zjs-component_type=\"button\" data-zjs-container_id=\"\" data-zjs-container_type=\"navigation\" data-zjs-destination_url=\"\" data-zjs-navigation-location=\"\" data-zjs-navigation-type=\"\" data-zjs-page_type=\"article\" data-zjs-page_variant=\"article_leaf\">\n",
       "<svg aria-label=\"User Avatar\" class=\"icon-ui-avatar-fill\" height=\"24\" role=\"img\" viewbox=\"0 0 24 24\" width=\"24\" xmlns=\"http://www.w3.org/2000/svg\"><path d=\"M18.975 17.15c-.088-.38-.227-.563-.231-.572-.537-1.055-2.583-2.014-5.736-2.194 2.284-.622 3.806-3.113 2.79-5.727a3.94 3.94 0 00-2.233-2.233c-3.013-1.171-5.879 1.034-5.879 3.896a4.22 4.22 0 003.126 4.068c-3.118.189-5.142 1.143-5.674 2.191-.014.023-.114.173-.193.458-1.453-2.03-2.058-4.706-1.274-7.51.762-2.723 2.854-4.92 5.551-5.767C15.18 1.892 20.674 6.316 20.674 12a8.628 8.628 0 01-1.7 5.15M9.135 2.4a9.753 9.753 0 00-6.74 6.759c-1.09 3.92.169 7.628 2.68 10.043v.002l.03.027c2.433 2.321 6.026 3.435 9.813 2.353a9.752 9.752 0 006.686-6.734A10.038 10.038 0 009.134 2.4\"></path></svg>\n",
       "</button>\n",
       "<button aria-expanded=\"false\" aria-haspopup=\"true\" aria-label=\"User Account Log In Button\" class=\"user-account-nav__icon-button user-account-nav__icon-button--unauth userAccountButton\" data-login-href=\"/account/log-in\" data-zjs=\"click\" data-zjs-component_id=\"/account/log-in\" data-zjs-component_text=\"User Account Log In Button\" data-zjs-component_type=\"button\" data-zjs-container_id=\"\" data-zjs-container_type=\"navigation\" data-zjs-destination_url=\"/account/log-in\" data-zjs-navigation-location=\"\" data-zjs-navigation-type=\"\" data-zjs-page_type=\"article\" data-zjs-page_variant=\"article_leaf\" role=\"link\">\n",
       "<svg aria-label=\"User Avatar\" class=\"icon-ui-avatar-default\" height=\"24\" role=\"img\" viewbox=\"0 0 24 24\" width=\"24\" xmlns=\"http://www.w3.org/2000/svg\"><path d=\"M12 20.674a8.654 8.654 0 01-6.483-2.92c.168-.397.523-.758 1.067-1.076 1.334-.782 3.268-1.23 5.305-1.23 2.027 0 3.955.445 5.288 1.22.628.365.998.787 1.125 1.283A8.649 8.649 0 0112 20.674m1.521-7.203c-3.033 1.496-6.04-1.51-4.544-4.543a2.831 2.831 0 011.282-1.282c3.032-1.491 6.035 1.512 4.543 4.543a2.833 2.833 0 01-1.28 1.282m1.69-9.564c2.334.85 4.161 2.752 4.958 5.106.974 2.873.47 5.65-.941 7.773-.307-.486-.765-.912-1.382-1.27-.912-.53-2.054-.922-3.303-1.155a4.642 4.642 0 001.89-4.755 4.567 4.567 0 00-3.745-3.62 4.648 4.648 0 00-5.442 4.574c0 1.571.787 2.96 1.986 3.8-1.258.235-2.407.63-3.323 1.167-.536.314-.953.674-1.256 1.076A8.617 8.617 0 013.326 12c0-5.821 5.765-10.322 11.885-8.093m.112-1.368A10.052 10.052 0 002.539 15.321a9.611 9.611 0 006.138 6.14A10.052 10.052 0 0021.461 8.679a9.611 9.611 0 00-6.138-6.14\"></path></svg>\n",
       "</button>\n",
       "<button aria-expanded=\"false\" aria-haspopup=\"true\" aria-label=\"User Account Log In Button\" class=\"user-account-nav__text-button user-account-nav__text-button--unauth userAccountButton\" data-login-href=\"/account/log-in\" data-zjs=\"click\" data-zjs-component_id=\"/account/log-in\" data-zjs-component_text=\"User Account Log In Button\" data-zjs-component_type=\"button\" data-zjs-container_id=\"\" data-zjs-container_type=\"navigation\" data-zjs-destination_url=\"/account/log-in\" data-zjs-navigation-location=\"\" data-zjs-navigation-type=\"\" data-zjs-page_type=\"article\" data-zjs-page_variant=\"article_leaf\" role=\"link\">\n",
       "        Log In\n",
       "      </button>\n",
       "</div>\n",
       "<div aria-label=\"User Account Nav Menu\" class=\"user-account-nav__menu userAccountNavMenu\">\n",
       "<div aria-expanded=\"false\" aria-haspopup=\"true\" class=\"user-account-nav__menu-button userAccountNavMenuButton\" data-zjs=\"click\" data-zjs-component_id=\"user-account-nav__menu-button userAccountNavMenuButton\" data-zjs-component_text=\"My Account\" data-zjs-component_type=\"button\" data-zjs-container_id=\"\" data-zjs-container_type=\"navigation\" data-zjs-destination_url=\"\" data-zjs-navigation-location=\"\" data-zjs-navigation-type=\"\" data-zjs-page_type=\"article\" data-zjs-page_variant=\"article_leaf\">\n",
       "      My Account<span aria-hidden=\"true\"><svg class=\"icon-ui-caret-down\" height=\"24\" viewbox=\"0 0 24 24\" width=\"24\" xmlns=\"http://www.w3.org/2000/svg\"><path d=\"M12.478 17.218a.637.637 0 01-.946 0L2.206 7.2c-.225-.242-.28-.632-.093-.91a.613.613 0 01.975-.088l8.917 9.579 8.878-9.538c.225-.242.589-.3.847-.1.33.255.357.752.082 1.048l-9.334 10.027z\"></path></svg>\n",
       "</span>\n",
       "</div>\n",
       "<ul class=\"user-account-nav__menu-options userAccountNavOptions\" role=\"menu\" tabindex=\"0\">\n",
       "<li class=\"user-account-nav__menu-item\">\n",
       "<a class=\"user-account-nav__menu-link\" data-name=\"settings\" data-zjs=\"click\" data-zjs-component_id=\"/account/settings\" data-zjs-component_text=\"Settings\" data-zjs-component_type=\"link\" data-zjs-container_id=\"\" data-zjs-container_type=\"navigation\" data-zjs-destination_url=\"/account/settings\" data-zjs-navigation-location=\"\" data-zjs-navigation-type=\"\" data-zjs-page_type=\"article\" data-zjs-page_variant=\"article_leaf\" href=\"/account/settings\">\n",
       "          Settings\n",
       "        </a>\n",
       "</li>\n",
       "<li class=\"user-account-nav__menu-item\">\n",
       "<a class=\"user-account-nav__menu-link\" data-name=\"logout\" data-zjs=\"click\" data-zjs-component_id=\"#\" data-zjs-component_text=\"Log Out\" data-zjs-component_type=\"link\" data-zjs-container_id=\"\" data-zjs-container_type=\"navigation\" data-zjs-destination_url=\"#\" data-zjs-navigation-location=\"\" data-zjs-navigation-type=\"\" data-zjs-page_type=\"article\" data-zjs-page_variant=\"article_leaf\" href=\"#\">\n",
       "          Log Out\n",
       "        </a>\n",
       "</li>\n",
       "</ul>\n",
       "</div>\n",
       "<div class=\"user-account-nav__user\">\n",
       "<span class=\"user-account-nav__user__text user-account-nav__user__text--auth\">Your CNN account</span>\n",
       "<span class=\"user-account-nav__user__text user-account-nav__user__text--unauth\">Log in to your CNN account</span>\n",
       "</div>\n",
       "<a class=\"user-account-nav__override-link\" data-zjs=\"click\" data-zjs-component_id=\"user-account-nav__override-link\" data-zjs-component_text=\"\" data-zjs-component_type=\"link\" data-zjs-container_id=\"\" data-zjs-container_type=\"navigation\" data-zjs-destination_url=\"#\" data-zjs-navigation-location=\"\" data-zjs-navigation-type=\"\" data-zjs-page_type=\"article\" data-zjs-page_variant=\"article_leaf\" href=\"#\"></a>\n",
       "</nav>\n",
       "</div>\n",
       "<hr class=\"header__divider header__divider--full-width header__user-account-nav-mobile\"/>\n",
       "<a class=\"header__live-tv-link header__live-tv-link-mobile\" data-zjs=\"click\" data-zjs-component_id=\"/live-tv\" data-zjs-component_text=\"Live TV\" data-zjs-component_type=\"link\" data-zjs-container_id=\"archive.cms.cnn.com/_components/header/instances/world-v2@published\" data-zjs-container_type=\"navigation\" data-zjs-destination_url=\"/live-tv\" data-zjs-navigation-location=\"footer\" data-zjs-navigation-type=\"main\" data-zjs-page_type=\"article\" data-zjs-page_variant=\"article_leaf\" href=\"/live-tv\">\n",
       "            Live TV\n",
       "          </a>\n",
       "<a class=\"header__audio-link header__audio-link-mobile\" data-zjs=\"click\" data-zjs-component_id=\"/audio\" data-zjs-component_text=\"Audio\" data-zjs-component_type=\"link\" data-zjs-container_id=\"archive.cms.cnn.com/_components/header/instances/world-v2@published\" data-zjs-container_type=\"navigation\" data-zjs-destination_url=\"/audio\" data-zjs-navigation-location=\"header\" data-zjs-navigation-type=\"main\" data-zjs-page_type=\"article\" data-zjs-page_variant=\"article_leaf\" href=\"/audio\">\n",
       "            Audio\n",
       "          </a>\n",
       "<hr class=\"header__divider header__divider--full-width header__mobile-only\"/>\n",
       "<nav class=\"header__editionizer\">\n",
       "<div class=\"header__editionizer-desktop\">\n",
       "<div class=\"header__editionizer-header\">Edition</div>\n",
       "<div class=\"header__editionizer-item\">\n",
       "<a aria-label=\"US Edition Link\" class=\"header__editionizer-link\" data-zjs=\"click\" data-zjs-component_id=\"https://us.cnn.com?hpt=header_edition-picker\" data-zjs-component_text=\"US\" data-zjs-component_type=\"link\" data-zjs-container_id=\"\" data-zjs-container_type=\"navigation\" data-zjs-destination_url=\"https://us.cnn.com?hpt=header_edition-picker\" data-zjs-navigation-location=\"header\" data-zjs-navigation-type=\"sub\" data-zjs-page_type=\"article\" data-zjs-page_variant=\"article_leaf\" href=\"https://us.cnn.com?hpt=header_edition-picker\">\n",
       "                  US\n",
       "                </a>\n",
       "</div>\n",
       "<div class=\"header__editionizer-item\">\n",
       "<a aria-label=\"International Edition Link\" class=\"header__editionizer-link\" data-zjs=\"click\" data-zjs-component_id=\"https://edition.cnn.com?hpt=header_edition-picker\" data-zjs-component_text=\"International\" data-zjs-component_type=\"link\" data-zjs-container_id=\"\" data-zjs-container_type=\"navigation\" data-zjs-destination_url=\"https://edition.cnn.com?hpt=header_edition-picker\" data-zjs-navigation-location=\"header\" data-zjs-navigation-type=\"sub\" data-zjs-page_type=\"article\" data-zjs-page_variant=\"article_leaf\" href=\"https://edition.cnn.com?hpt=header_edition-picker\">\n",
       "                  International\n",
       "                </a>\n",
       "</div>\n",
       "<div class=\"header__editionizer-item\">\n",
       "<a aria-label=\"Arabic Edition Link\" class=\"header__editionizer-link\" data-zjs=\"click\" data-zjs-component_id=\"https://arabic.cnn.com?hpt=header_edition-picker\" data-zjs-component_text=\"Arabic\" data-zjs-component_type=\"link\" data-zjs-container_id=\"\" data-zjs-container_type=\"navigation\" data-zjs-destination_url=\"https://arabic.cnn.com?hpt=header_edition-picker\" data-zjs-navigation-location=\"header\" data-zjs-navigation-type=\"sub\" data-zjs-page_type=\"article\" data-zjs-page_variant=\"article_leaf\" href=\"https://arabic.cnn.com?hpt=header_edition-picker\">\n",
       "                  Arabic\n",
       "                </a>\n",
       "</div>\n",
       "<div class=\"header__editionizer-item\">\n",
       "<a aria-label=\"Español Edition Link\" class=\"header__editionizer-link\" data-zjs=\"click\" data-zjs-component_id=\"https://cnnespanol.cnn.com/?hpt=header_edition-picker\" data-zjs-component_text=\"Español\" data-zjs-component_type=\"link\" data-zjs-container_id=\"\" data-zjs-container_type=\"navigation\" data-zjs-destination_url=\"https://cnnespanol.cnn.com/?hpt=header_edition-picker\" data-zjs-navigation-location=\"header\" data-zjs-navigation-type=\"sub\" data-zjs-page_type=\"article\" data-zjs-page_variant=\"article_leaf\" href=\"https://cnnespanol.cnn.com/?hpt=header_edition-picker\">\n",
       "                  Español\n",
       "                </a>\n",
       "</div>\n",
       "</div>\n",
       "<div class=\"header__editionizer-mobile\">\n",
       "<div aria-expanded=\"false\" aria-haspopup=\"true\" class=\"header__editionizer-button\">\n",
       "                Edition<span aria-hidden=\"true\" class=\"header__editionizer-caret\"><svg class=\"icon-ui-caret-down\" height=\"24\" viewbox=\"0 0 24 24\" width=\"24\" xmlns=\"http://www.w3.org/2000/svg\"><path d=\"M12.478 17.218a.637.637 0 01-.946 0L2.206 7.2c-.225-.242-.28-.632-.093-.91a.613.613 0 01.975-.088l8.917 9.579 8.878-9.538c.225-.242.589-.3.847-.1.33.255.357.752.082 1.048l-9.334 10.027z\"></path></svg>\n",
       "</span>\n",
       "</div>\n",
       "<ul class=\"header__editionizer-menu\">\n",
       "<li class=\"header__editionizer-item\">\n",
       "<a class=\"header__editionizer-link\" data-zjs=\"click\" data-zjs-component_id=\"https://us.cnn.com?hpt=header_edition-picker\" data-zjs-component_text=\"US\" data-zjs-component_type=\"link\" data-zjs-container_id=\"\" data-zjs-container_type=\"navigation\" data-zjs-destination_url=\"https://us.cnn.com?hpt=header_edition-picker\" data-zjs-navigation-location=\"header\" data-zjs-navigation-type=\"sub\" data-zjs-page_type=\"article\" data-zjs-page_variant=\"article_leaf\" href=\"https://us.cnn.com?hpt=header_edition-picker\">\n",
       "                  US\n",
       "                </a>\n",
       "</li>\n",
       "<li class=\"header__editionizer-item\">\n",
       "<a class=\"header__editionizer-link\" data-zjs=\"click\" data-zjs-component_id=\"https://edition.cnn.com?hpt=header_edition-picker\" data-zjs-component_text=\"International\" data-zjs-component_type=\"link\" data-zjs-container_id=\"\" data-zjs-container_type=\"navigation\" data-zjs-destination_url=\"https://edition.cnn.com?hpt=header_edition-picker\" data-zjs-navigation-location=\"header\" data-zjs-navigation-type=\"sub\" data-zjs-page_type=\"article\" data-zjs-page_variant=\"article_leaf\" href=\"https://edition.cnn.com?hpt=header_edition-picker\">\n",
       "                  International\n",
       "                </a>\n",
       "</li>\n",
       "<li class=\"header__editionizer-item\">\n",
       "<a class=\"header__editionizer-link\" data-zjs=\"click\" data-zjs-component_id=\"https://arabic.cnn.com?hpt=header_edition-picker\" data-zjs-component_text=\"Arabic\" data-zjs-component_type=\"link\" data-zjs-container_id=\"\" data-zjs-container_type=\"navigation\" data-zjs-destination_url=\"https://arabic.cnn.com?hpt=header_edition-picker\" data-zjs-navigation-location=\"header\" data-zjs-navigation-type=\"sub\" data-zjs-page_type=\"article\" data-zjs-page_variant=\"article_leaf\" href=\"https://arabic.cnn.com?hpt=header_edition-picker\">\n",
       "                  Arabic\n",
       "                </a>\n",
       "</li>\n",
       "<li class=\"header__editionizer-item\">\n",
       "<a class=\"header__editionizer-link\" data-zjs=\"click\" data-zjs-component_id=\"https://cnnespanol.cnn.com/?hpt=header_edition-picker\" data-zjs-component_text=\"Español\" data-zjs-component_type=\"link\" data-zjs-container_id=\"\" data-zjs-container_type=\"navigation\" data-zjs-destination_url=\"https://cnnespanol.cnn.com/?hpt=header_edition-picker\" data-zjs-navigation-location=\"header\" data-zjs-navigation-type=\"sub\" data-zjs-page_type=\"article\" data-zjs-page_variant=\"article_leaf\" href=\"https://cnnespanol.cnn.com/?hpt=header_edition-picker\">\n",
       "                  Español\n",
       "                </a>\n",
       "</li>\n",
       "</ul>\n",
       "</div>\n",
       "</nav>\n",
       "<hr class=\"header__divider header__divider--full-width\"/>\n",
       "<div class=\"header__mobile-nav\">\n",
       "<nav class=\"header__nav\">\n",
       "<div class=\"header__subnav-item\">\n",
       "<a class=\"header__nav-item-link header__nav-item-link-centered\" data-zjs=\"click\" data-zjs-component_id=\"https://www.cnn.com/world/africa\" data-zjs-component_text=\"Africa\" data-zjs-component_type=\"link\" data-zjs-container_id=\"\" data-zjs-container_type=\"navigation\" data-zjs-destination_url=\"https://www.cnn.com/world/africa\" data-zjs-navigation-location=\"header\" data-zjs-navigation-type=\"sub\" data-zjs-page_type=\"article\" data-zjs-page_variant=\"article_leaf\" href=\"https://www.cnn.com/world/africa\">\n",
       "                  Africa\n",
       "                </a>\n",
       "</div>\n",
       "<div class=\"header__subnav-item\">\n",
       "<a class=\"header__nav-item-link header__nav-item-link-centered\" data-zjs=\"click\" data-zjs-component_id=\"https://www.cnn.com/world/americas\" data-zjs-component_text=\"Americas\" data-zjs-component_type=\"link\" data-zjs-container_id=\"\" data-zjs-container_type=\"navigation\" data-zjs-destination_url=\"https://www.cnn.com/world/americas\" data-zjs-navigation-location=\"header\" data-zjs-navigation-type=\"sub\" data-zjs-page_type=\"article\" data-zjs-page_variant=\"article_leaf\" href=\"https://www.cnn.com/world/americas\">\n",
       "                  Americas\n",
       "                </a>\n",
       "</div>\n",
       "<div class=\"header__subnav-item\">\n",
       "<a class=\"header__nav-item-link header__nav-item-link-centered\" data-zjs=\"click\" data-zjs-component_id=\"https://www.cnn.com/world/asia\" data-zjs-component_text=\"Asia\" data-zjs-component_type=\"link\" data-zjs-container_id=\"\" data-zjs-container_type=\"navigation\" data-zjs-destination_url=\"https://www.cnn.com/world/asia\" data-zjs-navigation-location=\"header\" data-zjs-navigation-type=\"sub\" data-zjs-page_type=\"article\" data-zjs-page_variant=\"article_leaf\" href=\"https://www.cnn.com/world/asia\">\n",
       "                  Asia\n",
       "                </a>\n",
       "</div>\n",
       "<div class=\"header__subnav-item\">\n",
       "<a class=\"header__nav-item-link header__nav-item-link-centered\" data-zjs=\"click\" data-zjs-component_id=\"https://www.cnn.com/world/australia\" data-zjs-component_text=\"Australia\" data-zjs-component_type=\"link\" data-zjs-container_id=\"\" data-zjs-container_type=\"navigation\" data-zjs-destination_url=\"https://www.cnn.com/world/australia\" data-zjs-navigation-location=\"header\" data-zjs-navigation-type=\"sub\" data-zjs-page_type=\"article\" data-zjs-page_variant=\"article_leaf\" href=\"https://www.cnn.com/world/australia\">\n",
       "                  Australia\n",
       "                </a>\n",
       "</div>\n",
       "<div class=\"header__subnav-item\">\n",
       "<a class=\"header__nav-item-link header__nav-item-link-centered\" data-zjs=\"click\" data-zjs-component_id=\"https://www.cnn.com/world/china\" data-zjs-component_text=\"China\" data-zjs-component_type=\"link\" data-zjs-container_id=\"\" data-zjs-container_type=\"navigation\" data-zjs-destination_url=\"https://www.cnn.com/world/china\" data-zjs-navigation-location=\"header\" data-zjs-navigation-type=\"sub\" data-zjs-page_type=\"article\" data-zjs-page_variant=\"article_leaf\" href=\"https://www.cnn.com/world/china\">\n",
       "                  China\n",
       "                </a>\n",
       "</div>\n",
       "<div class=\"header__subnav-item\">\n",
       "<a class=\"header__nav-item-link header__nav-item-link-centered\" data-zjs=\"click\" data-zjs-component_id=\"https://www.cnn.com/world/europe\" data-zjs-component_text=\"Europe\" data-zjs-component_type=\"link\" data-zjs-container_id=\"\" data-zjs-container_type=\"navigation\" data-zjs-destination_url=\"https://www.cnn.com/world/europe\" data-zjs-navigation-location=\"header\" data-zjs-navigation-type=\"sub\" data-zjs-page_type=\"article\" data-zjs-page_variant=\"article_leaf\" href=\"https://www.cnn.com/world/europe\">\n",
       "                  Europe\n",
       "                </a>\n",
       "</div>\n",
       "<div class=\"header__subnav-item\">\n",
       "<a class=\"header__nav-item-link header__nav-item-link-centered\" data-zjs=\"click\" data-zjs-component_id=\"https://www.cnn.com/world/india\" data-zjs-component_text=\"India\" data-zjs-component_type=\"link\" data-zjs-container_id=\"\" data-zjs-container_type=\"navigation\" data-zjs-destination_url=\"https://www.cnn.com/world/india\" data-zjs-navigation-location=\"header\" data-zjs-navigation-type=\"sub\" data-zjs-page_type=\"article\" data-zjs-page_variant=\"article_leaf\" href=\"https://www.cnn.com/world/india\">\n",
       "                  India\n",
       "                </a>\n",
       "</div>\n",
       "<div class=\"header__subnav-item\">\n",
       "<a class=\"header__nav-item-link header__nav-item-link-centered\" data-zjs=\"click\" data-zjs-component_id=\"https://www.cnn.com/world/middle-east\" data-zjs-component_text=\"Middle East\" data-zjs-component_type=\"link\" data-zjs-container_id=\"\" data-zjs-container_type=\"navigation\" data-zjs-destination_url=\"https://www.cnn.com/world/middle-east\" data-zjs-navigation-location=\"header\" data-zjs-navigation-type=\"sub\" data-zjs-page_type=\"article\" data-zjs-page_variant=\"article_leaf\" href=\"https://www.cnn.com/world/middle-east\">\n",
       "                  Middle East\n",
       "                </a>\n",
       "</div>\n",
       "<div class=\"header__subnav-item\">\n",
       "<a class=\"header__nav-item-link header__nav-item-link-centered\" data-zjs=\"click\" data-zjs-component_id=\"https://www.cnn.com/world/united-kingdom\" data-zjs-component_text=\"United Kingdom\" data-zjs-component_type=\"link\" data-zjs-container_id=\"\" data-zjs-container_type=\"navigation\" data-zjs-destination_url=\"https://www.cnn.com/world/united-kingdom\" data-zjs-navigation-location=\"header\" data-zjs-navigation-type=\"sub\" data-zjs-page_type=\"article\" data-zjs-page_variant=\"article_leaf\" href=\"https://www.cnn.com/world/united-kingdom\">\n",
       "                  United Kingdom\n",
       "                </a>\n",
       "</div>\n",
       "</nav>\n",
       "<div class=\"social-links\" data-editable=\"settings\" data-uri=\"archive.cms.cnn.com/_components/social-links/instances/new-cnn-header-v1@published\">\n",
       "<span class=\"social-links__copy\">Follow CNN</span>\n",
       "<ul class=\"social-links__items\">\n",
       "<li class=\"social-links__item\">\n",
       "<a class=\"social-links__link\" href=\"https://facebook.com/CNN\" rel=\"noopener noreferrer\" target=\"_blank\" title=\"Visit us on Facebook\">\n",
       "<svg aria-hidden=\"true\" aria-label=\"Facebook\" class=\"facebook-icon\" fill=\"\" height=\"64\" viewbox=\"0 0 64 64\" width=\"64\" xmlns=\"https://www.w3.org/2000/svg\"><path d=\"M56,5.1H8c-1.6,0-3,1.4-3,3v48.8c0,1.7,1.3,3,3,3h25.9V38.7h-7v-8.3h7v-6.1 c0-7.1,4.3-10.9,10.5-10.9c3,0,5.9,0.2,6.7,0.3v7.7h-4.7c-3.4,0-4.1,1.6-4.1,4v5h8.1l-1,8.3h-7v21.2H56c1.6,0,3-1.4,3-3V8.1 C59,6.4,57.7,5.1,56,5.1\"></path></svg>\n",
       "</a>\n",
       "</li>\n",
       "<li class=\"social-links__item\">\n",
       "<a class=\"social-links__link\" href=\"https://twitter.com/CNN\" rel=\"noopener noreferrer\" target=\"_blank\" title=\"Visit us on Twitter\">\n",
       "<svg aria-hidden=\"true\" aria-label=\"Twitter\" class=\"twitter-icon\" fill=\"\" height=\"64\" viewbox=\"0 0 64 64\" width=\"64\" xmlns=\"https://www.w3.org/2000/svg\"><path d=\"M60,15.2c-2.1,0.9-4.3,1.5-6.6,1.7c2.4-1.4,4.2-3.6,5.1-6.1c-2.2,1.3-4.7,2.2-7.3,2.7 c-2.1-2.2-5.1-3.5-8.4-3.5c-6.3,0-11.5,5-11.5,11.1c0,0.9,0.1,1.7,0.3,2.5C22,23.2,13.6,18.8,7.9,12c-1,1.6-1.6,3.5-1.6,5.6 c0,3.9,2,7.3,5.1,9.2c-1.9-0.1-3.7-0.6-5.2-1.4v0.1c0,5.4,4,9.9,9.2,10.9c-1,0.3-2,0.4-3,0.4c-0.7,0-1.5-0.1-2.2-0.2 c1.5,4.4,5.7,7.6,10.7,7.7c-3.9,3-8.9,4.8-14.3,4.8c-0.9,0-1.8-0.1-2.7-0.2c5.1,3.2,11.1,5,17.6,5c21.1,0,32.7-16.9,32.7-31.6 c0-0.5,0-1,0-1.4C56.5,19.4,58.5,17.4,60,15.2\"></path></svg>\n",
       "</a>\n",
       "</li>\n",
       "<li class=\"social-links__item\">\n",
       "<a class=\"social-links__link\" href=\"https://instagram.com/CNN\" rel=\"noopener noreferrer\" target=\"_blank\" title=\"Visit us on Instagram\">\n",
       "<svg aria-hidden=\"true\" aria-label=\"Instagram\" class=\"instagram-icon\" fill=\"\" height=\"64\" viewbox=\"0 0 64 64\" width=\"64\" xmlns=\"https://www.w3.org/2000/svg\"><path d=\"M47,13.2c-1.9,0-3.5,1.6-3.5,3.6s1.6,3.6,3.5,3.6s3.5-1.6,3.5-3.6S49,13.2,47,13.2 L47,13.2z M31.9,23c-5.1,0-9.3,4.3-9.3,9.5s4.2,9.5,9.3,9.5s9.3-4.3,9.3-9.5S37,23,31.9,23L31.9,23z M31.9,46.7 c-7.7,0-14-6.4-14-14.2s6.3-14.2,14-14.2s14,6.4,14,14.2S39.6,46.7,31.9,46.7L31.9,46.7z M15.7,8.8c-3.9,0-7,3.2-7,7.1v33.2 c0,3.9,3.1,7.1,7,7.1h32.7c3.9,0,7-3.2,7-7.1V15.9c0-3.9-3.1-7.1-7-7.1C48.4,8.8,15.7,8.8,15.7,8.8z M48.3,60.9H15.7 C9.2,60.9,4,55.6,4,49.1V15.9C4,9.4,9.2,4.1,15.7,4.1h32.7C54.8,4.1,60,9.4,60,15.9v33.2C60,55.6,54.8,60.9,48.3,60.9L48.3,60.9z\"></path></svg>\n",
       "</a>\n",
       "</li>\n",
       "</ul>\n",
       "</div>\n",
       "<hr class=\"header__divider header__divider--full-width\"/>\n",
       "</div>\n",
       "<nav class=\"subnav\" data-editable=\"settings\" data-uri=\"archive.cms.cnn.com/_components/subnav/instances/new-edition-header-v1@published\">\n",
       "<ul class=\"subnav__sections\">\n",
       "<li class=\"subnav__section\">\n",
       "<a class=\"subnav__section-link\" data-zjs=\"click\" data-zjs-component_id=\"https://www.cnn.com/world\" data-zjs-component_text=\"World\" data-zjs-component_type=\"link\" data-zjs-container_id=\"\" data-zjs-container_type=\"navigation\" data-zjs-destination_url=\"https://www.cnn.com/world\" data-zjs-navigation-location=\"\" data-zjs-navigation-type=\"sub\" data-zjs-page_type=\"article\" data-zjs-page_variant=\"article_leaf\" href=\"https://www.cnn.com/world\">\n",
       "        World\n",
       "      </a>\n",
       "<ul class=\"subnav__subsections\">\n",
       "<li class=\"subnav__subsection\">\n",
       "<a aria-label=\"World Africa\" class=\"subnav__subsection-link\" data-zjs=\"click\" data-zjs-component_id=\"https://www.cnn.com/world/africa\" data-zjs-component_text=\"Africa\" data-zjs-component_type=\"link\" data-zjs-container_id=\"\" data-zjs-container_type=\"navigation\" data-zjs-destination_url=\"https://www.cnn.com/world/africa\" data-zjs-navigation-location=\"\" data-zjs-navigation-type=\"sub\" data-zjs-page_type=\"article\" data-zjs-page_variant=\"article_leaf\" href=\"https://www.cnn.com/world/africa\">\n",
       "            Africa\n",
       "          </a>\n",
       "</li>\n",
       "<li class=\"subnav__subsection\">\n",
       "<a aria-label=\"World Americas\" class=\"subnav__subsection-link\" data-zjs=\"click\" data-zjs-component_id=\"https://www.cnn.com/world/americas\" data-zjs-component_text=\"Americas\" data-zjs-component_type=\"link\" data-zjs-container_id=\"\" data-zjs-container_type=\"navigation\" data-zjs-destination_url=\"https://www.cnn.com/world/americas\" data-zjs-navigation-location=\"\" data-zjs-navigation-type=\"sub\" data-zjs-page_type=\"article\" data-zjs-page_variant=\"article_leaf\" href=\"https://www.cnn.com/world/americas\">\n",
       "            Americas\n",
       "          </a>\n",
       "</li>\n",
       "<li class=\"subnav__subsection\">\n",
       "<a aria-label=\"World Asia\" class=\"subnav__subsection-link\" data-zjs=\"click\" data-zjs-component_id=\"https://www.cnn.com/world/asia\" data-zjs-component_text=\"Asia\" data-zjs-component_type=\"link\" data-zjs-container_id=\"\" data-zjs-container_type=\"navigation\" data-zjs-destination_url=\"https://www.cnn.com/world/asia\" data-zjs-navigation-location=\"\" data-zjs-navigation-type=\"sub\" data-zjs-page_type=\"article\" data-zjs-page_variant=\"article_leaf\" href=\"https://www.cnn.com/world/asia\">\n",
       "            Asia\n",
       "          </a>\n",
       "</li>\n",
       "<li class=\"subnav__subsection\">\n",
       "<a aria-label=\"World Australia\" class=\"subnav__subsection-link\" data-zjs=\"click\" data-zjs-component_id=\"https://www.cnn.com/world/australia\" data-zjs-component_text=\"Australia\" data-zjs-component_type=\"link\" data-zjs-container_id=\"\" data-zjs-container_type=\"navigation\" data-zjs-destination_url=\"https://www.cnn.com/world/australia\" data-zjs-navigation-location=\"\" data-zjs-navigation-type=\"sub\" data-zjs-page_type=\"article\" data-zjs-page_variant=\"article_leaf\" href=\"https://www.cnn.com/world/australia\">\n",
       "            Australia\n",
       "          </a>\n",
       "</li>\n",
       "<li class=\"subnav__subsection\">\n",
       "<a aria-label=\"World China\" class=\"subnav__subsection-link\" data-zjs=\"click\" data-zjs-component_id=\"https://www.cnn.com/world/china\" data-zjs-component_text=\"China\" data-zjs-component_type=\"link\" data-zjs-container_id=\"\" data-zjs-container_type=\"navigation\" data-zjs-destination_url=\"https://www.cnn.com/world/china\" data-zjs-navigation-location=\"\" data-zjs-navigation-type=\"sub\" data-zjs-page_type=\"article\" data-zjs-page_variant=\"article_leaf\" href=\"https://www.cnn.com/world/china\">\n",
       "            China\n",
       "          </a>\n",
       "</li>\n",
       "<li class=\"subnav__subsection\">\n",
       "<a aria-label=\"World Europe\" class=\"subnav__subsection-link\" data-zjs=\"click\" data-zjs-component_id=\"https://www.cnn.com/world/europe\" data-zjs-component_text=\"Europe\" data-zjs-component_type=\"link\" data-zjs-container_id=\"\" data-zjs-container_type=\"navigation\" data-zjs-destination_url=\"https://www.cnn.com/world/europe\" data-zjs-navigation-location=\"\" data-zjs-navigation-type=\"sub\" data-zjs-page_type=\"article\" data-zjs-page_variant=\"article_leaf\" href=\"https://www.cnn.com/world/europe\">\n",
       "            Europe\n",
       "          </a>\n",
       "</li>\n",
       "<li class=\"subnav__subsection\">\n",
       "<a aria-label=\"World India\" class=\"subnav__subsection-link\" data-zjs=\"click\" data-zjs-component_id=\"https://www.cnn.com/world/india\" data-zjs-component_text=\"India\" data-zjs-component_type=\"link\" data-zjs-container_id=\"\" data-zjs-container_type=\"navigation\" data-zjs-destination_url=\"https://www.cnn.com/world/india\" data-zjs-navigation-location=\"\" data-zjs-navigation-type=\"sub\" data-zjs-page_type=\"article\" data-zjs-page_variant=\"article_leaf\" href=\"https://www.cnn.com/world/india\">\n",
       "            India\n",
       "          </a>\n",
       "</li>\n",
       "<li class=\"subnav__subsection\">\n",
       "<a aria-label=\"World Middle East\" class=\"subnav__subsection-link\" data-zjs=\"click\" data-zjs-component_id=\"https://www.cnn.com/world/middle-east\" data-zjs-component_text=\"Middle East\" data-zjs-component_type=\"link\" data-zjs-container_id=\"\" data-zjs-container_type=\"navigation\" data-zjs-destination_url=\"https://www.cnn.com/world/middle-east\" data-zjs-navigation-location=\"\" data-zjs-navigation-type=\"sub\" data-zjs-page_type=\"article\" data-zjs-page_variant=\"article_leaf\" href=\"https://www.cnn.com/world/middle-east\">\n",
       "            Middle East\n",
       "          </a>\n",
       "</li>\n",
       "<li class=\"subnav__subsection\">\n",
       "<a aria-label=\"World United Kingdom\" class=\"subnav__subsection-link\" data-zjs=\"click\" data-zjs-component_id=\"https://www.cnn.com/world/united-kingdom\" data-zjs-component_text=\"United Kingdom\" data-zjs-component_type=\"link\" data-zjs-container_id=\"\" data-zjs-container_type=\"navigation\" data-zjs-destination_url=\"https://www.cnn.com/world/united-kingdom\" data-zjs-navigation-location=\"\" data-zjs-navigation-type=\"sub\" data-zjs-page_type=\"article\" data-zjs-page_variant=\"article_leaf\" href=\"https://www.cnn.com/world/united-kingdom\">\n",
       "            United Kingdom\n",
       "          </a>\n",
       "</li>\n",
       "</ul>\n",
       "</li>\n",
       "<li class=\"subnav__section\">\n",
       "<a class=\"subnav__section-link\" data-zjs=\"click\" data-zjs-component_id=\"https://www.cnn.com/politics\" data-zjs-component_text=\"US Politics\" data-zjs-component_type=\"link\" data-zjs-container_id=\"\" data-zjs-container_type=\"navigation\" data-zjs-destination_url=\"https://www.cnn.com/politics\" data-zjs-navigation-location=\"\" data-zjs-navigation-type=\"sub\" data-zjs-page_type=\"article\" data-zjs-page_variant=\"article_leaf\" href=\"https://www.cnn.com/politics\">\n",
       "        US Politics\n",
       "      </a>\n",
       "<ul class=\"subnav__subsections\">\n",
       "<li class=\"subnav__subsection\">\n",
       "<a aria-label=\"US Politics The Biden Presidency\" class=\"subnav__subsection-link\" data-zjs=\"click\" data-zjs-component_id=\"https://www.cnn.com/specials/politics/joe-biden-news\" data-zjs-component_text=\"The Biden Presidency\" data-zjs-component_type=\"link\" data-zjs-container_id=\"\" data-zjs-container_type=\"navigation\" data-zjs-destination_url=\"https://www.cnn.com/specials/politics/joe-biden-news\" data-zjs-navigation-location=\"\" data-zjs-navigation-type=\"sub\" data-zjs-page_type=\"article\" data-zjs-page_variant=\"article_leaf\" href=\"https://www.cnn.com/specials/politics/joe-biden-news\">\n",
       "            The Biden Presidency\n",
       "          </a>\n",
       "</li>\n",
       "<li class=\"subnav__subsection\">\n",
       "<a aria-label=\"US Politics Facts First\" class=\"subnav__subsection-link\" data-zjs=\"click\" data-zjs-component_id=\"https://www.cnn.com/specials/politics/fact-check-politics\" data-zjs-component_text=\"Facts First\" data-zjs-component_type=\"link\" data-zjs-container_id=\"\" data-zjs-container_type=\"navigation\" data-zjs-destination_url=\"https://www.cnn.com/specials/politics/fact-check-politics\" data-zjs-navigation-location=\"\" data-zjs-navigation-type=\"sub\" data-zjs-page_type=\"article\" data-zjs-page_variant=\"article_leaf\" href=\"https://www.cnn.com/specials/politics/fact-check-politics\">\n",
       "            Facts First\n",
       "          </a>\n",
       "</li>\n",
       "<li class=\"subnav__subsection\">\n",
       "<a aria-label=\"US Politics US Elections\" class=\"subnav__subsection-link\" data-zjs=\"click\" data-zjs-component_id=\"https://www.cnn.com/election/2020/results/president\" data-zjs-component_text=\"US Elections\" data-zjs-component_type=\"link\" data-zjs-container_id=\"\" data-zjs-container_type=\"navigation\" data-zjs-destination_url=\"https://www.cnn.com/election/2020/results/president\" data-zjs-navigation-location=\"\" data-zjs-navigation-type=\"sub\" data-zjs-page_type=\"article\" data-zjs-page_variant=\"article_leaf\" href=\"https://www.cnn.com/election/2020/results/president\">\n",
       "            US Elections\n",
       "          </a>\n",
       "</li>\n",
       "</ul>\n",
       "</li>\n",
       "<li class=\"subnav__section\">\n",
       "<a class=\"subnav__section-link\" data-zjs=\"click\" data-zjs-component_id=\"https://www.cnn.com/business\" data-zjs-component_text=\"Business\" data-zjs-component_type=\"link\" data-zjs-container_id=\"\" data-zjs-container_type=\"navigation\" data-zjs-destination_url=\"https://www.cnn.com/business\" data-zjs-navigation-location=\"\" data-zjs-navigation-type=\"sub\" data-zjs-page_type=\"article\" data-zjs-page_variant=\"article_leaf\" href=\"https://www.cnn.com/business\">\n",
       "        Business\n",
       "      </a>\n",
       "<ul class=\"subnav__subsections\">\n",
       "<li class=\"subnav__subsection\">\n",
       "<a aria-label=\"Business Tech\" class=\"subnav__subsection-link\" data-zjs=\"click\" data-zjs-component_id=\"https://www.cnn.com/business/tech\" data-zjs-component_text=\"Tech\" data-zjs-component_type=\"link\" data-zjs-container_id=\"\" data-zjs-container_type=\"navigation\" data-zjs-destination_url=\"https://www.cnn.com/business/tech\" data-zjs-navigation-location=\"\" data-zjs-navigation-type=\"sub\" data-zjs-page_type=\"article\" data-zjs-page_variant=\"article_leaf\" href=\"https://www.cnn.com/business/tech\">\n",
       "            Tech\n",
       "          </a>\n",
       "</li>\n",
       "<li class=\"subnav__subsection\">\n",
       "<a aria-label=\"Business Media\" class=\"subnav__subsection-link\" data-zjs=\"click\" data-zjs-component_id=\"https://www.cnn.com/business/media\" data-zjs-component_text=\"Media\" data-zjs-component_type=\"link\" data-zjs-container_id=\"\" data-zjs-container_type=\"navigation\" data-zjs-destination_url=\"https://www.cnn.com/business/media\" data-zjs-navigation-location=\"\" data-zjs-navigation-type=\"sub\" data-zjs-page_type=\"article\" data-zjs-page_variant=\"article_leaf\" href=\"https://www.cnn.com/business/media\">\n",
       "            Media\n",
       "          </a>\n",
       "</li>\n",
       "<li class=\"subnav__subsection\">\n",
       "<a aria-label=\"Business Success\" class=\"subnav__subsection-link\" data-zjs=\"click\" data-zjs-component_id=\"https://www.cnn.com/business/success\" data-zjs-component_text=\"Success\" data-zjs-component_type=\"link\" data-zjs-container_id=\"\" data-zjs-container_type=\"navigation\" data-zjs-destination_url=\"https://www.cnn.com/business/success\" data-zjs-navigation-location=\"\" data-zjs-navigation-type=\"sub\" data-zjs-page_type=\"article\" data-zjs-page_variant=\"article_leaf\" href=\"https://www.cnn.com/business/success\">\n",
       "            Success\n",
       "          </a>\n",
       "</li>\n",
       "<li class=\"subnav__subsection\">\n",
       "<a aria-label=\"Business Perspectives\" class=\"subnav__subsection-link\" data-zjs=\"click\" data-zjs-component_id=\"https://www.cnn.com/business/perspectives\" data-zjs-component_text=\"Perspectives\" data-zjs-component_type=\"link\" data-zjs-container_id=\"\" data-zjs-container_type=\"navigation\" data-zjs-destination_url=\"https://www.cnn.com/business/perspectives\" data-zjs-navigation-location=\"\" data-zjs-navigation-type=\"sub\" data-zjs-page_type=\"article\" data-zjs-page_variant=\"article_leaf\" href=\"https://www.cnn.com/business/perspectives\">\n",
       "            Perspectives\n",
       "          </a>\n",
       "</li>\n",
       "<li class=\"subnav__subsection\">\n",
       "<a aria-label=\"Business Videos\" class=\"subnav__subsection-link\" data-zjs=\"click\" data-zjs-component_id=\"https://www.cnn.com/business/videos\" data-zjs-component_text=\"Videos\" data-zjs-component_type=\"link\" data-zjs-container_id=\"\" data-zjs-container_type=\"navigation\" data-zjs-destination_url=\"https://www.cnn.com/business/videos\" data-zjs-navigation-location=\"\" data-zjs-navigation-type=\"sub\" data-zjs-page_type=\"article\" data-zjs-page_variant=\"article_leaf\" href=\"https://www.cnn.com/business/videos\">\n",
       "            Videos\n",
       "          </a>\n",
       "</li>\n",
       "</ul>\n",
       "</li>\n",
       "<li class=\"subnav__section\">\n",
       "<a class=\"subnav__section-link\" data-zjs=\"click\" data-zjs-component_id=\"https://www.cnn.com/markets\" data-zjs-component_text=\"Markets\" data-zjs-component_type=\"link\" data-zjs-container_id=\"\" data-zjs-container_type=\"navigation\" data-zjs-destination_url=\"https://www.cnn.com/markets\" data-zjs-navigation-location=\"\" data-zjs-navigation-type=\"sub\" data-zjs-page_type=\"article\" data-zjs-page_variant=\"article_leaf\" href=\"https://www.cnn.com/markets\">\n",
       "        Markets\n",
       "      </a>\n",
       "<ul class=\"subnav__subsections\">\n",
       "<li class=\"subnav__subsection\">\n",
       "<a aria-label=\"Markets Pre-markets\" class=\"subnav__subsection-link\" data-zjs=\"click\" data-zjs-component_id=\"https://www.cnn.com/business/markets/premarkets\" data-zjs-component_text=\"Pre-markets\" data-zjs-component_type=\"link\" data-zjs-container_id=\"\" data-zjs-container_type=\"navigation\" data-zjs-destination_url=\"https://www.cnn.com/business/markets/premarkets\" data-zjs-navigation-location=\"\" data-zjs-navigation-type=\"sub\" data-zjs-page_type=\"article\" data-zjs-page_variant=\"article_leaf\" href=\"https://www.cnn.com/business/markets/premarkets\">\n",
       "            Pre-markets\n",
       "          </a>\n",
       "</li>\n",
       "<li class=\"subnav__subsection\">\n",
       "<a aria-label=\"Markets After-Hours\" class=\"subnav__subsection-link\" data-zjs=\"click\" data-zjs-component_id=\"https://money.cnn.com/data/afterhours/\" data-zjs-component_text=\"After-Hours\" data-zjs-component_type=\"link\" data-zjs-container_id=\"\" data-zjs-container_type=\"navigation\" data-zjs-destination_url=\"https://money.cnn.com/data/afterhours/\" data-zjs-navigation-location=\"\" data-zjs-navigation-type=\"sub\" data-zjs-page_type=\"article\" data-zjs-page_variant=\"article_leaf\" href=\"https://money.cnn.com/data/afterhours/\">\n",
       "            After-Hours\n",
       "          </a>\n",
       "</li>\n",
       "<li class=\"subnav__subsection\">\n",
       "<a aria-label=\"Markets Market Movers\" class=\"subnav__subsection-link\" data-zjs=\"click\" data-zjs-component_id=\"https://money.cnn.com/data/hotstocks/\" data-zjs-component_text=\"Market Movers\" data-zjs-component_type=\"link\" data-zjs-container_id=\"\" data-zjs-container_type=\"navigation\" data-zjs-destination_url=\"https://money.cnn.com/data/hotstocks/\" data-zjs-navigation-location=\"\" data-zjs-navigation-type=\"sub\" data-zjs-page_type=\"article\" data-zjs-page_variant=\"article_leaf\" href=\"https://money.cnn.com/data/hotstocks/\">\n",
       "            Market Movers\n",
       "          </a>\n",
       "</li>\n",
       "<li class=\"subnav__subsection\">\n",
       "<a aria-label=\"Markets Fear &amp; Greed\" class=\"subnav__subsection-link\" data-zjs=\"click\" data-zjs-component_id=\"https://www.cnn.com/markets/fear-and-greed\" data-zjs-component_text=\"Fear &amp; Greed\" data-zjs-component_type=\"link\" data-zjs-container_id=\"\" data-zjs-container_type=\"navigation\" data-zjs-destination_url=\"https://www.cnn.com/markets/fear-and-greed\" data-zjs-navigation-location=\"\" data-zjs-navigation-type=\"sub\" data-zjs-page_type=\"article\" data-zjs-page_variant=\"article_leaf\" href=\"https://www.cnn.com/markets/fear-and-greed\">\n",
       "            Fear &amp; Greed\n",
       "          </a>\n",
       "</li>\n",
       "<li class=\"subnav__subsection\">\n",
       "<a aria-label=\"Markets World Markets\" class=\"subnav__subsection-link\" data-zjs=\"click\" data-zjs-component_id=\"https://money.cnn.com/data/world_markets/americas/\" data-zjs-component_text=\"World Markets\" data-zjs-component_type=\"link\" data-zjs-container_id=\"\" data-zjs-container_type=\"navigation\" data-zjs-destination_url=\"https://money.cnn.com/data/world_markets/americas/\" data-zjs-navigation-location=\"\" data-zjs-navigation-type=\"sub\" data-zjs-page_type=\"article\" data-zjs-page_variant=\"article_leaf\" href=\"https://money.cnn.com/data/world_markets/americas/\">\n",
       "            World Markets\n",
       "          </a>\n",
       "</li>\n",
       "<li class=\"subnav__subsection\">\n",
       "<a aria-label=\"Markets Investing\" class=\"subnav__subsection-link\" data-zjs=\"click\" data-zjs-component_id=\"https://www.cnn.com/business/investing\" data-zjs-component_text=\"Investing\" data-zjs-component_type=\"link\" data-zjs-container_id=\"\" data-zjs-container_type=\"navigation\" data-zjs-destination_url=\"https://www.cnn.com/business/investing\" data-zjs-navigation-location=\"\" data-zjs-navigation-type=\"sub\" data-zjs-page_type=\"article\" data-zjs-page_variant=\"article_leaf\" href=\"https://www.cnn.com/business/investing\">\n",
       "            Investing\n",
       "          </a>\n",
       "</li>\n",
       "<li class=\"subnav__subsection\">\n",
       "<a aria-label=\"Markets Markets Now\" class=\"subnav__subsection-link\" data-zjs=\"click\" data-zjs-component_id=\"https://www.cnn.com/specials/investing/markets-now\" data-zjs-component_text=\"Markets Now\" data-zjs-component_type=\"link\" data-zjs-container_id=\"\" data-zjs-container_type=\"navigation\" data-zjs-destination_url=\"https://www.cnn.com/specials/investing/markets-now\" data-zjs-navigation-location=\"\" data-zjs-navigation-type=\"sub\" data-zjs-page_type=\"article\" data-zjs-page_variant=\"article_leaf\" href=\"https://www.cnn.com/specials/investing/markets-now\">\n",
       "            Markets Now\n",
       "          </a>\n",
       "</li>\n",
       "<li class=\"subnav__subsection\">\n",
       "<a aria-label=\"Markets Before the Bell\" class=\"subnav__subsection-link\" data-zjs=\"click\" data-zjs-component_id=\"https://www.cnn.com/specials/investing/before-the-bell\" data-zjs-component_text=\"Before the Bell\" data-zjs-component_type=\"link\" data-zjs-container_id=\"\" data-zjs-container_type=\"navigation\" data-zjs-destination_url=\"https://www.cnn.com/specials/investing/before-the-bell\" data-zjs-navigation-location=\"\" data-zjs-navigation-type=\"sub\" data-zjs-page_type=\"article\" data-zjs-page_variant=\"article_leaf\" href=\"https://www.cnn.com/specials/investing/before-the-bell\">\n",
       "            Before the Bell\n",
       "          </a>\n",
       "</li>\n",
       "<li class=\"subnav__subsection\">\n",
       "<a aria-label=\"Markets Nightcap\" class=\"subnav__subsection-link\" data-zjs=\"click\" data-zjs-component_id=\"https://www.cnn.com/specials/business/nightcap\" data-zjs-component_text=\"Nightcap\" data-zjs-component_type=\"link\" data-zjs-container_id=\"\" data-zjs-container_type=\"navigation\" data-zjs-destination_url=\"https://www.cnn.com/specials/business/nightcap\" data-zjs-navigation-location=\"\" data-zjs-navigation-type=\"sub\" data-zjs-page_type=\"article\" data-zjs-page_variant=\"article_leaf\" href=\"https://www.cnn.com/specials/business/nightcap\">\n",
       "            Nightcap\n",
       "          </a>\n",
       "</li>\n",
       "</ul>\n",
       "</li>\n",
       "<li class=\"subnav__section\">\n",
       "<a class=\"subnav__section-link\" data-zjs=\"click\" data-zjs-component_id=\"https://www.cnn.com/health\" data-zjs-component_text=\"Health\" data-zjs-component_type=\"link\" data-zjs-container_id=\"\" data-zjs-container_type=\"navigation\" data-zjs-destination_url=\"https://www.cnn.com/health\" data-zjs-navigation-location=\"\" data-zjs-navigation-type=\"sub\" data-zjs-page_type=\"article\" data-zjs-page_variant=\"article_leaf\" href=\"https://www.cnn.com/health\">\n",
       "        Health\n",
       "      </a>\n",
       "<ul class=\"subnav__subsections\">\n",
       "<li class=\"subnav__subsection\">\n",
       "<a aria-label=\"Health Life, But Better\" class=\"subnav__subsection-link\" data-zjs=\"click\" data-zjs-component_id=\"https://www.cnn.com/interactive/life-but-better/\" data-zjs-component_text=\"Life, But Better\" data-zjs-component_type=\"link\" data-zjs-container_id=\"\" data-zjs-container_type=\"navigation\" data-zjs-destination_url=\"https://www.cnn.com/interactive/life-but-better/\" data-zjs-navigation-location=\"\" data-zjs-navigation-type=\"sub\" data-zjs-page_type=\"article\" data-zjs-page_variant=\"article_leaf\" href=\"https://www.cnn.com/interactive/life-but-better/\">\n",
       "            Life, But Better\n",
       "          </a>\n",
       "</li>\n",
       "<li class=\"subnav__subsection\">\n",
       "<a aria-label=\"Health Fitness\" class=\"subnav__subsection-link\" data-zjs=\"click\" data-zjs-component_id=\"https://www.cnn.com/specials/health/fitness-life-but-better\" data-zjs-component_text=\"Fitness\" data-zjs-component_type=\"link\" data-zjs-container_id=\"\" data-zjs-container_type=\"navigation\" data-zjs-destination_url=\"https://www.cnn.com/specials/health/fitness-life-but-better\" data-zjs-navigation-location=\"\" data-zjs-navigation-type=\"sub\" data-zjs-page_type=\"article\" data-zjs-page_variant=\"article_leaf\" href=\"https://www.cnn.com/specials/health/fitness-life-but-better\">\n",
       "            Fitness\n",
       "          </a>\n",
       "</li>\n",
       "<li class=\"subnav__subsection\">\n",
       "<a aria-label=\"Health Food\" class=\"subnav__subsection-link\" data-zjs=\"click\" data-zjs-component_id=\"https://www.cnn.com/specials/health/food-life-but-better\" data-zjs-component_text=\"Food\" data-zjs-component_type=\"link\" data-zjs-container_id=\"\" data-zjs-container_type=\"navigation\" data-zjs-destination_url=\"https://www.cnn.com/specials/health/food-life-but-better\" data-zjs-navigation-location=\"\" data-zjs-navigation-type=\"sub\" data-zjs-page_type=\"article\" data-zjs-page_variant=\"article_leaf\" href=\"https://www.cnn.com/specials/health/food-life-but-better\">\n",
       "            Food\n",
       "          </a>\n",
       "</li>\n",
       "<li class=\"subnav__subsection\">\n",
       "<a aria-label=\"Health Sleep\" class=\"subnav__subsection-link\" data-zjs=\"click\" data-zjs-component_id=\"https://www.cnn.com/specials/health/sleep-life-but-better\" data-zjs-component_text=\"Sleep\" data-zjs-component_type=\"link\" data-zjs-container_id=\"\" data-zjs-container_type=\"navigation\" data-zjs-destination_url=\"https://www.cnn.com/specials/health/sleep-life-but-better\" data-zjs-navigation-location=\"\" data-zjs-navigation-type=\"sub\" data-zjs-page_type=\"article\" data-zjs-page_variant=\"article_leaf\" href=\"https://www.cnn.com/specials/health/sleep-life-but-better\">\n",
       "            Sleep\n",
       "          </a>\n",
       "</li>\n",
       "<li class=\"subnav__subsection\">\n",
       "<a aria-label=\"Health Mindfulness\" class=\"subnav__subsection-link\" data-zjs=\"click\" data-zjs-component_id=\"https://www.cnn.com/specials/health/mindfulness-life-but-better\" data-zjs-component_text=\"Mindfulness\" data-zjs-component_type=\"link\" data-zjs-container_id=\"\" data-zjs-container_type=\"navigation\" data-zjs-destination_url=\"https://www.cnn.com/specials/health/mindfulness-life-but-better\" data-zjs-navigation-location=\"\" data-zjs-navigation-type=\"sub\" data-zjs-page_type=\"article\" data-zjs-page_variant=\"article_leaf\" href=\"https://www.cnn.com/specials/health/mindfulness-life-but-better\">\n",
       "            Mindfulness\n",
       "          </a>\n",
       "</li>\n",
       "<li class=\"subnav__subsection\">\n",
       "<a aria-label=\"Health Relationships\" class=\"subnav__subsection-link\" data-zjs=\"click\" data-zjs-component_id=\"https://www.cnn.com/specials/health/relationships-life-but-better\" data-zjs-component_text=\"Relationships\" data-zjs-component_type=\"link\" data-zjs-container_id=\"\" data-zjs-container_type=\"navigation\" data-zjs-destination_url=\"https://www.cnn.com/specials/health/relationships-life-but-better\" data-zjs-navigation-location=\"\" data-zjs-navigation-type=\"sub\" data-zjs-page_type=\"article\" data-zjs-page_variant=\"article_leaf\" href=\"https://www.cnn.com/specials/health/relationships-life-but-better\">\n",
       "            Relationships\n",
       "          </a>\n",
       "</li>\n",
       "</ul>\n",
       "</li>\n",
       "<li class=\"subnav__section\">\n",
       "<a class=\"subnav__section-link\" data-zjs=\"click\" data-zjs-component_id=\"https://www.cnn.com/entertainment\" data-zjs-component_text=\"Entertainment\" data-zjs-component_type=\"link\" data-zjs-container_id=\"\" data-zjs-container_type=\"navigation\" data-zjs-destination_url=\"https://www.cnn.com/entertainment\" data-zjs-navigation-location=\"\" data-zjs-navigation-type=\"sub\" data-zjs-page_type=\"article\" data-zjs-page_variant=\"article_leaf\" href=\"https://www.cnn.com/entertainment\">\n",
       "        Entertainment\n",
       "      </a>\n",
       "<ul class=\"subnav__subsections\">\n",
       "<li class=\"subnav__subsection\">\n",
       "<a aria-label=\"Entertainment Movies\" class=\"subnav__subsection-link\" data-zjs=\"click\" data-zjs-component_id=\"https://www.cnn.com/entertainment/movies\" data-zjs-component_text=\"Movies\" data-zjs-component_type=\"link\" data-zjs-container_id=\"\" data-zjs-container_type=\"navigation\" data-zjs-destination_url=\"https://www.cnn.com/entertainment/movies\" data-zjs-navigation-location=\"\" data-zjs-navigation-type=\"sub\" data-zjs-page_type=\"article\" data-zjs-page_variant=\"article_leaf\" href=\"https://www.cnn.com/entertainment/movies\">\n",
       "            Movies\n",
       "          </a>\n",
       "</li>\n",
       "<li class=\"subnav__subsection\">\n",
       "<a aria-label=\"Entertainment Television\" class=\"subnav__subsection-link\" data-zjs=\"click\" data-zjs-component_id=\"https://www.cnn.com/entertainment/tv-shows\" data-zjs-component_text=\"Television\" data-zjs-component_type=\"link\" data-zjs-container_id=\"\" data-zjs-container_type=\"navigation\" data-zjs-destination_url=\"https://www.cnn.com/entertainment/tv-shows\" data-zjs-navigation-location=\"\" data-zjs-navigation-type=\"sub\" data-zjs-page_type=\"article\" data-zjs-page_variant=\"article_leaf\" href=\"https://www.cnn.com/entertainment/tv-shows\">\n",
       "            Television\n",
       "          </a>\n",
       "</li>\n",
       "<li class=\"subnav__subsection\">\n",
       "<a aria-label=\"Entertainment Celebrity\" class=\"subnav__subsection-link\" data-zjs=\"click\" data-zjs-component_id=\"https://www.cnn.com/entertainment/celebrities\" data-zjs-component_text=\"Celebrity\" data-zjs-component_type=\"link\" data-zjs-container_id=\"\" data-zjs-container_type=\"navigation\" data-zjs-destination_url=\"https://www.cnn.com/entertainment/celebrities\" data-zjs-navigation-location=\"\" data-zjs-navigation-type=\"sub\" data-zjs-page_type=\"article\" data-zjs-page_variant=\"article_leaf\" href=\"https://www.cnn.com/entertainment/celebrities\">\n",
       "            Celebrity\n",
       "          </a>\n",
       "</li>\n",
       "</ul>\n",
       "</li>\n",
       "<li class=\"subnav__section\">\n",
       "<a class=\"subnav__section-link\" data-zjs=\"click\" data-zjs-component_id=\"https://www.cnn.com/business/tech\" data-zjs-component_text=\"Tech\" data-zjs-component_type=\"link\" data-zjs-container_id=\"\" data-zjs-container_type=\"navigation\" data-zjs-destination_url=\"https://www.cnn.com/business/tech\" data-zjs-navigation-location=\"\" data-zjs-navigation-type=\"sub\" data-zjs-page_type=\"article\" data-zjs-page_variant=\"article_leaf\" href=\"https://www.cnn.com/business/tech\">\n",
       "        Tech\n",
       "      </a>\n",
       "<ul class=\"subnav__subsections\">\n",
       "<li class=\"subnav__subsection\">\n",
       "<a aria-label=\"Tech Innovate\" class=\"subnav__subsection-link\" data-zjs=\"click\" data-zjs-component_id=\"https://www.cnn.com/specials/tech/innovate\" data-zjs-component_text=\"Innovate\" data-zjs-component_type=\"link\" data-zjs-container_id=\"\" data-zjs-container_type=\"navigation\" data-zjs-destination_url=\"https://www.cnn.com/specials/tech/innovate\" data-zjs-navigation-location=\"\" data-zjs-navigation-type=\"sub\" data-zjs-page_type=\"article\" data-zjs-page_variant=\"article_leaf\" href=\"https://www.cnn.com/specials/tech/innovate\">\n",
       "            Innovate\n",
       "          </a>\n",
       "</li>\n",
       "<li class=\"subnav__subsection\">\n",
       "<a aria-label=\"Tech Gadget\" class=\"subnav__subsection-link\" data-zjs=\"click\" data-zjs-component_id=\"https://www.cnn.com/specials/tech/gadget\" data-zjs-component_text=\"Gadget\" data-zjs-component_type=\"link\" data-zjs-container_id=\"\" data-zjs-container_type=\"navigation\" data-zjs-destination_url=\"https://www.cnn.com/specials/tech/gadget\" data-zjs-navigation-location=\"\" data-zjs-navigation-type=\"sub\" data-zjs-page_type=\"article\" data-zjs-page_variant=\"article_leaf\" href=\"https://www.cnn.com/specials/tech/gadget\">\n",
       "            Gadget\n",
       "          </a>\n",
       "</li>\n",
       "<li class=\"subnav__subsection\">\n",
       "<a aria-label=\"Tech Foreseeable Future\" class=\"subnav__subsection-link\" data-zjs=\"click\" data-zjs-component_id=\"https://www.cnn.com/specials/tech/foreseeable-future\" data-zjs-component_text=\"Foreseeable Future\" data-zjs-component_type=\"link\" data-zjs-container_id=\"\" data-zjs-container_type=\"navigation\" data-zjs-destination_url=\"https://www.cnn.com/specials/tech/foreseeable-future\" data-zjs-navigation-location=\"\" data-zjs-navigation-type=\"sub\" data-zjs-page_type=\"article\" data-zjs-page_variant=\"article_leaf\" href=\"https://www.cnn.com/specials/tech/foreseeable-future\">\n",
       "            Foreseeable Future\n",
       "          </a>\n",
       "</li>\n",
       "<li class=\"subnav__subsection\">\n",
       "<a aria-label=\"Tech Mission: Ahead\" class=\"subnav__subsection-link\" data-zjs=\"click\" data-zjs-component_id=\"https://www.cnn.com/specials/tech/mission-ahead\" data-zjs-component_text=\"Mission: Ahead\" data-zjs-component_type=\"link\" data-zjs-container_id=\"\" data-zjs-container_type=\"navigation\" data-zjs-destination_url=\"https://www.cnn.com/specials/tech/mission-ahead\" data-zjs-navigation-location=\"\" data-zjs-navigation-type=\"sub\" data-zjs-page_type=\"article\" data-zjs-page_variant=\"article_leaf\" href=\"https://www.cnn.com/specials/tech/mission-ahead\">\n",
       "            Mission: Ahead\n",
       "          </a>\n",
       "</li>\n",
       "<li class=\"subnav__subsection\">\n",
       "<a aria-label=\"Tech Upstarts\" class=\"subnav__subsection-link\" data-zjs=\"click\" data-zjs-component_id=\"https://www.cnn.com/specials/tech/upstarts\" data-zjs-component_text=\"Upstarts\" data-zjs-component_type=\"link\" data-zjs-container_id=\"\" data-zjs-container_type=\"navigation\" data-zjs-destination_url=\"https://www.cnn.com/specials/tech/upstarts\" data-zjs-navigation-location=\"\" data-zjs-navigation-type=\"sub\" data-zjs-page_type=\"article\" data-zjs-page_variant=\"article_leaf\" href=\"https://www.cnn.com/specials/tech/upstarts\">\n",
       "            Upstarts\n",
       "          </a>\n",
       "</li>\n",
       "<li class=\"subnav__subsection\">\n",
       "<a aria-label=\"Tech Work Transformed\" class=\"subnav__subsection-link\" data-zjs=\"click\" data-zjs-component_id=\"https://www.cnn.com/specials/tech/work-transformed\" data-zjs-component_text=\"Work Transformed\" data-zjs-component_type=\"link\" data-zjs-container_id=\"\" data-zjs-container_type=\"navigation\" data-zjs-destination_url=\"https://www.cnn.com/specials/tech/work-transformed\" data-zjs-navigation-location=\"\" data-zjs-navigation-type=\"sub\" data-zjs-page_type=\"article\" data-zjs-page_variant=\"article_leaf\" href=\"https://www.cnn.com/specials/tech/work-transformed\">\n",
       "            Work Transformed\n",
       "          </a>\n",
       "</li>\n",
       "<li class=\"subnav__subsection\">\n",
       "<a aria-label=\"Tech Innovative Cities\" class=\"subnav__subsection-link\" data-zjs=\"click\" data-zjs-component_id=\"https://www.cnn.com/specials/tech/innovative-cities\" data-zjs-component_text=\"Innovative Cities\" data-zjs-component_type=\"link\" data-zjs-container_id=\"\" data-zjs-container_type=\"navigation\" data-zjs-destination_url=\"https://www.cnn.com/specials/tech/innovative-cities\" data-zjs-navigation-location=\"\" data-zjs-navigation-type=\"sub\" data-zjs-page_type=\"article\" data-zjs-page_variant=\"article_leaf\" href=\"https://www.cnn.com/specials/tech/innovative-cities\">\n",
       "            Innovative Cities\n",
       "          </a>\n",
       "</li>\n",
       "</ul>\n",
       "</li>\n",
       "<li class=\"subnav__section\">\n",
       "<a class=\"subnav__section-link\" data-zjs=\"click\" data-zjs-component_id=\"https://www.cnn.com/style\" data-zjs-component_text=\"Style\" data-zjs-component_type=\"link\" data-zjs-container_id=\"\" data-zjs-container_type=\"navigation\" data-zjs-destination_url=\"https://www.cnn.com/style\" data-zjs-navigation-location=\"\" data-zjs-navigation-type=\"sub\" data-zjs-page_type=\"article\" data-zjs-page_variant=\"article_leaf\" href=\"https://www.cnn.com/style\">\n",
       "        Style\n",
       "      </a>\n",
       "<ul class=\"subnav__subsections\">\n",
       "<li class=\"subnav__subsection\">\n",
       "<a aria-label=\"Style Arts\" class=\"subnav__subsection-link\" data-zjs=\"click\" data-zjs-component_id=\"https://www.cnn.com/style/arts\" data-zjs-component_text=\"Arts\" data-zjs-component_type=\"link\" data-zjs-container_id=\"\" data-zjs-container_type=\"navigation\" data-zjs-destination_url=\"https://www.cnn.com/style/arts\" data-zjs-navigation-location=\"\" data-zjs-navigation-type=\"sub\" data-zjs-page_type=\"article\" data-zjs-page_variant=\"article_leaf\" href=\"https://www.cnn.com/style/arts\">\n",
       "            Arts\n",
       "          </a>\n",
       "</li>\n",
       "<li class=\"subnav__subsection\">\n",
       "<a aria-label=\"Style Design\" class=\"subnav__subsection-link\" data-zjs=\"click\" data-zjs-component_id=\"https://www.cnn.com/style/design\" data-zjs-component_text=\"Design\" data-zjs-component_type=\"link\" data-zjs-container_id=\"\" data-zjs-container_type=\"navigation\" data-zjs-destination_url=\"https://www.cnn.com/style/design\" data-zjs-navigation-location=\"\" data-zjs-navigation-type=\"sub\" data-zjs-page_type=\"article\" data-zjs-page_variant=\"article_leaf\" href=\"https://www.cnn.com/style/design\">\n",
       "            Design\n",
       "          </a>\n",
       "</li>\n",
       "<li class=\"subnav__subsection\">\n",
       "<a aria-label=\"Style Fashion\" class=\"subnav__subsection-link\" data-zjs=\"click\" data-zjs-component_id=\"https://www.cnn.com/style/fashion\" data-zjs-component_text=\"Fashion\" data-zjs-component_type=\"link\" data-zjs-container_id=\"\" data-zjs-container_type=\"navigation\" data-zjs-destination_url=\"https://www.cnn.com/style/fashion\" data-zjs-navigation-location=\"\" data-zjs-navigation-type=\"sub\" data-zjs-page_type=\"article\" data-zjs-page_variant=\"article_leaf\" href=\"https://www.cnn.com/style/fashion\">\n",
       "            Fashion\n",
       "          </a>\n",
       "</li>\n",
       "<li class=\"subnav__subsection\">\n",
       "<a aria-label=\"Style Architecture\" class=\"subnav__subsection-link\" data-zjs=\"click\" data-zjs-component_id=\"https://www.cnn.com/style/architecture\" data-zjs-component_text=\"Architecture\" data-zjs-component_type=\"link\" data-zjs-container_id=\"\" data-zjs-container_type=\"navigation\" data-zjs-destination_url=\"https://www.cnn.com/style/architecture\" data-zjs-navigation-location=\"\" data-zjs-navigation-type=\"sub\" data-zjs-page_type=\"article\" data-zjs-page_variant=\"article_leaf\" href=\"https://www.cnn.com/style/architecture\">\n",
       "            Architecture\n",
       "          </a>\n",
       "</li>\n",
       "<li class=\"subnav__subsection\">\n",
       "<a aria-label=\"Style Luxury\" class=\"subnav__subsection-link\" data-zjs=\"click\" data-zjs-component_id=\"https://www.cnn.com/style/luxury\" data-zjs-component_text=\"Luxury\" data-zjs-component_type=\"link\" data-zjs-container_id=\"\" data-zjs-container_type=\"navigation\" data-zjs-destination_url=\"https://www.cnn.com/style/luxury\" data-zjs-navigation-location=\"\" data-zjs-navigation-type=\"sub\" data-zjs-page_type=\"article\" data-zjs-page_variant=\"article_leaf\" href=\"https://www.cnn.com/style/luxury\">\n",
       "            Luxury\n",
       "          </a>\n",
       "</li>\n",
       "<li class=\"subnav__subsection\">\n",
       "<a aria-label=\"Style Beauty\" class=\"subnav__subsection-link\" data-zjs=\"click\" data-zjs-component_id=\"https://www.cnn.com/style/beauty\" data-zjs-component_text=\"Beauty\" data-zjs-component_type=\"link\" data-zjs-container_id=\"\" data-zjs-container_type=\"navigation\" data-zjs-destination_url=\"https://www.cnn.com/style/beauty\" data-zjs-navigation-location=\"\" data-zjs-navigation-type=\"sub\" data-zjs-page_type=\"article\" data-zjs-page_variant=\"article_leaf\" href=\"https://www.cnn.com/style/beauty\">\n",
       "            Beauty\n",
       "          </a>\n",
       "</li>\n",
       "<li class=\"subnav__subsection\">\n",
       "<a aria-label=\"Style Video\" class=\"subnav__subsection-link\" data-zjs=\"click\" data-zjs-component_id=\"https://www.cnn.com/style/videos\" data-zjs-component_text=\"Video\" data-zjs-component_type=\"link\" data-zjs-container_id=\"\" data-zjs-container_type=\"navigation\" data-zjs-destination_url=\"https://www.cnn.com/style/videos\" data-zjs-navigation-location=\"\" data-zjs-navigation-type=\"sub\" data-zjs-page_type=\"article\" data-zjs-page_variant=\"article_leaf\" href=\"https://www.cnn.com/style/videos\">\n",
       "            Video\n",
       "          </a>\n",
       "</li>\n",
       "</ul>\n",
       "</li>\n",
       "<li class=\"subnav__section\">\n",
       "<a class=\"subnav__section-link\" data-zjs=\"click\" data-zjs-component_id=\"https://www.cnn.com/travel\" data-zjs-component_text=\"Travel\" data-zjs-component_type=\"link\" data-zjs-container_id=\"\" data-zjs-container_type=\"navigation\" data-zjs-destination_url=\"https://www.cnn.com/travel\" data-zjs-navigation-location=\"\" data-zjs-navigation-type=\"sub\" data-zjs-page_type=\"article\" data-zjs-page_variant=\"article_leaf\" href=\"https://www.cnn.com/travel\">\n",
       "        Travel\n",
       "      </a>\n",
       "<ul class=\"subnav__subsections\">\n",
       "<li class=\"subnav__subsection\">\n",
       "<a aria-label=\"Travel Destinations\" class=\"subnav__subsection-link\" data-zjs=\"click\" data-zjs-component_id=\"https://www.cnn.com/travel/destinations\" data-zjs-component_text=\"Destinations\" data-zjs-component_type=\"link\" data-zjs-container_id=\"\" data-zjs-container_type=\"navigation\" data-zjs-destination_url=\"https://www.cnn.com/travel/destinations\" data-zjs-navigation-location=\"\" data-zjs-navigation-type=\"sub\" data-zjs-page_type=\"article\" data-zjs-page_variant=\"article_leaf\" href=\"https://www.cnn.com/travel/destinations\">\n",
       "            Destinations\n",
       "          </a>\n",
       "</li>\n",
       "<li class=\"subnav__subsection\">\n",
       "<a aria-label=\"Travel Food &amp; Drink\" class=\"subnav__subsection-link\" data-zjs=\"click\" data-zjs-component_id=\"https://www.cnn.com/travel/food-and-drink\" data-zjs-component_text=\"Food &amp; Drink\" data-zjs-component_type=\"link\" data-zjs-container_id=\"\" data-zjs-container_type=\"navigation\" data-zjs-destination_url=\"https://www.cnn.com/travel/food-and-drink\" data-zjs-navigation-location=\"\" data-zjs-navigation-type=\"sub\" data-zjs-page_type=\"article\" data-zjs-page_variant=\"article_leaf\" href=\"https://www.cnn.com/travel/food-and-drink\">\n",
       "            Food &amp; Drink\n",
       "          </a>\n",
       "</li>\n",
       "<li class=\"subnav__subsection\">\n",
       "<a aria-label=\"Travel Stay\" class=\"subnav__subsection-link\" data-zjs=\"click\" data-zjs-component_id=\"https://www.cnn.com/travel/stay\" data-zjs-component_text=\"Stay\" data-zjs-component_type=\"link\" data-zjs-container_id=\"\" data-zjs-container_type=\"navigation\" data-zjs-destination_url=\"https://www.cnn.com/travel/stay\" data-zjs-navigation-location=\"\" data-zjs-navigation-type=\"sub\" data-zjs-page_type=\"article\" data-zjs-page_variant=\"article_leaf\" href=\"https://www.cnn.com/travel/stay\">\n",
       "            Stay\n",
       "          </a>\n",
       "</li>\n",
       "<li class=\"subnav__subsection\">\n",
       "<a aria-label=\"Travel News\" class=\"subnav__subsection-link\" data-zjs=\"click\" data-zjs-component_id=\"https://www.cnn.com/travel/news\" data-zjs-component_text=\"News\" data-zjs-component_type=\"link\" data-zjs-container_id=\"\" data-zjs-container_type=\"navigation\" data-zjs-destination_url=\"https://www.cnn.com/travel/news\" data-zjs-navigation-location=\"\" data-zjs-navigation-type=\"sub\" data-zjs-page_type=\"article\" data-zjs-page_variant=\"article_leaf\" href=\"https://www.cnn.com/travel/news\">\n",
       "            News\n",
       "          </a>\n",
       "</li>\n",
       "<li class=\"subnav__subsection\">\n",
       "<a aria-label=\"Travel Videos\" class=\"subnav__subsection-link\" data-zjs=\"click\" data-zjs-component_id=\"https://www.cnn.com/travel/videos\" data-zjs-component_text=\"Videos\" data-zjs-component_type=\"link\" data-zjs-container_id=\"\" data-zjs-container_type=\"navigation\" data-zjs-destination_url=\"https://www.cnn.com/travel/videos\" data-zjs-navigation-location=\"\" data-zjs-navigation-type=\"sub\" data-zjs-page_type=\"article\" data-zjs-page_variant=\"article_leaf\" href=\"https://www.cnn.com/travel/videos\">\n",
       "            Videos\n",
       "          </a>\n",
       "</li>\n",
       "</ul>\n",
       "</li>\n",
       "<li class=\"subnav__section\">\n",
       "<a class=\"subnav__section-link\" data-zjs=\"click\" data-zjs-component_id=\"https://www.cnn.com/sport\" data-zjs-component_text=\"Sports\" data-zjs-component_type=\"link\" data-zjs-container_id=\"\" data-zjs-container_type=\"navigation\" data-zjs-destination_url=\"https://www.cnn.com/sport\" data-zjs-navigation-location=\"\" data-zjs-navigation-type=\"sub\" data-zjs-page_type=\"article\" data-zjs-page_variant=\"article_leaf\" href=\"https://www.cnn.com/sport\">\n",
       "        Sports\n",
       "      </a>\n",
       "<ul class=\"subnav__subsections\">\n",
       "<li class=\"subnav__subsection\">\n",
       "<a aria-label=\"Sports World Cup\" class=\"subnav__subsection-link\" data-zjs=\"click\" data-zjs-component_id=\"https://www.cnn.com/specials/football/fifa-world-cup-qatar-2022\" data-zjs-component_text=\"World Cup\" data-zjs-component_type=\"link\" data-zjs-container_id=\"\" data-zjs-container_type=\"navigation\" data-zjs-destination_url=\"https://www.cnn.com/specials/football/fifa-world-cup-qatar-2022\" data-zjs-navigation-location=\"\" data-zjs-navigation-type=\"sub\" data-zjs-page_type=\"article\" data-zjs-page_variant=\"article_leaf\" href=\"https://www.cnn.com/specials/football/fifa-world-cup-qatar-2022\">\n",
       "            World Cup\n",
       "          </a>\n",
       "</li>\n",
       "<li class=\"subnav__subsection\">\n",
       "<a aria-label=\"Sports Tennis\" class=\"subnav__subsection-link\" data-zjs=\"click\" data-zjs-component_id=\"https://www.cnn.com/sport/tennis\" data-zjs-component_text=\"Tennis\" data-zjs-component_type=\"link\" data-zjs-container_id=\"\" data-zjs-container_type=\"navigation\" data-zjs-destination_url=\"https://www.cnn.com/sport/tennis\" data-zjs-navigation-location=\"\" data-zjs-navigation-type=\"sub\" data-zjs-page_type=\"article\" data-zjs-page_variant=\"article_leaf\" href=\"https://www.cnn.com/sport/tennis\">\n",
       "            Tennis\n",
       "          </a>\n",
       "</li>\n",
       "<li class=\"subnav__subsection\">\n",
       "<a aria-label=\"Sports Golf\" class=\"subnav__subsection-link\" data-zjs=\"click\" data-zjs-component_id=\"https://www.cnn.com/sport/golf\" data-zjs-component_text=\"Golf\" data-zjs-component_type=\"link\" data-zjs-container_id=\"\" data-zjs-container_type=\"navigation\" data-zjs-destination_url=\"https://www.cnn.com/sport/golf\" data-zjs-navigation-location=\"\" data-zjs-navigation-type=\"sub\" data-zjs-page_type=\"article\" data-zjs-page_variant=\"article_leaf\" href=\"https://www.cnn.com/sport/golf\">\n",
       "            Golf\n",
       "          </a>\n",
       "</li>\n",
       "<li class=\"subnav__subsection\">\n",
       "<a aria-label=\"Sports Motorsport\" class=\"subnav__subsection-link\" data-zjs=\"click\" data-zjs-component_id=\"https://www.cnn.com/sport/motorsport\" data-zjs-component_text=\"Motorsport\" data-zjs-component_type=\"link\" data-zjs-container_id=\"\" data-zjs-container_type=\"navigation\" data-zjs-destination_url=\"https://www.cnn.com/sport/motorsport\" data-zjs-navigation-location=\"\" data-zjs-navigation-type=\"sub\" data-zjs-page_type=\"article\" data-zjs-page_variant=\"article_leaf\" href=\"https://www.cnn.com/sport/motorsport\">\n",
       "            Motorsport\n",
       "          </a>\n",
       "</li>\n",
       "<li class=\"subnav__subsection\">\n",
       "<a aria-label=\"Sports Football\" class=\"subnav__subsection-link\" data-zjs=\"click\" data-zjs-component_id=\"https://www.cnn.com/sport/football\" data-zjs-component_text=\"Football\" data-zjs-component_type=\"link\" data-zjs-container_id=\"\" data-zjs-container_type=\"navigation\" data-zjs-destination_url=\"https://www.cnn.com/sport/football\" data-zjs-navigation-location=\"\" data-zjs-navigation-type=\"sub\" data-zjs-page_type=\"article\" data-zjs-page_variant=\"article_leaf\" href=\"https://www.cnn.com/sport/football\">\n",
       "            Football\n",
       "          </a>\n",
       "</li>\n",
       "<li class=\"subnav__subsection\">\n",
       "<a aria-label=\"Sports US Sports\" class=\"subnav__subsection-link\" data-zjs=\"click\" data-zjs-component_id=\"https://www.cnn.com/specials/sport/us-sports\" data-zjs-component_text=\"US Sports\" data-zjs-component_type=\"link\" data-zjs-container_id=\"\" data-zjs-container_type=\"navigation\" data-zjs-destination_url=\"https://www.cnn.com/specials/sport/us-sports\" data-zjs-navigation-location=\"\" data-zjs-navigation-type=\"sub\" data-zjs-page_type=\"article\" data-zjs-page_variant=\"article_leaf\" href=\"https://www.cnn.com/specials/sport/us-sports\">\n",
       "            US Sports\n",
       "          </a>\n",
       "</li>\n",
       "<li class=\"subnav__subsection\">\n",
       "<a aria-label=\"Sports Olympics\" class=\"subnav__subsection-link\" data-zjs=\"click\" data-zjs-component_id=\"https://www.cnn.com/sport/olympics\" data-zjs-component_text=\"Olympics\" data-zjs-component_type=\"link\" data-zjs-container_id=\"\" data-zjs-container_type=\"navigation\" data-zjs-destination_url=\"https://www.cnn.com/sport/olympics\" data-zjs-navigation-location=\"\" data-zjs-navigation-type=\"sub\" data-zjs-page_type=\"article\" data-zjs-page_variant=\"article_leaf\" href=\"https://www.cnn.com/sport/olympics\">\n",
       "            Olympics\n",
       "          </a>\n",
       "</li>\n",
       "<li class=\"subnav__subsection\">\n",
       "<a aria-label=\"Sports Climbing\" class=\"subnav__subsection-link\" data-zjs=\"click\" data-zjs-component_id=\"https://www.cnn.com/specials/climbing\" data-zjs-component_text=\"Climbing\" data-zjs-component_type=\"link\" data-zjs-container_id=\"\" data-zjs-container_type=\"navigation\" data-zjs-destination_url=\"https://www.cnn.com/specials/climbing\" data-zjs-navigation-location=\"\" data-zjs-navigation-type=\"sub\" data-zjs-page_type=\"article\" data-zjs-page_variant=\"article_leaf\" href=\"https://www.cnn.com/specials/climbing\">\n",
       "            Climbing\n",
       "          </a>\n",
       "</li>\n",
       "<li class=\"subnav__subsection\">\n",
       "<a aria-label=\"Sports Formula E\" class=\"subnav__subsection-link\" data-zjs=\"click\" data-zjs-component_id=\"https://www.cnn.com/specials/sport/formula-e\" data-zjs-component_text=\"Formula E\" data-zjs-component_type=\"link\" data-zjs-container_id=\"\" data-zjs-container_type=\"navigation\" data-zjs-destination_url=\"https://www.cnn.com/specials/sport/formula-e\" data-zjs-navigation-location=\"\" data-zjs-navigation-type=\"sub\" data-zjs-page_type=\"article\" data-zjs-page_variant=\"article_leaf\" href=\"https://www.cnn.com/specials/sport/formula-e\">\n",
       "            Formula E\n",
       "          </a>\n",
       "</li>\n",
       "<li class=\"subnav__subsection\">\n",
       "<a aria-label=\"Sports Esports\" class=\"subnav__subsection-link\" data-zjs=\"click\" data-zjs-component_id=\"https://www.cnn.com/specials/esports\" data-zjs-component_text=\"Esports\" data-zjs-component_type=\"link\" data-zjs-container_id=\"\" data-zjs-container_type=\"navigation\" data-zjs-destination_url=\"https://www.cnn.com/specials/esports\" data-zjs-navigation-location=\"\" data-zjs-navigation-type=\"sub\" data-zjs-page_type=\"article\" data-zjs-page_variant=\"article_leaf\" href=\"https://www.cnn.com/specials/esports\">\n",
       "            Esports\n",
       "          </a>\n",
       "</li>\n",
       "<li class=\"subnav__subsection\">\n",
       "<a aria-label=\"Sports Hockey\" class=\"subnav__subsection-link\" data-zjs=\"click\" data-zjs-component_id=\"https://bleacherreport.com/nhl\" data-zjs-component_text=\"Hockey\" data-zjs-component_type=\"link\" data-zjs-container_id=\"\" data-zjs-container_type=\"navigation\" data-zjs-destination_url=\"https://bleacherreport.com/nhl\" data-zjs-navigation-location=\"\" data-zjs-navigation-type=\"sub\" data-zjs-page_type=\"article\" data-zjs-page_variant=\"article_leaf\" href=\"https://bleacherreport.com/nhl\" rel=\"noopener noreferrer\" target=\"_blank\">\n",
       "            Hockey\n",
       "          </a>\n",
       "</li>\n",
       "</ul>\n",
       "</li>\n",
       "<li class=\"subnav__section\">\n",
       "<a class=\"subnav__section-link\" data-zjs=\"click\" data-zjs-component_id=\"https://www.cnn.com/videos\" data-zjs-component_text=\"Videos\" data-zjs-component_type=\"link\" data-zjs-container_id=\"\" data-zjs-container_type=\"navigation\" data-zjs-destination_url=\"https://www.cnn.com/videos\" data-zjs-navigation-location=\"\" data-zjs-navigation-type=\"sub\" data-zjs-page_type=\"article\" data-zjs-page_variant=\"article_leaf\" href=\"https://www.cnn.com/videos\">\n",
       "        Videos\n",
       "      </a>\n",
       "<ul class=\"subnav__subsections\">\n",
       "<li class=\"subnav__subsection\">\n",
       "<a aria-label=\"Videos Live TV\" class=\"subnav__subsection-link\" data-zjs=\"click\" data-zjs-component_id=\"https://www.cnn.com/live-tv\" data-zjs-component_text=\"Live TV\" data-zjs-component_type=\"link\" data-zjs-container_id=\"\" data-zjs-container_type=\"navigation\" data-zjs-destination_url=\"https://www.cnn.com/live-tv\" data-zjs-navigation-location=\"\" data-zjs-navigation-type=\"sub\" data-zjs-page_type=\"article\" data-zjs-page_variant=\"article_leaf\" href=\"https://www.cnn.com/live-tv\">\n",
       "            Live TV\n",
       "          </a>\n",
       "</li>\n",
       "<li class=\"subnav__subsection\">\n",
       "<a aria-label=\"Videos Digital Studios\" class=\"subnav__subsection-link\" data-zjs=\"click\" data-zjs-component_id=\"https://www.cnn.com/specials/digital-studios\" data-zjs-component_text=\"Digital Studios\" data-zjs-component_type=\"link\" data-zjs-container_id=\"\" data-zjs-container_type=\"navigation\" data-zjs-destination_url=\"https://www.cnn.com/specials/digital-studios\" data-zjs-navigation-location=\"\" data-zjs-navigation-type=\"sub\" data-zjs-page_type=\"article\" data-zjs-page_variant=\"article_leaf\" href=\"https://www.cnn.com/specials/digital-studios\">\n",
       "            Digital Studios\n",
       "          </a>\n",
       "</li>\n",
       "<li class=\"subnav__subsection\">\n",
       "<a aria-label=\"Videos CNN Films\" class=\"subnav__subsection-link\" data-zjs=\"click\" data-zjs-component_id=\"https://www.cnn.com/specials/videos/digital-shorts\" data-zjs-component_text=\"CNN Films\" data-zjs-component_type=\"link\" data-zjs-container_id=\"\" data-zjs-container_type=\"navigation\" data-zjs-destination_url=\"https://www.cnn.com/specials/videos/digital-shorts\" data-zjs-navigation-location=\"\" data-zjs-navigation-type=\"sub\" data-zjs-page_type=\"article\" data-zjs-page_variant=\"article_leaf\" href=\"https://www.cnn.com/specials/videos/digital-shorts\">\n",
       "            CNN Films\n",
       "          </a>\n",
       "</li>\n",
       "<li class=\"subnav__subsection\">\n",
       "<a aria-label=\"Videos HLN\" class=\"subnav__subsection-link\" data-zjs=\"click\" data-zjs-component_id=\"https://www.cnn.com/specials/videos/hln\" data-zjs-component_text=\"HLN\" data-zjs-component_type=\"link\" data-zjs-container_id=\"\" data-zjs-container_type=\"navigation\" data-zjs-destination_url=\"https://www.cnn.com/specials/videos/hln\" data-zjs-navigation-location=\"\" data-zjs-navigation-type=\"sub\" data-zjs-page_type=\"article\" data-zjs-page_variant=\"article_leaf\" href=\"https://www.cnn.com/specials/videos/hln\">\n",
       "            HLN\n",
       "          </a>\n",
       "</li>\n",
       "<li class=\"subnav__subsection\">\n",
       "<a aria-label=\"Videos TV Schedule\" class=\"subnav__subsection-link\" data-zjs=\"click\" data-zjs-component_id=\"https://www.cnn.com/tv/schedule/cnn\" data-zjs-component_text=\"TV Schedule\" data-zjs-component_type=\"link\" data-zjs-container_id=\"\" data-zjs-container_type=\"navigation\" data-zjs-destination_url=\"https://www.cnn.com/tv/schedule/cnn\" data-zjs-navigation-location=\"\" data-zjs-navigation-type=\"sub\" data-zjs-page_type=\"article\" data-zjs-page_variant=\"article_leaf\" href=\"https://www.cnn.com/tv/schedule/cnn\">\n",
       "            TV Schedule\n",
       "          </a>\n",
       "</li>\n",
       "<li class=\"subnav__subsection\">\n",
       "<a aria-label=\"Videos TV Shows A-Z\" class=\"subnav__subsection-link\" data-zjs=\"click\" data-zjs-component_id=\"https://www.cnn.com/specials/tv/all-shows\" data-zjs-component_text=\"TV Shows A-Z\" data-zjs-component_type=\"link\" data-zjs-container_id=\"\" data-zjs-container_type=\"navigation\" data-zjs-destination_url=\"https://www.cnn.com/specials/tv/all-shows\" data-zjs-navigation-location=\"\" data-zjs-navigation-type=\"sub\" data-zjs-page_type=\"article\" data-zjs-page_variant=\"article_leaf\" href=\"https://www.cnn.com/specials/tv/all-shows\">\n",
       "            TV Shows A-Z\n",
       "          </a>\n",
       "</li>\n",
       "<li class=\"subnav__subsection\">\n",
       "<a aria-label=\"Videos CNNVR\" class=\"subnav__subsection-link\" data-zjs=\"click\" data-zjs-component_id=\"https://www.cnn.com/vr\" data-zjs-component_text=\"CNNVR\" data-zjs-component_type=\"link\" data-zjs-container_id=\"\" data-zjs-container_type=\"navigation\" data-zjs-destination_url=\"https://www.cnn.com/vr\" data-zjs-navigation-location=\"\" data-zjs-navigation-type=\"sub\" data-zjs-page_type=\"article\" data-zjs-page_variant=\"article_leaf\" href=\"https://www.cnn.com/vr\">\n",
       "            CNNVR\n",
       "          </a>\n",
       "</li>\n",
       "</ul>\n",
       "</li>\n",
       "<li class=\"subnav__section\">\n",
       "<a class=\"subnav__section-link\" data-zjs=\"click\" data-zjs-component_id=\"https://www.cnn.com/specials\" data-zjs-component_text=\"Features\" data-zjs-component_type=\"link\" data-zjs-container_id=\"\" data-zjs-container_type=\"navigation\" data-zjs-destination_url=\"https://www.cnn.com/specials\" data-zjs-navigation-location=\"\" data-zjs-navigation-type=\"sub\" data-zjs-page_type=\"article\" data-zjs-page_variant=\"article_leaf\" href=\"https://www.cnn.com/specials\">\n",
       "        Features\n",
       "      </a>\n",
       "<ul class=\"subnav__subsections\">\n",
       "<li class=\"subnav__subsection\">\n",
       "<a aria-label=\"Features As Equals\" class=\"subnav__subsection-link\" data-zjs=\"click\" data-zjs-component_id=\"https://www.cnn.com/interactive/asequals\" data-zjs-component_text=\"As Equals\" data-zjs-component_type=\"link\" data-zjs-container_id=\"\" data-zjs-container_type=\"navigation\" data-zjs-destination_url=\"https://www.cnn.com/interactive/asequals\" data-zjs-navigation-location=\"\" data-zjs-navigation-type=\"sub\" data-zjs-page_type=\"article\" data-zjs-page_variant=\"article_leaf\" href=\"https://www.cnn.com/interactive/asequals\">\n",
       "            As Equals\n",
       "          </a>\n",
       "</li>\n",
       "<li class=\"subnav__subsection\">\n",
       "<a aria-label=\"Features Call to Earth\" class=\"subnav__subsection-link\" data-zjs=\"click\" data-zjs-component_id=\"https://www.cnn.com/interactive/call-to-earth\" data-zjs-component_text=\"Call to Earth\" data-zjs-component_type=\"link\" data-zjs-container_id=\"\" data-zjs-container_type=\"navigation\" data-zjs-destination_url=\"https://www.cnn.com/interactive/call-to-earth\" data-zjs-navigation-location=\"\" data-zjs-navigation-type=\"sub\" data-zjs-page_type=\"article\" data-zjs-page_variant=\"article_leaf\" href=\"https://www.cnn.com/interactive/call-to-earth\">\n",
       "            Call to Earth\n",
       "          </a>\n",
       "</li>\n",
       "<li class=\"subnav__subsection\">\n",
       "<a aria-label=\"Features Freedom Project\" class=\"subnav__subsection-link\" data-zjs=\"click\" data-zjs-component_id=\"https://www.cnn.com/specials/world/freedom-project\" data-zjs-component_text=\"Freedom Project\" data-zjs-component_type=\"link\" data-zjs-container_id=\"\" data-zjs-container_type=\"navigation\" data-zjs-destination_url=\"https://www.cnn.com/specials/world/freedom-project\" data-zjs-navigation-location=\"\" data-zjs-navigation-type=\"sub\" data-zjs-page_type=\"article\" data-zjs-page_variant=\"article_leaf\" href=\"https://www.cnn.com/specials/world/freedom-project\">\n",
       "            Freedom Project\n",
       "          </a>\n",
       "</li>\n",
       "<li class=\"subnav__subsection\">\n",
       "<a aria-label=\"Features Impact Your World\" class=\"subnav__subsection-link\" data-zjs=\"click\" data-zjs-component_id=\"https://www.cnn.com/specials/impact-your-world\" data-zjs-component_text=\"Impact Your World\" data-zjs-component_type=\"link\" data-zjs-container_id=\"\" data-zjs-container_type=\"navigation\" data-zjs-destination_url=\"https://www.cnn.com/specials/impact-your-world\" data-zjs-navigation-location=\"\" data-zjs-navigation-type=\"sub\" data-zjs-page_type=\"article\" data-zjs-page_variant=\"article_leaf\" href=\"https://www.cnn.com/specials/impact-your-world\">\n",
       "            Impact Your World\n",
       "          </a>\n",
       "</li>\n",
       "<li class=\"subnav__subsection\">\n",
       "<a aria-label=\"Features Inside Africa\" class=\"subnav__subsection-link\" data-zjs=\"click\" data-zjs-component_id=\"https://www.cnn.com/specials/africa/inside-africa\" data-zjs-component_text=\"Inside Africa\" data-zjs-component_type=\"link\" data-zjs-container_id=\"\" data-zjs-container_type=\"navigation\" data-zjs-destination_url=\"https://www.cnn.com/specials/africa/inside-africa\" data-zjs-navigation-location=\"\" data-zjs-navigation-type=\"sub\" data-zjs-page_type=\"article\" data-zjs-page_variant=\"article_leaf\" href=\"https://www.cnn.com/specials/africa/inside-africa\">\n",
       "            Inside Africa\n",
       "          </a>\n",
       "</li>\n",
       "<li class=\"subnav__subsection\">\n",
       "<a aria-label=\"Features 2 Degrees\" class=\"subnav__subsection-link\" data-zjs=\"click\" data-zjs-component_id=\"https://www.cnn.com/specials/opinions/two-degrees\" data-zjs-component_text=\"2 Degrees\" data-zjs-component_type=\"link\" data-zjs-container_id=\"\" data-zjs-container_type=\"navigation\" data-zjs-destination_url=\"https://www.cnn.com/specials/opinions/two-degrees\" data-zjs-navigation-location=\"\" data-zjs-navigation-type=\"sub\" data-zjs-page_type=\"article\" data-zjs-page_variant=\"article_leaf\" href=\"https://www.cnn.com/specials/opinions/two-degrees\">\n",
       "            2 Degrees\n",
       "          </a>\n",
       "</li>\n",
       "<li class=\"subnav__subsection\">\n",
       "<a aria-label=\"Features CNN Heroes\" class=\"subnav__subsection-link\" data-zjs=\"click\" data-zjs-component_id=\"https://www.cnn.com/specials/cnn-heroes\" data-zjs-component_text=\"CNN Heroes\" data-zjs-component_type=\"link\" data-zjs-container_id=\"\" data-zjs-container_type=\"navigation\" data-zjs-destination_url=\"https://www.cnn.com/specials/cnn-heroes\" data-zjs-navigation-location=\"\" data-zjs-navigation-type=\"sub\" data-zjs-page_type=\"article\" data-zjs-page_variant=\"article_leaf\" href=\"https://www.cnn.com/specials/cnn-heroes\">\n",
       "            CNN Heroes\n",
       "          </a>\n",
       "</li>\n",
       "<li class=\"subnav__subsection\">\n",
       "<a aria-label=\"Features All Features\" class=\"subnav__subsection-link\" data-zjs=\"click\" data-zjs-component_id=\"https://www.cnn.com/specials\" data-zjs-component_text=\"All Features\" data-zjs-component_type=\"link\" data-zjs-container_id=\"\" data-zjs-container_type=\"navigation\" data-zjs-destination_url=\"https://www.cnn.com/specials\" data-zjs-navigation-location=\"\" data-zjs-navigation-type=\"sub\" data-zjs-page_type=\"article\" data-zjs-page_variant=\"article_leaf\" href=\"https://www.cnn.com/specials\">\n",
       "            All Features\n",
       "          </a>\n",
       "</li>\n",
       "</ul>\n",
       "</li>\n",
       "<li class=\"subnav__section\">\n",
       "<a class=\"subnav__section-link\" data-zjs=\"click\" data-zjs-component_id=\"https://www.cnn.com/weather\" data-zjs-component_text=\"Weather\" data-zjs-component_type=\"link\" data-zjs-container_id=\"\" data-zjs-container_type=\"navigation\" data-zjs-destination_url=\"https://www.cnn.com/weather\" data-zjs-navigation-location=\"\" data-zjs-navigation-type=\"sub\" data-zjs-page_type=\"article\" data-zjs-page_variant=\"article_leaf\" href=\"https://www.cnn.com/weather\">\n",
       "        Weather\n",
       "      </a>\n",
       "<ul class=\"subnav__subsections\">\n",
       "<li class=\"subnav__subsection\">\n",
       "<a aria-label=\"Weather Climate\" class=\"subnav__subsection-link\" data-zjs=\"click\" data-zjs-component_id=\"https://www.cnn.com/specials/world/cnn-climate\" data-zjs-component_text=\"Climate\" data-zjs-component_type=\"link\" data-zjs-container_id=\"\" data-zjs-container_type=\"navigation\" data-zjs-destination_url=\"https://www.cnn.com/specials/world/cnn-climate\" data-zjs-navigation-location=\"\" data-zjs-navigation-type=\"sub\" data-zjs-page_type=\"article\" data-zjs-page_variant=\"article_leaf\" href=\"https://www.cnn.com/specials/world/cnn-climate\">\n",
       "            Climate\n",
       "          </a>\n",
       "</li>\n",
       "<li class=\"subnav__subsection\">\n",
       "<a aria-label=\"Weather Storm Tracker\" class=\"subnav__subsection-link\" data-zjs=\"click\" data-zjs-component_id=\"https://www.cnn.com/interactive/2020/weather/gonzalo-storm-path-tracker/index.html\" data-zjs-component_text=\"Storm Tracker\" data-zjs-component_type=\"link\" data-zjs-container_id=\"\" data-zjs-container_type=\"navigation\" data-zjs-destination_url=\"https://www.cnn.com/interactive/2020/weather/gonzalo-storm-path-tracker/index.html\" data-zjs-navigation-location=\"\" data-zjs-navigation-type=\"sub\" data-zjs-page_type=\"article\" data-zjs-page_variant=\"article_leaf\" href=\"https://www.cnn.com/interactive/2020/weather/gonzalo-storm-path-tracker/index.html\">\n",
       "            Storm Tracker\n",
       "          </a>\n",
       "</li>\n",
       "<li class=\"subnav__subsection\">\n",
       "<a aria-label=\"Weather Wildfire Tracker\" class=\"subnav__subsection-link\" data-zjs=\"click\" data-zjs-component_id=\"https://www.cnn.com/interactive/2020/weather/wildfire-and-air-quality-tracker\" data-zjs-component_text=\"Wildfire Tracker\" data-zjs-component_type=\"link\" data-zjs-container_id=\"\" data-zjs-container_type=\"navigation\" data-zjs-destination_url=\"https://www.cnn.com/interactive/2020/weather/wildfire-and-air-quality-tracker\" data-zjs-navigation-location=\"\" data-zjs-navigation-type=\"sub\" data-zjs-page_type=\"article\" data-zjs-page_variant=\"article_leaf\" href=\"https://www.cnn.com/interactive/2020/weather/wildfire-and-air-quality-tracker\">\n",
       "            Wildfire Tracker\n",
       "          </a>\n",
       "</li>\n",
       "<li class=\"subnav__subsection\">\n",
       "<a aria-label=\"Weather Video\" class=\"subnav__subsection-link\" data-zjs=\"click\" data-zjs-component_id=\"https://www.cnn.com/specials/weather/weather-video\" data-zjs-component_text=\"Video\" data-zjs-component_type=\"link\" data-zjs-container_id=\"\" data-zjs-container_type=\"navigation\" data-zjs-destination_url=\"https://www.cnn.com/specials/weather/weather-video\" data-zjs-navigation-location=\"\" data-zjs-navigation-type=\"sub\" data-zjs-page_type=\"article\" data-zjs-page_variant=\"article_leaf\" href=\"https://www.cnn.com/specials/weather/weather-video\">\n",
       "            Video\n",
       "          </a>\n",
       "</li>\n",
       "</ul>\n",
       "</li>\n",
       "<li class=\"subnav__section\">\n",
       "<a aria-label=\"More CNN\" class=\"subnav__section-link\" data-zjs=\"click\" data-zjs-component_id=\"https://www.cnn.com/more\" data-zjs-component_text=\"More\" data-zjs-component_type=\"link\" data-zjs-container_id=\"\" data-zjs-container_type=\"navigation\" data-zjs-destination_url=\"https://www.cnn.com/more\" data-zjs-navigation-location=\"\" data-zjs-navigation-type=\"sub\" data-zjs-page_type=\"article\" data-zjs-page_variant=\"article_leaf\" href=\"https://www.cnn.com/more\">\n",
       "        More\n",
       "      </a>\n",
       "<ul class=\"subnav__subsections\">\n",
       "<li class=\"subnav__subsection\">\n",
       "<a aria-label=\"More Photos\" class=\"subnav__subsection-link\" data-zjs=\"click\" data-zjs-component_id=\"https://www.cnn.com/specials/photos\" data-zjs-component_text=\"Photos\" data-zjs-component_type=\"link\" data-zjs-container_id=\"\" data-zjs-container_type=\"navigation\" data-zjs-destination_url=\"https://www.cnn.com/specials/photos\" data-zjs-navigation-location=\"\" data-zjs-navigation-type=\"sub\" data-zjs-page_type=\"article\" data-zjs-page_variant=\"article_leaf\" href=\"https://www.cnn.com/specials/photos\">\n",
       "            Photos\n",
       "          </a>\n",
       "</li>\n",
       "<li class=\"subnav__subsection\">\n",
       "<a aria-label=\"More Longform\" class=\"subnav__subsection-link\" data-zjs=\"click\" data-zjs-component_id=\"https://www.cnn.com/specials/cnn-longform\" data-zjs-component_text=\"Longform\" data-zjs-component_type=\"link\" data-zjs-container_id=\"\" data-zjs-container_type=\"navigation\" data-zjs-destination_url=\"https://www.cnn.com/specials/cnn-longform\" data-zjs-navigation-location=\"\" data-zjs-navigation-type=\"sub\" data-zjs-page_type=\"article\" data-zjs-page_variant=\"article_leaf\" href=\"https://www.cnn.com/specials/cnn-longform\">\n",
       "            Longform\n",
       "          </a>\n",
       "</li>\n",
       "<li class=\"subnav__subsection\">\n",
       "<a aria-label=\"More Investigations\" class=\"subnav__subsection-link\" data-zjs=\"click\" data-zjs-component_id=\"https://www.cnn.com/specials/cnn-investigates\" data-zjs-component_text=\"Investigations\" data-zjs-component_type=\"link\" data-zjs-container_id=\"\" data-zjs-container_type=\"navigation\" data-zjs-destination_url=\"https://www.cnn.com/specials/cnn-investigates\" data-zjs-navigation-location=\"\" data-zjs-navigation-type=\"sub\" data-zjs-page_type=\"article\" data-zjs-page_variant=\"article_leaf\" href=\"https://www.cnn.com/specials/cnn-investigates\">\n",
       "            Investigations\n",
       "          </a>\n",
       "</li>\n",
       "<li class=\"subnav__subsection\">\n",
       "<a aria-label=\"More CNN Profiles\" class=\"subnav__subsection-link\" data-zjs=\"click\" data-zjs-component_id=\"https://www.cnn.com/specials/profiles\" data-zjs-component_text=\"CNN Profiles\" data-zjs-component_type=\"link\" data-zjs-container_id=\"\" data-zjs-container_type=\"navigation\" data-zjs-destination_url=\"https://www.cnn.com/specials/profiles\" data-zjs-navigation-location=\"\" data-zjs-navigation-type=\"sub\" data-zjs-page_type=\"article\" data-zjs-page_variant=\"article_leaf\" href=\"https://www.cnn.com/specials/profiles\">\n",
       "            CNN Profiles\n",
       "          </a>\n",
       "</li>\n",
       "<li class=\"subnav__subsection\">\n",
       "<a aria-label=\"More CNN Leadership\" class=\"subnav__subsection-link\" data-zjs=\"click\" data-zjs-component_id=\"https://www.cnn.com/specials/more/cnn-leadership\" data-zjs-component_text=\"CNN Leadership\" data-zjs-component_type=\"link\" data-zjs-container_id=\"\" data-zjs-container_type=\"navigation\" data-zjs-destination_url=\"https://www.cnn.com/specials/more/cnn-leadership\" data-zjs-navigation-location=\"\" data-zjs-navigation-type=\"sub\" data-zjs-page_type=\"article\" data-zjs-page_variant=\"article_leaf\" href=\"https://www.cnn.com/specials/more/cnn-leadership\">\n",
       "            CNN Leadership\n",
       "          </a>\n",
       "</li>\n",
       "<li class=\"subnav__subsection\">\n",
       "<a aria-label=\"More CNN Newsletters\" class=\"subnav__subsection-link\" data-zjs=\"click\" data-zjs-component_id=\"https://www.cnn.com/email/subscription\" data-zjs-component_text=\"CNN Newsletters\" data-zjs-component_type=\"link\" data-zjs-container_id=\"\" data-zjs-container_type=\"navigation\" data-zjs-destination_url=\"https://www.cnn.com/email/subscription\" data-zjs-navigation-location=\"\" data-zjs-navigation-type=\"sub\" data-zjs-page_type=\"article\" data-zjs-page_variant=\"article_leaf\" href=\"https://www.cnn.com/email/subscription\">\n",
       "            CNN Newsletters\n",
       "          </a>\n",
       "</li>\n",
       "<li class=\"subnav__subsection\">\n",
       "<a aria-label=\"More Work for CNN\" class=\"subnav__subsection-link\" data-zjs=\"click\" data-zjs-component_id=\"https://www.turnerjobs.com/search-jobs?orgIds=1174&amp;ac=19299\" data-zjs-component_text=\"Work for CNN\" data-zjs-component_type=\"link\" data-zjs-container_id=\"\" data-zjs-container_type=\"navigation\" data-zjs-destination_url=\"https://www.turnerjobs.com/search-jobs?orgIds=1174&amp;ac=19299\" data-zjs-navigation-location=\"\" data-zjs-navigation-type=\"sub\" data-zjs-page_type=\"article\" data-zjs-page_variant=\"article_leaf\" href=\"https://www.turnerjobs.com/search-jobs?orgIds=1174&amp;ac=19299\" rel=\"noopener noreferrer\" target=\"_blank\">\n",
       "            Work for CNN\n",
       "          </a>\n",
       "</li>\n",
       "</ul>\n",
       "</li>\n",
       "</ul>\n",
       "</nav>\n",
       "</div>\n",
       "</div>\n",
       "</div>\n",
       "</div>\n",
       "</nav>\n",
       "</div>\n",
       "</div>\n",
       "</div>\n",
       "</div>"
      ]
     },
     "execution_count": 34,
     "metadata": {},
     "output_type": "execute_result"
    }
   ],
   "source": [
    "soup.find('div')"
   ]
  },
  {
   "cell_type": "markdown",
   "metadata": {
    "id": "BYFWFXHlV8G5"
   },
   "source": [
    "## 2. 동적 페이지 -  Selenium"
   ]
  },
  {
   "attachments": {},
   "cell_type": "markdown",
   "metadata": {},
   "source": [
    "* 고려대학교 네이버 썸네일 이미지 가져오기\n",
    "* 고려대학교 썸네일 이미지 출력하기\n",
    "\n",
    "(*힌트: from PIL import Image와 import urllib.request)"
   ]
  },
  {
   "cell_type": "code",
   "execution_count": 35,
   "metadata": {
    "colab": {
     "base_uri": "https://localhost:8080/",
     "height": 623
    },
    "executionInfo": {
     "elapsed": 1724,
     "status": "error",
     "timestamp": 1675767298914,
     "user": {
      "displayName": "성현준(인공지능융합대학 컴퓨터과학과)",
      "userId": "03710601677353276129"
     },
     "user_tz": -540
    },
    "id": "OSV3vRrgd7DA",
    "outputId": "1147b067-3c0a-46aa-f929-314d7478c99d"
   },
   "outputs": [],
   "source": [
    "import selenium\n",
    "from selenium import webdriver\n",
    "\n",
    "driver = webdriver.Chrome()"
   ]
  },
  {
   "cell_type": "code",
   "execution_count": 36,
   "metadata": {
    "id": "VA70xIVMV8G6"
   },
   "outputs": [],
   "source": [
    "from selenium.webdriver.common.by import By\n",
    "from selenium.webdriver.common.keys import Keys\n",
    "\n",
    "# 네이버로 URL 이동\n",
    "driver.get('https://www.naver.com/') \n",
    "\n",
    "# 웹 페이지 요소 로드를 기다림\n",
    "driver.implicitly_wait(5)"
   ]
  },
  {
   "cell_type": "markdown",
   "metadata": {
    "id": "FopGC3sfd7DC"
   },
   "source": [
    "### XPATH를 이용하여 웹 페이지 요소 가져오기"
   ]
  },
  {
   "cell_type": "code",
   "execution_count": 37,
   "metadata": {
    "id": "Z1m49DnHd7DC"
   },
   "outputs": [],
   "source": [
    "# XPATH를 이용하여 검색창에 해당하는 요소 찾기\n",
    "search = driver.find_element(By.XPATH, '//*[@id=\"query\"]')"
   ]
  },
  {
   "cell_type": "code",
   "execution_count": 38,
   "metadata": {
    "id": "JHdnPeFid7DC"
   },
   "outputs": [],
   "source": [
    "# '고려대학교' 검색어 입력\n",
    "search.send_keys('고려대학교')"
   ]
  },
  {
   "cell_type": "code",
   "execution_count": 39,
   "metadata": {
    "id": "JSVtQNTNd7DD"
   },
   "outputs": [],
   "source": [
    "# Keys.RETURN = Enter 입력\n",
    "search.send_keys(Keys.RETURN)"
   ]
  },
  {
   "cell_type": "code",
   "execution_count": 40,
   "metadata": {
    "id": "rq48mk83d7DD"
   },
   "outputs": [],
   "source": [
    "img = driver.find_element(By.XPATH, '//*[@id=\"main_pack\"]/div[3]/div[2]/div[1]/div/div[2]/a/img')\n",
    "img_url = img.get_attribute('src')"
   ]
  },
  {
   "cell_type": "code",
   "execution_count": 42,
   "metadata": {
    "id": "faO7xj2Rd7DD"
   },
   "outputs": [
    {
     "name": "stdout",
     "output_type": "stream",
     "text": [
      "https://search.pstatic.net/common?type=f&size=174x174&quality=100&direct=true&src=https%3A%2F%2Fldb-phinf.pstatic.net%2F20150831_220%2F1441001225877J3yXl_JPEG%2F11591604_0.jpg\n"
     ]
    }
   ],
   "source": [
    "print(img_url)"
   ]
  },
  {
   "cell_type": "code",
   "execution_count": 43,
   "metadata": {
    "id": "knePBUvjV8G7"
   },
   "outputs": [],
   "source": [
    "# 브라우저 닫기\n",
    "driver.close()"
   ]
  },
  {
   "cell_type": "markdown",
   "metadata": {
    "id": "KjhQLQiSabny"
   },
   "source": [
    "## Thanks to 19기 배지호, 20기 임우찬"
   ]
  }
 ],
 "metadata": {
  "colab": {
   "provenance": []
  },
  "kernelspec": {
   "display_name": "Python 3 (ipykernel)",
   "language": "python",
   "name": "python3"
  },
  "language_info": {
   "codemirror_mode": {
    "name": "ipython",
    "version": 3
   },
   "file_extension": ".py",
   "mimetype": "text/x-python",
   "name": "python",
   "nbconvert_exporter": "python",
   "pygments_lexer": "ipython3",
   "version": "3.9.13"
  }
 },
 "nbformat": 4,
 "nbformat_minor": 1
}

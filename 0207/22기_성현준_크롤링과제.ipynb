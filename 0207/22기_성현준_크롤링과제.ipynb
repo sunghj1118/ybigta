{
 "cells": [
  {
   "cell_type": "markdown",
   "metadata": {
    "id": "xFZz2meUFRSG"
   },
   "source": [
    "## Requests, BeautifulSoup, Selenium 다운로드"
   ]
  },
  {
   "cell_type": "code",
   "execution_count": null,
   "metadata": {
    "colab": {
     "base_uri": "https://localhost:8080/"
    },
    "executionInfo": {
     "elapsed": 19632,
     "status": "ok",
     "timestamp": 1675766572323,
     "user": {
      "displayName": "성현준(인공지능융합대학 컴퓨터과학과)",
      "userId": "03710601677353276129"
     },
     "user_tz": -540
    },
    "id": "1nw791l8V8GX",
    "outputId": "1a339c4b-1968-4709-8e12-58ddc97f271a",
    "scrolled": true
   },
   "outputs": [],
   "source": [
    "!pip3 install requests\n",
    "!pip3 install bs4\n",
    "!pip3 install selenium"
   ]
  },
  {
   "attachments": {},
   "cell_type": "markdown",
   "metadata": {
    "id": "F5X_2leVV8Gg"
   },
   "source": [
    "### 과제 제출 형식"
   ]
  },
  {
   "attachments": {},
   "cell_type": "markdown",
   "metadata": {},
   "source": [
    "1번 과제 : 가져온 데이터를 이용하여 column이 월(Month),\n",
    "일(Day), 학사 일정(event)인 데이터프레임 만들기\n",
    "\n",
    "2번 과제 : 고려대학교 썸네일 이미지 출력하기. 어려우시면\n",
    "썸네일 이미지 URL만 적어두셔도 됩니다.\n",
    "(*힌트 : from PIL import Image와 import urllib.request)\n",
    "\n",
    "*파일 형식 : 22기_OOO_크롤링과제.ipynb"
   ]
  },
  {
   "attachments": {},
   "cell_type": "markdown",
   "metadata": {
    "id": "e6XhIHujd7C4"
   },
   "source": [
    "## 1. 연세대학교 홈페이지"
   ]
  },
  {
   "attachments": {},
   "cell_type": "markdown",
   "metadata": {},
   "source": [
    "* 연세대학교 홈페이지에서 2, 3월 학사정보 가져오기\n",
    "* 연세대학교 홈페이지 (https://www.yonsei.ac.kr/sc/)\n",
    "* 학사지원 - 학사일정\n",
    "* 가져온 데이터를 이용하여 column이 월(Month), 일(Day), 학사 일정(event)인 데이터프레임 만들기"
   ]
  },
  {
   "cell_type": "code",
   "execution_count": null,
   "metadata": {},
   "outputs": [],
   "source": [
    "import requests\n",
    "from bs4 import BeautifulSoup"
   ]
  },
  {
   "cell_type": "code",
   "execution_count": null,
   "metadata": {},
   "outputs": [],
   "source": [
    "# !pip install pandas\n",
    "import numpy as np\n",
    "import pandas as pd\n",
    "\n",
    "import warnings\n",
    "warnings.filterwarnings(action='ignore')"
   ]
  },
  {
   "cell_type": "code",
   "execution_count": null,
   "metadata": {
    "executionInfo": {
     "elapsed": 294,
     "status": "ok",
     "timestamp": 1675766938429,
     "user": {
      "displayName": "성현준(인공지능융합대학 컴퓨터과학과)",
      "userId": "03710601677353276129"
     },
     "user_tz": -540
    },
    "id": "nPMYsL5QnYs7"
   },
   "outputs": [],
   "source": [
    "# 학사지원 - 학사일정 URL 갖고오기\n",
    "url = 'https://www.yonsei.ac.kr/sc/support/calendar.jsp'\n",
    "res = requests.get(url)\n",
    "\n",
    "# 첫번째 인자를 텍스트로 넣어줘야 함\n",
    "soup = BeautifulSoup(res.text, 'html.parser')"
   ]
  },
  {
   "cell_type": "code",
   "execution_count": null,
   "metadata": {},
   "outputs": [],
   "source": [
    "# 데이터프레임 칼럼 정의\n",
    "df = pd.DataFrame(columns=[\"Month\",\"Day\",\"Event\"])"
   ]
  },
  {
   "attachments": {},
   "cell_type": "markdown",
   "metadata": {},
   "source": [
    "### 2월 불러오기"
   ]
  },
  {
   "cell_type": "code",
   "execution_count": null,
   "metadata": {},
   "outputs": [],
   "source": [
    "# 첫 tr tag에서만 월이 표시되기 때문에 재사용한다\n",
    "att = soup.find_all('tr')[0].get_text().replace('\\n', '').replace('\\t', '').replace('\\xa0', '')\n",
    "month, date, event = att.split()\n",
    "date = date[3:]\n",
    "df.loc[0] = [month, date, event]"
   ]
  },
  {
   "cell_type": "code",
   "execution_count": null,
   "metadata": {},
   "outputs": [],
   "source": [
    "# 2번째 일정\n",
    "att = soup.find_all('tr')[1].get_text().replace('\\n', '').replace('\\t', '').replace('\\xa0', '')\n",
    "date, event = att.split()\n",
    "df.loc[1] = [month, date, event]"
   ]
  },
  {
   "cell_type": "code",
   "execution_count": null,
   "metadata": {},
   "outputs": [],
   "source": [
    "# 3번째 일정\n",
    "att = soup.find_all('tr')[2].get_text().replace('\\n', '').replace('\\t', '').replace('\\xa0', '')\n",
    "date, event = att.split()\n",
    "df.loc[2] = [month, date, event]"
   ]
  },
  {
   "cell_type": "code",
   "execution_count": null,
   "metadata": {},
   "outputs": [],
   "source": [
    "# 4번째 일정\n",
    "att = soup.find_all('tr')[3].get_text().replace('\\n', '').replace('\\t', '').replace('\\xa0', '')\n",
    "date, event = att.split()\n",
    "df.loc[3] = [month, date, event]"
   ]
  },
  {
   "cell_type": "code",
   "execution_count": null,
   "metadata": {},
   "outputs": [],
   "source": [
    "# 5번째 일정\n",
    "att = soup.find_all('tr')[4].get_text().replace('\\n', '').replace('\\t', '').replace('\\xa0', '')\n",
    "date, event = att.split()\n",
    "df.loc[4] = [month, date, event]"
   ]
  },
  {
   "cell_type": "code",
   "execution_count": null,
   "metadata": {},
   "outputs": [],
   "source": [
    "# 6번째 일정\n",
    "att = soup.find_all('tr')[5].get_text().replace('\\n', '').replace('\\t', '').replace('\\xa0', '')\n",
    "date, event = att.split()\n",
    "df.loc[5] = [month, date, event]"
   ]
  },
  {
   "attachments": {},
   "cell_type": "markdown",
   "metadata": {},
   "source": [
    "### 3월 불러오기"
   ]
  },
  {
   "cell_type": "code",
   "execution_count": null,
   "metadata": {},
   "outputs": [],
   "source": [
    "# 첫 tr tag에서만 월이 표시되기 때문에 재사용한다\n",
    "att = soup.find_all('tr')[6].get_text().replace('\\n', '').replace('\\t', '').replace('\\xa0', '')\n",
    "month, date, event = att.split()\n",
    "date = date[3:]\n",
    "df.loc[6] = [month, date, event]"
   ]
  },
  {
   "cell_type": "code",
   "execution_count": null,
   "metadata": {},
   "outputs": [],
   "source": [
    "# 2번째 일정\n",
    "att = soup.find_all('tr')[7].get_text().replace('\\n', '').replace('\\t', '').replace('\\xa0', '')\n",
    "date, event = att.split()\n",
    "df.loc[7] = [month, date, event]"
   ]
  },
  {
   "cell_type": "code",
   "execution_count": null,
   "metadata": {},
   "outputs": [],
   "source": [
    "# 3번째 일정\n",
    "att = soup.find_all('tr')[8].get_text().replace('\\n', '').replace('\\t', '').replace('\\xa0', '')\n",
    "date, event = att.split()\n",
    "df.loc[8] = [month, date, event]"
   ]
  },
  {
   "cell_type": "code",
   "execution_count": null,
   "metadata": {},
   "outputs": [],
   "source": [
    "# 4번째 일정\n",
    "att = soup.find_all('tr')[9].get_text().replace('\\n', '').replace('\\t', '').replace('\\xa0', '')\n",
    "date, event = att.split()\n",
    "df.loc[9] = [month, date, event]"
   ]
  },
  {
   "cell_type": "code",
   "execution_count": null,
   "metadata": {},
   "outputs": [],
   "source": [
    "# 5번째 일정\n",
    "att = soup.find_all('tr')[10].get_text().replace('\\n', '').replace('\\t', '').replace('\\xa0', '')\n",
    "date, event = att.split()\n",
    "df.loc[10] = [month, date, event]"
   ]
  },
  {
   "cell_type": "code",
   "execution_count": null,
   "metadata": {},
   "outputs": [],
   "source": [
    "# 6번째 일정\n",
    "att = soup.find_all('tr')[11].get_text().replace('\\n', '').replace('\\t', '').replace('\\xa0', '')\n",
    "date, event = att.split()\n",
    "df.loc[11] = [month, date, event]"
   ]
  },
  {
   "cell_type": "code",
   "execution_count": null,
   "metadata": {},
   "outputs": [],
   "source": [
    "# Soup로 반복문 돌리는 시도를 했다가 실패하여 일단은 이렇게 구현시켜놨습니다. \n",
    "# 신입 기수 프로젝트 크롤링이 빨리 끝나면 다시 한번 보겠습니다.\n",
    "df"
   ]
  },
  {
   "cell_type": "markdown",
   "metadata": {
    "id": "BYFWFXHlV8G5"
   },
   "source": [
    "## 2. 동적 페이지 -  Selenium"
   ]
  },
  {
   "attachments": {},
   "cell_type": "markdown",
   "metadata": {},
   "source": [
    "* 고려대학교 네이버 썸네일 이미지 가져오기\n",
    "* 고려대학교 썸네일 이미지 출력하기\n",
    "\n",
    "(*힌트: from PIL import Image와 import urllib.request)"
   ]
  },
  {
   "cell_type": "code",
   "execution_count": 35,
   "metadata": {
    "colab": {
     "base_uri": "https://localhost:8080/",
     "height": 623
    },
    "executionInfo": {
     "elapsed": 1724,
     "status": "error",
     "timestamp": 1675767298914,
     "user": {
      "displayName": "성현준(인공지능융합대학 컴퓨터과학과)",
      "userId": "03710601677353276129"
     },
     "user_tz": -540
    },
    "id": "OSV3vRrgd7DA",
    "outputId": "1147b067-3c0a-46aa-f929-314d7478c99d"
   },
   "outputs": [],
   "source": [
    "import selenium\n",
    "from selenium import webdriver\n",
    "\n",
    "driver = webdriver.Chrome()"
   ]
  },
  {
   "cell_type": "code",
   "execution_count": 36,
   "metadata": {
    "id": "VA70xIVMV8G6"
   },
   "outputs": [],
   "source": [
    "from selenium.webdriver.common.by import By\n",
    "from selenium.webdriver.common.keys import Keys\n",
    "\n",
    "# 네이버로 URL 이동\n",
    "driver.get('https://www.naver.com/') \n",
    "\n",
    "# 웹 페이지 요소 로드를 기다림\n",
    "driver.implicitly_wait(5)"
   ]
  },
  {
   "cell_type": "markdown",
   "metadata": {
    "id": "FopGC3sfd7DC"
   },
   "source": [
    "### XPATH를 이용하여 웹 페이지 요소 가져오기"
   ]
  },
  {
   "cell_type": "code",
   "execution_count": 37,
   "metadata": {
    "id": "Z1m49DnHd7DC"
   },
   "outputs": [],
   "source": [
    "# XPATH를 이용하여 검색창에 해당하는 요소 찾기\n",
    "search = driver.find_element(By.XPATH, '//*[@id=\"query\"]')"
   ]
  },
  {
   "cell_type": "code",
   "execution_count": 38,
   "metadata": {
    "id": "JHdnPeFid7DC"
   },
   "outputs": [],
   "source": [
    "# '고려대학교' 검색어 입력\n",
    "search.send_keys('고려대학교')"
   ]
  },
  {
   "cell_type": "code",
   "execution_count": 39,
   "metadata": {
    "id": "JSVtQNTNd7DD"
   },
   "outputs": [],
   "source": [
    "# Keys.RETURN = Enter 입력\n",
    "search.send_keys(Keys.RETURN)"
   ]
  },
  {
   "cell_type": "code",
   "execution_count": 40,
   "metadata": {
    "id": "rq48mk83d7DD"
   },
   "outputs": [],
   "source": [
    "# '고려대학교' query를 검색했을때 나오는 썸네일 element의 XPATH 저장\n",
    "img = driver.find_element(By.XPATH, '//*[@id=\"main_pack\"]/div[2]/div[2]/div[1]/div/div[2]/a/img')\n",
    "img_url = img.get_attribute('src')"
   ]
  },
  {
   "cell_type": "code",
   "execution_count": 42,
   "metadata": {
    "id": "faO7xj2Rd7DD"
   },
   "outputs": [
    {
     "name": "stdout",
     "output_type": "stream",
     "text": [
      "https://search.pstatic.net/common?type=f&size=174x174&quality=100&direct=true&src=https%3A%2F%2Fldb-phinf.pstatic.net%2F20150831_220%2F1441001225877J3yXl_JPEG%2F11591604_0.jpg\n"
     ]
    }
   ],
   "source": [
    "# 고려대학교 썸네일 URL 출력\n",
    "print(img_url)"
   ]
  },
  {
   "cell_type": "code",
   "execution_count": null,
   "metadata": {},
   "outputs": [],
   "source": [
    "# 사진 출력을 위한 PILLOW 다운로드\n",
    "!pip3 install pillow"
   ]
  },
  {
   "cell_type": "code",
   "execution_count": null,
   "metadata": {},
   "outputs": [],
   "source": [
    "# 필요한 라이브러리를 불러오기\n",
    "import urllib.request \n",
    "from PIL import Image"
   ]
  },
  {
   "cell_type": "code",
   "execution_count": null,
   "metadata": {},
   "outputs": [],
   "source": [
    "# 사진을 URL request로 받고 출력\n",
    "urllib.request.urlretrieve(img_url, \"thumbnail\")\n",
    "img = Image.open(\"thumbnail\")\n",
    "img.show()"
   ]
  },
  {
   "cell_type": "code",
   "execution_count": 43,
   "metadata": {
    "id": "knePBUvjV8G7"
   },
   "outputs": [],
   "source": [
    "# 브라우저 닫기\n",
    "driver.close()"
   ]
  }
 ],
 "metadata": {
  "colab": {
   "provenance": []
  },
  "kernelspec": {
   "display_name": "Python 3",
   "language": "python",
   "name": "python3"
  },
  "language_info": {
   "codemirror_mode": {
    "name": "ipython",
    "version": 3
   },
   "file_extension": ".py",
   "mimetype": "text/x-python",
   "name": "python",
   "nbconvert_exporter": "python",
   "pygments_lexer": "ipython3",
   "version": "3.11.0"
  },
  "vscode": {
   "interpreter": {
    "hash": "c261aea317cc0286b3b3261fbba9abdec21eaa57589985bb7a274bf54d6cc0a7"
   }
  }
 },
 "nbformat": 4,
 "nbformat_minor": 1
}
